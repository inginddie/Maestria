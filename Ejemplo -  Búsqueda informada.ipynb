{
 "cells": [
  {
   "cell_type": "markdown",
   "metadata": {
    "cell_id": "76f051830f69416c8386c23b344073c1",
    "deepnote_cell_type": "markdown",
    "tags": []
   },
   "source": [
    "# __Formulación problemas de búsqueda__\n",
    "\n",
    "La clase abstracta `SearchProblem` servirá como una plantilla general para el proceso de formulación del problema como un problema de búsqueda. Cualquier implementación deberá heredar de esta clase"
   ]
  },
  {
   "cell_type": "code",
   "execution_count": null,
   "metadata": {
    "cell_id": "d571342b45bc4e8f89618c24f747e77a",
    "deepnote_cell_type": "code",
    "deepnote_to_be_reexecuted": false,
    "execution_millis": 18,
    "execution_start": 1677875322244,
    "source_hash": "43cc5650",
    "tags": []
   },
   "outputs": [],
   "source": [
    "class SearchProblem(object):\n",
    "    \"\"\"The abstract class for a formal problem. A new domain subclasses this,\n",
    "    overriding `actions` and `results`, and perhaps other methods.\n",
    "    The default heuristic is 0 and the default action cost is 1 for all states.\n",
    "    When you create an instance of a subclass, specify `initial`, and `goal` states \n",
    "    (or give an `is_goal` method) and perhaps other keyword args for the subclass.\"\"\"\n",
    "\n",
    "    def __init__(self, initial, goal=None, **kwds): \n",
    "        \"\"\"The constructor specifies the initial state, and possibly a goal\n",
    "        state, if there is a unique goal. Your subclass's constructor can add\n",
    "        other arguments.\"\"\"\n",
    "        self.initial = initial\n",
    "        self.goal = goal\n",
    "\n",
    "        \n",
    "    def actions(self, node):\n",
    "        \"\"\"Return the actions that can be executed in the given\n",
    "        state. The result would typically be a list, but if there are\n",
    "        many actions, consider yielding them one at a time in an\n",
    "        iterator, rather than building them all at once.\"\"\"        \n",
    "        raise NotImplementedError\n",
    "        \n",
    "    def result(self, node, action): \n",
    "        \"\"\"Return the state that results from executing the given\n",
    "        action in the given state. The action must be one of\n",
    "        self.actions(state).\"\"\"\n",
    "        raise NotImplementedError\n",
    "        \n",
    "    def is_goal(self, node): \n",
    "        \"\"\"Return True if the state is a goal. The default method compares the\n",
    "        state to self.goal or checks for state in self.goal if it is a\n",
    "        list, as specified in the constructor. Override this method if\n",
    "        checking against a single self.goal is not enough.\"\"\"      \n",
    "        return self.goal == node\n",
    "    \n",
    "    def action_cost(self, s, a, s1): \n",
    "        \"\"\"Return the cost of a solution path that arrives at state s1 from\n",
    "        state s via action a. If the problem\n",
    "        is such that the path doesn't matter, this function will only look at\n",
    "        state s1.  If the path does matter, it will consider state s1\n",
    "        and action a. The default method costs 1 for every step in the path.\"\"\"\n",
    "        return 1\n",
    "\n",
    "    def h(self, node):\n",
    "     raise NotImplementedError \n",
    "     \n",
    "    def g(self, node):\n",
    "     return node.path_cost()\n",
    "\n",
    "    def f(self, node):\n",
    "     return self.g(node) + self.h(node)            "
   ]
  },
  {
   "cell_type": "code",
   "execution_count": null,
   "metadata": {
    "cell_id": "60c2af15e2354465985ef047ee4897c1",
    "deepnote_cell_type": "code",
    "deepnote_to_be_reexecuted": false,
    "execution_millis": 3,
    "execution_start": 1677875322260,
    "source_hash": "50d60e1c",
    "tags": []
   },
   "outputs": [],
   "source": [
    "class Node:\n",
    "    def __init__(self, state='', parent=None, action=None, cost=1):\n",
    "        self.state = state\n",
    "        self.parent = parent\n",
    "        self.action = action\n",
    "\n",
    "    def states_path(self):\n",
    "        if self.parent == None:\n",
    "            return [self]\n",
    "        return self.parent.states_path() + [self]\n",
    "    \n",
    "    def actions_path(self):\n",
    "        if self.parent == None:\n",
    "            return []\n",
    "        return self.parent.actions_path() + [self.action]        \n",
    "\n",
    "    def __eq__(self, node):\n",
    "        if node:\n",
    "            return self.state == node.state\n",
    "        return False    \n",
    "\n",
    "    def path_cost(self):\n",
    "        total_cost = 0\n",
    "        if self.parent is None:\n",
    "            return total_cost\n",
    "        total_cost += self.cost + self.parent.path_cost()\n",
    "        return total_cost \n",
    "\n",
    "    def __repr__(self):\n",
    "        return self.state  "
   ]
  },
  {
   "cell_type": "markdown",
   "metadata": {
    "cell_id": "17d9fbf4d7dc427e98ba1818e75c8af3",
    "deepnote_cell_type": "markdown",
    "tags": []
   },
   "source": [
    "## Estructuras de datos - Cola de Prioridad"
   ]
  },
  {
   "cell_type": "code",
   "execution_count": null,
   "metadata": {
    "cell_id": "d4b74203928148ec8a639dc8ef8e618d",
    "deepnote_cell_type": "code",
    "deepnote_to_be_reexecuted": false,
    "execution_millis": 3,
    "execution_start": 1677875322260,
    "source_hash": "88974abf",
    "tags": []
   },
   "outputs": [],
   "source": [
    "import heapq\n",
    "class PriorityQueue:\n",
    "    \"\"\"\n",
    "      Implements a priority queue data structure. Each inserted item\n",
    "      has a priority associated with it and the client is usually interested\n",
    "      in quick retrieval of the lowest-priority item in the queue. This\n",
    "      data structure allows O(1) access to the lowest-priority item.\n",
    "    \"\"\"\n",
    "    def  __init__(self):\n",
    "        self.heap = []\n",
    "        self.count = 0\n",
    "\n",
    "    def push(self, item, priority):\n",
    "        entry = (priority, self.count, item)\n",
    "        heapq.heappush(self.heap, entry)\n",
    "        self.count += 1\n",
    "\n",
    "    def pop(self):\n",
    "        (_, _, item) = heapq.heappop(self.heap)\n",
    "        return item\n",
    "\n",
    "    def isEmpty(self):\n",
    "        return len(self.heap) == 0\n",
    "\n",
    "    def update(self, item, priority):\n",
    "        # If item already in priority queue with higher priority, update its priority and rebuild the heap.\n",
    "        # If item already in priority queue with equal or lower priority, do nothing.\n",
    "        # If item not in priority queue, do the same thing as self.push.\n",
    "        for index, (p, c, i) in enumerate(self.heap):\n",
    "            if i == item:\n",
    "                if p <= priority:\n",
    "                    break\n",
    "                del self.heap[index]\n",
    "                self.heap.append((priority, c, item))\n",
    "                heapq.heapify(self.heap)\n",
    "                break\n",
    "        else:\n",
    "            self.push(item, priority)         "
   ]
  },
  {
   "cell_type": "markdown",
   "metadata": {
    "cell_id": "8726c1f55d9d49328335a34916976d2f",
    "deepnote_cell_type": "markdown",
    "tags": []
   },
   "source": [
    "# UCS"
   ]
  },
  {
   "cell_type": "code",
   "execution_count": null,
   "metadata": {
    "cell_id": "7011885f1baa433d852cfcf17101bf25",
    "deepnote_cell_type": "code",
    "deepnote_to_be_reexecuted": false,
    "execution_millis": 5,
    "execution_start": 1677875322264,
    "source_hash": "af6fd7e",
    "tags": []
   },
   "outputs": [],
   "source": [
    "def expand(problem, node):\n",
    "    childs = []\n",
    "    for action in problem.actions(node):\n",
    "        childs.append(problem.result(node, action))\n",
    "    return childs    \n",
    "\n",
    "def UCS(problem, fringe=PriorityQueue()):\n",
    "    closed = []\n",
    "    fringe.push(problem.initial, 0)\n",
    "\n",
    "    while(True):\n",
    "        node = fringe.pop()\n",
    "        if problem.is_goal(node): \n",
    "            return node\n",
    "        if node not in closed: \n",
    "            closed.append(node)\n",
    "            for child in expand(problem, node):\n",
    "                fringe.push(child, problem.g(child))"
   ]
  },
  {
   "cell_type": "markdown",
   "metadata": {
    "cell_id": "06a394b910a64d0abb53f5895a490228",
    "deepnote_cell_type": "markdown",
    "tags": []
   },
   "source": [
    "# VORAZ"
   ]
  },
  {
   "cell_type": "code",
   "execution_count": null,
   "metadata": {
    "cell_id": "502256a352034032904ce44c2f2aaaf0",
    "deepnote_cell_type": "code",
    "deepnote_to_be_reexecuted": false,
    "execution_millis": 4,
    "execution_start": 1677875322268,
    "source_hash": "5a54b3f1",
    "tags": []
   },
   "outputs": [],
   "source": [
    "def expand(problem, node):\n",
    "    childs = []\n",
    "    for action in problem.actions(node):\n",
    "        childs.append(problem.result(node, action))\n",
    "    return childs    \n",
    "\n",
    "def voraz(problem, fringe=PriorityQueue()):\n",
    "    closed = []\n",
    "    fringe.push(problem.initial, problem.h(problem.initial))\n",
    "\n",
    "    while(True):\n",
    "        node = fringe.pop()\n",
    "        if problem.is_goal(node): \n",
    "            return node\n",
    "        if node not in closed: \n",
    "            closed.append(node)\n",
    "            for child in expand(problem, node):\n",
    "                fringe.push(child, problem.h(child))"
   ]
  },
  {
   "cell_type": "markdown",
   "metadata": {
    "cell_id": "971218329156449497beb6cb2be035a7",
    "deepnote_cell_type": "markdown",
    "tags": []
   },
   "source": [
    "# A*"
   ]
  },
  {
   "cell_type": "code",
   "execution_count": null,
   "metadata": {
    "cell_id": "8d795f0a9f6f4481bb27957f27781b28",
    "deepnote_cell_type": "code",
    "deepnote_to_be_reexecuted": false,
    "execution_millis": 32,
    "execution_start": 1677875322271,
    "source_hash": "5a54b3f1",
    "tags": []
   },
   "outputs": [],
   "source": [
    "# completar "
   ]
  },
  {
   "cell_type": "markdown",
   "metadata": {
    "cell_id": "b9aff0ba91bf4946a435d3b80a824112",
    "deepnote_cell_type": "markdown",
    "tags": []
   },
   "source": [
    "# Búsqueda informada sobre un grafo simple\n",
    "\n",
    "\n"
   ]
  },
  {
   "cell_type": "markdown",
   "metadata": {
    "cell_id": "95aa24918a6043deba4afa55b6b08176",
    "deepnote_cell_type": "markdown",
    "tags": []
   },
   "source": [
    "![Picture title](image-20230228-191924.png)"
   ]
  },
  {
   "cell_type": "code",
   "execution_count": null,
   "metadata": {
    "cell_id": "557c2f7a7d2b4d78b8e0728b36662319",
    "deepnote_cell_type": "code",
    "deepnote_to_be_reexecuted": false,
    "execution_millis": 23,
    "execution_start": 1677875322280,
    "source_hash": "b78ea5b9",
    "tags": []
   },
   "outputs": [],
   "source": [
    "class SimpleGraph(SearchProblem):\n",
    "  'Simple Graph as a search problem'\n",
    "\n",
    "  def actions(self, node):\n",
    "    moves = {\n",
    "        'S':['move-A', 'move-D'],\n",
    "        'A':['move-B', 'move-G'],\n",
    "        'D':['move-B', 'move-E'],\n",
    "        'B':['move-E', 'move-C'],\n",
    "        'C':['move-G'],\n",
    "        'E':['move-G']}\n",
    "    return moves[node.state]        \n",
    "\n",
    "  def result(self, node, action):\n",
    "    new_state = {\n",
    "            'move-A': 'A',\n",
    "            'move-B': 'B',\n",
    "            'move-C': 'C',\n",
    "            'move-D': 'D',\n",
    "            'move-E': 'E',\n",
    "            'move-G': 'G',\n",
    "            'move-S': 'S'\n",
    "    }      \n",
    "    new_node = Node(new_state[action], node, action)\n",
    "    new_cost = self.action_cost(node,action, new_node)\n",
    "    new_node.cost = new_cost\n",
    "    return new_node \n",
    "\n",
    "  def action_cost(self, node, action, succesor):\n",
    "    cost = {\n",
    "        ('S', 'D'): 2,\n",
    "        ('S', 'A'): 3,\n",
    "        ('A', 'B'): 5,\n",
    "        ('A', 'G'): 10,\n",
    "        ('D', 'B'): 1,\n",
    "        ('D', 'E'): 4,\n",
    "        ('B', 'C'): 2,\n",
    "        ('B', 'E'): 1,\n",
    "        ('C', 'G'): 4,\n",
    "        ('E', 'G'): 3}\n",
    "    return cost[(node.state, succesor.state)]\n",
    "\n",
    "  def h(self, node):\n",
    "    heuristic = {\n",
    "        'S':7,\n",
    "        'A':9,\n",
    "        'D':5,\n",
    "        'B':4,\n",
    "        'C':2,\n",
    "        'E':3,\n",
    "        'G':0}\n",
    "    return heuristic[node.state]           \n",
    "  "
   ]
  },
  {
   "cell_type": "code",
   "execution_count": null,
   "metadata": {
    "cell_id": "17c572929816409d947ad2e94e7548b4",
    "deepnote_cell_type": "code",
    "deepnote_to_be_reexecuted": false,
    "execution_millis": 20,
    "execution_start": 1677875322284,
    "source_hash": "c6566f4b",
    "tags": []
   },
   "outputs": [
    {
     "name": "stdout",
     "output_type": "stream",
     "text": [
      "Algoritmo de costo uniforme:\n",
      "Action sequence: ['move-D', 'move-B', 'move-E', 'move-G']\n",
      "State sequence: [S, D, B, E, G]\n",
      "Cost: 7\n"
     ]
    }
   ],
   "source": [
    "simple_graph = SimpleGraph(Node('S'), Node('G'))\n",
    "\n",
    "print('Algoritmo de costo uniforme:')\n",
    "solution = UCS(simple_graph)\n",
    "print('Action sequence:', solution.actions_path())\n",
    "print('State sequence:', solution.states_path())\n",
    "print('Cost:', simple_graph.g(solution))\n"
   ]
  },
  {
   "cell_type": "markdown",
   "metadata": {
    "cell_id": "fa6f6e444ec34f9cacdcd99f1a6bd3fd",
    "deepnote_cell_type": "markdown",
    "tags": []
   },
   "source": [
    "## VORAZ"
   ]
  },
  {
   "cell_type": "code",
   "execution_count": null,
   "metadata": {
    "cell_id": "1f56a91d08ec465595d171fdeaee88f5",
    "deepnote_cell_type": "code",
    "deepnote_to_be_reexecuted": false,
    "execution_millis": 51,
    "execution_start": 1677875322288,
    "source_hash": "3a9e8b9e",
    "tags": []
   },
   "outputs": [],
   "source": [
    "# completar"
   ]
  },
  {
   "cell_type": "markdown",
   "metadata": {
    "cell_id": "e43f40aba6d041d4997dd9202d241811",
    "deepnote_cell_type": "markdown",
    "tags": []
   },
   "source": [
    "## A*"
   ]
  },
  {
   "cell_type": "code",
   "execution_count": null,
   "metadata": {
    "cell_id": "95595ae98265478b98624a82a361fc13",
    "deepnote_cell_type": "code",
    "deepnote_to_be_reexecuted": false,
    "execution_millis": 4,
    "execution_start": 1677875322385,
    "source_hash": "3a9e8b9e",
    "tags": []
   },
   "outputs": [],
   "source": [
    "# completar"
   ]
  },
  {
   "cell_type": "markdown",
   "metadata": {
    "created_in_deepnote_cell": true,
    "deepnote_cell_type": "markdown",
    "tags": []
   },
   "source": [
    "<a style='text-decoration:none;line-height:16px;display:flex;color:#5B5B62;padding:10px;justify-content:end;' href='https://deepnote.com?utm_source=created-in-deepnote-cell&projectId=c0b0ade9-403e-4acd-8eb4-c13a981e30c3' target=\"_blank\">\n",
    "<img alt='Created in deepnote.com' style='display:inline;max-height:16px;margin:0px;margin-right:7.5px;' src='data:image/svg+xml;base64,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' > </img>\n",
    "Created in <span style='font-weight:600;margin-left:4px;'>Deepnote</span></a>"
   ]
  }
 ],
 "metadata": {
  "deepnote": {},
  "deepnote_execution_queue": [],
  "deepnote_notebook_id": "0cef93475b064ce38ea61f5909ffe891",
  "deepnote_persisted_session": {
   "createdAt": "2023-03-03T20:47:35.515Z"
  },
  "language_info": {
   "name": "python"
  },
  "orig_nbformat": 2
 },
 "nbformat": 4,
 "nbformat_minor": 0
}
