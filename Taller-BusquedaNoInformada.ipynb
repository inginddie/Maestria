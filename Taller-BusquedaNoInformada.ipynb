{
  "cells": [
    {
      "cell_type": "markdown",
      "metadata": {
        "cell_id": "664eaf59e51947569040ca0a18a1d756",
        "deepnote_cell_type": "markdown",
        "id": "W-mfcgJ8Sc3S",
        "tags": []
      },
      "source": [
        "# __Formulación problemas de búsqueda__\n",
        "\n",
        "La clase abstracta `SearchProblem` servirá como una plantilla general para el proceso de formulación del problema como un problema de búsqueda. Cualquier implementación deberá heredar de esta clase"
      ]
    },
    {
      "cell_type": "code",
      "execution_count": null,
      "metadata": {
        "cell_id": "ad65a8a783f5428287d4a9842f1e6124",
        "deepnote_cell_type": "code",
        "deepnote_to_be_reexecuted": false,
        "execution_millis": 1,
        "execution_start": 1676295450179,
        "id": "aDEDFD09Sc3T",
        "source_hash": "7186466d",
        "tags": []
      },
      "outputs": [],
      "source": [
        "class SearchProblem(object):\n",
        "    \"\"\"The abstract class for a formal problem. A new domain subclasses this,\n",
        "    overriding `actions` and `results`, and perhaps other methods.\n",
        "    The default heuristic is 0 and the default action cost is 1 for all states.\n",
        "    When you create an instance of a subclass, specify `initial`, and `goal` states\n",
        "    (or give an `is_goal` method) and perhaps other keyword args for the subclass.\"\"\"\n",
        "\n",
        "    def __init__(self, initial=None, goal=None, **kwds):\n",
        "        \"\"\"The constructor specifies the initial state, and possibly a goal\n",
        "        state, if there is a unique goal. Your subclass's constructor can add\n",
        "        other arguments.\"\"\"\n",
        "        self.initial = initial\n",
        "        self.goal = goal\n",
        "\n",
        "    def actions(self, node):\n",
        "        \"\"\"Return the actions that can be executed in the given\n",
        "        state. The result would typically be a list, but if there are\n",
        "        many actions, consider yielding them one at a time in an\n",
        "        iterator, rather than building them all at once.\"\"\"\n",
        "        raise NotImplementedError\n",
        "\n",
        "    def result(self, node, action):\n",
        "        \"\"\"Return the state that results from executing the given\n",
        "        action in the given state. The action must be one of\n",
        "        self.actions(state).\"\"\"\n",
        "        raise NotImplementedError\n",
        "\n",
        "    def is_goal(self, node):\n",
        "        \"\"\"Return True if the state is a goal. The default method compares the\n",
        "        state to self.goal or checks for state in self.goal if it is a\n",
        "        list, as specified in the constructor. Override this method if\n",
        "        checking against a single self.goal is not enough.\"\"\"\n",
        "        return self.goal == node\n",
        "\n",
        "    def action_cost(self, s, a, s1):\n",
        "        \"\"\"Return the cost of a solution path that arrives at state s1 from\n",
        "        state s via action a. If the problem\n",
        "        is such that the path doesn't matter, this function will only look at\n",
        "        state s1.  If the path does matter, it will consider state s1\n",
        "        and action a. The default method costs 1 for every step in the path.\"\"\"\n",
        "        return 1# Start writing code here..."
      ]
    },
    {
      "cell_type": "markdown",
      "metadata": {
        "cell_id": "f2e5f35d676c401593f37fbd1cdf90b4",
        "deepnote_cell_type": "markdown",
        "id": "eqZn-6wSSc3V",
        "tags": []
      },
      "source": [
        "También es posible implementar la clase abstracta `Node` para representar los posibles estados del problemas."
      ]
    },
    {
      "cell_type": "code",
      "execution_count": null,
      "metadata": {
        "cell_id": "0f714f56ce224dcb9b49a231e512b0b0",
        "deepnote_cell_type": "code",
        "deepnote_to_be_reexecuted": false,
        "execution_millis": 1,
        "execution_start": 1676295450197,
        "id": "gx7IW9rLSc3W",
        "source_hash": "12ce55a8",
        "tags": []
      },
      "outputs": [],
      "source": [
        "class Node:\n",
        "    def __init__(self, state='', parent=None, action=None, cost=1):\n",
        "        self.state = state\n",
        "        self.parent = parent\n",
        "        self.action = action\n",
        "        self.cost = cost\n",
        "\n",
        "    def states_path(self):\n",
        "        if self.parent == None:\n",
        "            return [self]\n",
        "        return self.parent.states_path() + [self]\n",
        "\n",
        "    def actions_path(self):\n",
        "        if self.parent == None:\n",
        "            return []\n",
        "        return self.parent.actions_path() + [self.action]\n",
        "\n",
        "    def __eq__(self, node):\n",
        "        if node:\n",
        "            return self.state == node.state\n",
        "        return False\n",
        "\n",
        "    def __repr__(self):\n",
        "        return str(self.state)"
      ]
    },
    {
      "cell_type": "markdown",
      "metadata": {
        "cell_id": "8b4b5f23304e4f189bddd1dd189a49c7",
        "deepnote_cell_type": "markdown",
        "id": "f3wX64leSc3X",
        "tags": []
      },
      "source": [
        "# __Ejemplo 1. Un grafo simple__\n",
        "\n",
        "![imagen.png](data:image/png;base64,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)"
      ]
    },
    {
      "cell_type": "markdown",
      "metadata": {
        "cell_id": "ed628e6db32f42c3a911930ed53bbaa6",
        "deepnote_cell_type": "markdown",
        "id": "m0Ji3izrSc3Y",
        "tags": []
      },
      "source": [
        "## __1. Formulando el problema__"
      ]
    },
    {
      "cell_type": "code",
      "execution_count": null,
      "metadata": {
        "cell_id": "1819bc9048344db4af7f24c267461ce0",
        "deepnote_cell_type": "code",
        "deepnote_to_be_reexecuted": false,
        "execution_millis": 0,
        "execution_start": 1676295450198,
        "id": "snifoz0DSc3Y",
        "source_hash": "867b995c",
        "tags": []
      },
      "outputs": [],
      "source": [
        "class GrafoSimple(SearchProblem):\n",
        "\n",
        "    def actions(self, node):\n",
        "\n",
        "        node_actions = {\n",
        "            'S': ['move-to-D', 'move-to-A'],\n",
        "            'A': ['move-to-B'],\n",
        "            'B': ['move-to-C', 'move-to-G'],\n",
        "            'C': ['move-to-G'],\n",
        "            'D': ['move-to-G'],\n",
        "            'G': []\n",
        "        }\n",
        "        return node_actions[node.state]\n",
        "\n",
        "    def result(self, node, action):\n",
        "\n",
        "        action_result = {\n",
        "            'move-to-D': 'D',\n",
        "            'move-to-B': 'B',\n",
        "            'move-to-G': 'G',\n",
        "            'move-to-A': 'A',\n",
        "            'move-to-C': 'C',\n",
        "        }\n",
        "\n",
        "        new_state = action_result[action]\n",
        "        new_node = Node(state=new_state, parent=node, action=action, cost=1)\n",
        "        return new_node\n"
      ]
    },
    {
      "cell_type": "markdown",
      "metadata": {
        "cell_id": "141adc221d8740569d3607bc2c082042",
        "deepnote_cell_type": "markdown",
        "id": "uHI-xxQMSc3Z",
        "tags": []
      },
      "source": [
        "## __2. Implementando los algoritmos de búsqueda__\n",
        "\n",
        "Recordemos el modelo general para los algoritmos de búsqueda no informada.\n",
        "\n"
      ]
    },
    {
      "cell_type": "markdown",
      "metadata": {
        "cell_id": "bd3af5f498104f82962c48c4e802523d",
        "deepnote_cell_type": "markdown",
        "id": "RZk24b4tSc3a",
        "tags": []
      },
      "source": [
        "![Picture title](image-20230212-191311.png)"
      ]
    },
    {
      "cell_type": "code",
      "execution_count": null,
      "metadata": {
        "cell_id": "0504b6b4103e4215a58e255a6b18a50a",
        "deepnote_cell_type": "code",
        "deepnote_to_be_reexecuted": false,
        "execution_millis": 0,
        "execution_start": 1676295472547,
        "id": "YJ6MLrcFSc3a",
        "source_hash": "54583e6",
        "tags": []
      },
      "outputs": [],
      "source": [
        "def expand(node, problem):\n",
        "  # crear una lista de descedientes llamada childs\n",
        "  # por cada accion del nodo obtener el resultado y asignarlo al hijo\n",
        "  # retornar la lista de descendientes\n",
        "  childs = []\n",
        "  for action in problem.actions(node):\n",
        "    childs.append(problem.result(node, action))\n",
        "  return childs\n",
        "\n",
        "\n",
        "\n",
        "def BFS(problem, fringe=[]):\n",
        "  # realizar la implementación del algoritmo BFS\n",
        "  # utilizar una lista local de los expandidos y modificar la lista del cerco o borde\n",
        "  closed = []\n",
        "  fringe.append(problem.initial)\n",
        "  while True:\n",
        "    if not fringe:\n",
        "      return \"FAILURE\"\n",
        "    node = fringe.pop(0)\n",
        "    if problem.is_goal(node):\n",
        "      return node\n",
        "    if node not in closed:\n",
        "      closed.append(node)\n",
        "      for child in expand(node, problem):\n",
        "        fringe.append(child)\n",
        "\n",
        "\n",
        "\n",
        "def DFS(problem, fringe=[]):\n",
        "  # realizar la implementación del algoritmo BFS\n",
        "  # utilizar una lista local de los expandidos y modificar la lista del cerco o borde\n",
        "  closed2=[]\n",
        "  fringe.append(problem.initial)\n",
        "  while True:\n",
        "    if not fringe:\n",
        "      return \"FAILURE\"\n",
        "    # Remove the last element from the fringe list to simulate a stack.\n",
        "    node = fringe.pop()\n",
        "    if problem.is_goal(node):\n",
        "      return node\n",
        "    if node not in closed2:\n",
        "      closed2.append(node)\n",
        "      for child in expand(node, problem):\n",
        "        fringe.append(child)"
      ]
    },
    {
      "cell_type": "code",
      "execution_count": null,
      "metadata": {
        "cell_id": "168ba7e7e7e54ffd827b2f15b1326260",
        "colab": {
          "base_uri": "https://localhost:8080/"
        },
        "deepnote_cell_type": "code",
        "deepnote_to_be_reexecuted": false,
        "execution_millis": 3,
        "execution_start": 1676295475675,
        "id": "4zybZqFnSc3a",
        "outputId": "e82596f6-1849-4fd6-eb28-fc5f9409c0c2",
        "source_hash": "7e6400e8",
        "tags": []
      },
      "outputs": [
        {
          "name": "stdout",
          "output_type": "stream",
          "text": [
            "[S, D, G]\n",
            "['move-to-D', 'move-to-G']\n",
            "[S, A, B, G]\n",
            "['move-to-A', 'move-to-B', 'move-to-G']\n"
          ]
        }
      ],
      "source": [
        "S_o = Node('S')\n",
        "G = Node('G')\n",
        "\n",
        "grafo = GrafoSimple(S_o, G)\n",
        "\n",
        "solution = BFS(grafo)\n",
        "print(solution.states_path())\n",
        "print(solution.actions_path())\n",
        "\n",
        "\n",
        "solution = DFS(grafo)\n",
        "print(solution.states_path())\n",
        "print(solution.actions_path())"
      ]
    },
    {
      "cell_type": "markdown",
      "metadata": {
        "cell_id": "3acceee96d9347f69dd74f224c113a9e",
        "deepnote_cell_type": "markdown",
        "id": "jubotjwNSc3a",
        "tags": []
      },
      "source": [
        "## __Rompecabezas de 8-piezas__\n",
        "\n",
        " A continuación se presenta la solución al problema del rompecabezas de 8-piezas utilizando los algoritmos de BFS y DFS\n",
        "\n",
        "![imagen.png](data:image/png;base64,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)"
      ]
    },
    {
      "cell_type": "code",
      "execution_count": 1,
      "metadata": {
        "id": "b2h03sOm8s70"
      },
      "outputs": [],
      "source": [
        "from collections import deque\n",
        "\n",
        "class Tablero:\n",
        "    \"\"\" Esta clase representa el tablero, de 3x3 como el rompecabezas de 8 piezas.\n",
        "    Argumentos:\n",
        "            -estado es mi configuración actual del tablero.\n",
        "            -padre:  es un atributo que me va a almacenar el nodo o estado anterior en el que me encuentre.\n",
        "            -accion:  es un atributo y me va a representar la acción que me llevó al estado actual.\n",
        "        \"\"\"\n",
        "    def __init__(self, estado, padre=None, accion=None):\n",
        "        self.estado = estado\n",
        "        self.padre = padre\n",
        "        self.accion = accion\n",
        "\n",
        "    def __repr__(self):\n",
        "        #construimos una representación de 3x3\n",
        "        filas = [self.estado[i:i+3] for i in range(0, 9, 3)]\n",
        "        representacion = ''\n",
        "\n",
        "        # recorremos los elementos sobre las filas del tablero y unimos sus elementos con espacios.\n",
        "        for fila in filas:\n",
        "            representacion += ' '.join(map(str, fila)) + '\\n'\n",
        "\n",
        "            #me imprime la representacion del tablero con un espacio entre cada matriz 3x3.\n",
        "        return representacion.strip() + '\\n'"
      ]
    },
    {
      "cell_type": "code",
      "execution_count": 2,
      "metadata": {
        "id": "50510A4uo055"
      },
      "outputs": [],
      "source": [
        "from collections import deque\n",
        "\n",
        "class Problema:\n",
        "    def __init__(self, estado_inicial, estado_objetivo):\n",
        "      #defino y creo el tablero con mi problema de configuracion inicial.\n",
        "        self.estado_inicial = Tablero(estado_inicial)\n",
        "        self.estado_objetivo = estado_objetivo\n",
        "\n",
        "    def acciones(self, nodo): # Indented to be part of Problema class\n",
        "        \"\"\"Devuelve una lista de posibles movimientos para el nodo actual del tablero.\"\"\"\n",
        "\n",
        "        # Encuentro la posición del espacio vacío\n",
        "        index = nodo.estado.index(0)\n",
        "\n",
        "        movimientos = []\n",
        "        num_columnas = 3\n",
        "\n",
        "\n",
        "        # Coordenadas de la posición del espacio vacío\n",
        "        fila = index // num_columnas\n",
        "        columna = index % num_columnas\n",
        "\n",
        "        # Verifica si se puede mover un lugar a la izquierda\n",
        "        if columna > 0:\n",
        "            movimientos.append('izquierda')\n",
        "\n",
        "        # Verifica si se puede mover un lugar a la derecha\n",
        "        if columna < num_columnas - 1:\n",
        "            movimientos.append('derecha')\n",
        "\n",
        "        # Verifica si se puede mover un lugar arriba\n",
        "        if fila > 0:\n",
        "            movimientos.append('arriba')\n",
        "\n",
        "        # Verifica si se puede mover un lugar abajo\n",
        "        if fila < num_columnas - 1:\n",
        "            movimientos.append('abajo')\n",
        "\n",
        "        return movimientos\n",
        "\n",
        "\n",
        "    def resultado(self, nodo, accion):\n",
        "        \"\"\"Devuelve el nuevo actual  nodo después de aplicar la acción al nodo dado.\"\"\"\n",
        "        #necesito una lista \"copia\" para no afectar rl estado del nodo\n",
        "        estado = list(nodo.estado)\n",
        "\n",
        "        # Encuentro la posición del espacio vacío\n",
        "        index = estado.index(0)\n",
        "\n",
        "        # Definir el número de columnas\n",
        "        num_columnas = 3\n",
        "\n",
        "        movimientos = {\n",
        "            'izquierda': -1,\n",
        "            'derecha'  :  1,\n",
        "            'arriba'   : -3,\n",
        "            'abajo'    :  3\n",
        "        }\n",
        "\n",
        "        nuevo_index = index + movimientos[accion]\n",
        "\n",
        "        # Intercambio la ficha vacía con la pieza en la nueva posición\n",
        "        estado[index], estado[nuevo_index] = estado[nuevo_index], estado[index]\n",
        "\n",
        "        # Crea y devuelve un nodo nuevo con el estado nuevo\n",
        "        return Tablero(estado=estado, padre=nodo, accion=accion)\n",
        "\n",
        "\n",
        "\n",
        "  #identifica si mi estado actual es el objetivo\n",
        "    def es_objetivo(self, nodo):\n",
        "        \"\"\"\n",
        "            Determina si el estado del nodo es el estado objetivo\n",
        "        \"\"\"\n",
        "        # Compara el estado actual con el estado objetivo\n",
        "        if nodo.estado == self.estado_objetivo:\n",
        "\n",
        "            # Si coinciden\n",
        "            return True\n",
        "\n",
        "        else:\n",
        "\n",
        "            # Si no coinciden\n",
        "            return False"
      ]
    },
    {
      "cell_type": "markdown",
      "metadata": {
        "id": "9gVRirQs_-XY"
      },
      "source": []
    },
    {
      "cell_type": "code",
      "execution_count": 3,
      "metadata": {
        "id": "9O10Sd4gnlS_"
      },
      "outputs": [],
      "source": [
        "def expandir(nodo, problema):\n",
        "    \"\"\"Expande un nodo dado para expandir todos sus hijos (ramas)\"\"\"\n",
        "    hijos = []\n",
        "\n",
        "    #bucle sobre cada accion posible que se pueda hacer en este nodo\n",
        "    for accion in problema.acciones(nodo):\n",
        "\n",
        "        hijo = problema.resultado(nodo, accion)\n",
        "        hijos.append(hijo)\n",
        "\n",
        "    return hijos\n",
        "\n",
        "def BFS(problema):\n",
        "    \"\"\"Realiza la búsqueda por amplitud (BFS).\"\"\"\n",
        "    frontera = deque([problema.estado_inicial])\n",
        "    cerrados = set()\n",
        "\n",
        "    while frontera:\n",
        "        nodo = frontera.popleft()\n",
        "        if problema.es_objetivo(nodo):\n",
        "            return nodo\n",
        "        if tuple(nodo.estado) not in cerrados:\n",
        "            cerrados.add(tuple(nodo.estado))\n",
        "            for hijo in expandir(nodo, problema):\n",
        "                if tuple(hijo.estado) not in cerrados and hijo not in frontera:\n",
        "                    frontera.append(hijo)\n",
        "    return \"FAILURE\"\n",
        "\n",
        "\n",
        "def DFS(problema):\n",
        "    \"\"\"Realiza la búsqueda por profundidad (DFS).\"\"\"\n",
        "    frontera = [problema.estado_inicial]\n",
        "    cerrados = set()\n",
        "\n",
        "    while frontera:\n",
        "        nodo = frontera.pop()\n",
        "        if problema.es_objetivo(nodo):\n",
        "            return nodo\n",
        "        if tuple(nodo.estado) not in cerrados:\n",
        "            cerrados.add(tuple(nodo.estado))\n",
        "            for hijo in expandir(nodo, problema):\n",
        "                if tuple(hijo.estado) not in cerrados and hijo not in frontera:\n",
        "                    frontera.append(hijo)\n",
        "    return \"FAILURE\"\n",
        "\n"
      ]
    },
    {
      "cell_type": "code",
      "execution_count": 4,
      "metadata": {
        "id": "YaJqtOelmzE_"
      },
      "outputs": [],
      "source": [
        "def estados_camino(nodo):\n",
        "    \"\"\"Me devuelve el camino de estados desde el nodo inicial hasta el nodo objetivo.\"\"\"\n",
        "    camino = []\n",
        "\n",
        "    while nodo:\n",
        "\n",
        "        # Agrega el estado actual al camino\n",
        "        camino.append(nodo.estado)\n",
        "\n",
        "        nodo = nodo.padre\n",
        "\n",
        "    # Invierte el camino para que empiece desde el estado inicial\n",
        "    camino.reverse()\n",
        "\n",
        "    return camino\n",
        "\n",
        "\n",
        "\n",
        "def acciones_camino(nodo):\n",
        "    \"\"\"Me devuelve el camino de acciones desde el nodo inicial hasta el nodo objetivo.\"\"\"\n",
        "\n",
        "    camino = []\n",
        "\n",
        "    while nodo and nodo.accion is not None:\n",
        "\n",
        "        # Agrega la acción actual al camino\n",
        "        camino.append(nodo.accion)\n",
        "\n",
        "        nodo = nodo.padre\n",
        "\n",
        "    # Invierte el camino para que empiece desde el estado inicial\n",
        "    camino.reverse()\n",
        "    return camino\n"
      ]
    },
    {
      "cell_type": "code",
      "execution_count": 5,
      "metadata": {
        "cell_id": "168ba7e7e7e54ffd827b2f15b1326260",
        "colab": {
          "base_uri": "https://localhost:8080/",
          "height": 1000
        },
        "deepnote_cell_type": "code",
        "deepnote_to_be_reexecuted": false,
        "execution_millis": 3,
        "execution_start": 1676295475675,
        "id": "5qcN0w1E44_s",
        "outputId": "c515a792-7d1b-4088-a5b9-3a6ca84712ee",
        "source_hash": "7e6400e8",
        "tags": []
      },
      "outputs": [
        {
          "name": "stdout",
          "output_type": "stream",
          "text": [
            "Resolviendo con BFS...\n",
            "BFS: No se encontró solución.\n",
            "\n",
            "Resolviendo con DFS...\n",
            "DFS: No se encontró solución.\n"
          ]
        }
      ],
      "source": [
        "def main():\n",
        "\n",
        "    estado_inicial = [5, 2, 8, 1, 4, 0, 7, 3, 6]\n",
        "    estado_objetivo = [1, 2, 3, 4, 5, 6, 7, 8, 0]\n",
        "\n",
        "    # Creo el problema\n",
        "    problema = Problema(estado_inicial, estado_objetivo)\n",
        "\n",
        "    # Resuelvo el problema metodo 1\n",
        "    print(\"Resolviendo con BFS...\")\n",
        "    solucion = BFS(problema)\n",
        "\n",
        "    if solucion != \"FAILURE\":\n",
        "\n",
        "        print(\"Estados en el camino con BFS:\")\n",
        "\n",
        "        for estado in estados_camino(solucion):\n",
        "            # Imprime los estados en el camino\n",
        "            print(Tablero(estado))\n",
        "\n",
        "        print(\"Acciones en el camino con BFS:\")\n",
        "        print(acciones_camino(solucion))\n",
        "\n",
        "    else:\n",
        "        print(\"BFS: No se encontró solución.\")\n",
        "\n",
        "    # Resuelvo el problema metodo 2\n",
        "    print(\"\\nResolviendo con DFS...\")\n",
        "    solucion = DFS(problema)\n",
        "\n",
        "    if solucion != \"FAILURE\":\n",
        "\n",
        "        print(\"Estados en el camino con DFS:\")\n",
        "\n",
        "        for estado in estados_camino(solucion):\n",
        "            print(Tablero(estado))\n",
        "\n",
        "        print(\"Acciones en el camino con DFS:\")\n",
        "        print(acciones_camino(solucion))\n",
        "\n",
        "    else:\n",
        "        print(\"DFS: No se encontró solución.\")\n",
        "\n",
        "\n",
        "if __name__ == \"__main__\":\n",
        "    main()\n"
      ]
    }
  ],
  "metadata": {
    "colab": {
      "provenance": []
    },
    "deepnote": {},
    "deepnote_execution_queue": [],
    "deepnote_notebook_id": "1c25911b72814dc9b0e864a694436bc3",
    "deepnote_persisted_session": {
      "createdAt": "2023-02-13T14:00:26.161Z"
    },
    "gpuClass": "standard",
    "kernelspec": {
      "display_name": "Python 3",
      "name": "python3"
    },
    "language_info": {
      "codemirror_mode": {
        "name": "ipython",
        "version": 3
      },
      "file_extension": ".py",
      "mimetype": "text/x-python",
      "name": "python",
      "nbconvert_exporter": "python",
      "pygments_lexer": "ipython3",
      "version": "3.13.2"
    },
    "orig_nbformat": 2
  },
  "nbformat": 4,
  "nbformat_minor": 0
}
