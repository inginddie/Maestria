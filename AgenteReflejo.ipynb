{
  "cells": [
    {
      "cell_type": "code",
      "execution_count": 2,
      "metadata": {
        "id": "AeDsejJeGbUQ"
      },
      "outputs": [],
      "source": [
        "from IPython.display import display\n",
        "import ipywidgets as widgets\n",
        "import time\n",
        "\n",
        "class Tablero:\n",
        "  def __init__(self, tamano_celda=(50, 50), n_celdas=(5,5)):\n",
        "    self.out = widgets.HTML()\n",
        "    display(self.out)\n",
        "    self.tamano_celda = tamano_celda\n",
        "    self.n_celdas = n_celdas\n",
        "\n",
        "  def dibujar(self, objetos):\n",
        "    tablero = \"<table border='1' >{}</table>\"\n",
        "    filas = \"\"\n",
        "\n",
        "    for i in range(self.n_celdas[0]):\n",
        "      s = \"\"\n",
        "      for j in range(self.n_celdas[1]):\n",
        "        contenido =\"\"\n",
        "        for o in objetos:\n",
        "          if o.x == j and o.y == i:\n",
        "            contenido = \\\n",
        "            \"<div style='transform: rotate({angulo}deg);font-size:{tamano_emoticon}px;'>{emoticon}</div>\".\\\n",
        "            format(angulo = o.angulo, tamano_emoticon = o.tamano_emoticon, emoticon = o.emoticon)\n",
        "        s += \"<td style='height:{alto}px;width:{ancho}px'>{contenido}</td>\".\\\n",
        "          format(alto = self.tamano_celda[0], ancho = self.tamano_celda[1],\n",
        "                contenido = contenido)\n",
        "      filas += \"<tr>{}</tr>\".format(s)\n",
        "    tablero = tablero.format(filas)\n",
        "    self.out.value = tablero"
      ]
    },
    {
      "cell_type": "code",
      "execution_count": 3,
      "metadata": {
        "id": "zgwZ229cGhKw"
      },
      "outputs": [],
      "source": [
        "class Agente:\n",
        "    def __init__(self, x=0, y=0, angulo=0, emoticon=\"🤖\", tamano_emoticon=30):\n",
        "        self.x = x\n",
        "        self.y = y\n",
        "        self.angulo = angulo\n",
        "        self.emoticon = emoticon\n",
        "        self.tamano_emoticon = tamano_emoticon\n",
        "        self.energia = 5\n",
        "\n",
        "    def abajo(self):\n",
        "        if self.y < 4:\n",
        "            self.y += 1\n",
        "            self.energia -= 1\n",
        "\n",
        "    def derecha(self):\n",
        "        if self.x < 4:\n",
        "            self.x += 1\n",
        "            self.energia -= 1\n",
        "\n",
        "    def arriba(self):\n",
        "        if self.y > 0:\n",
        "            self.y -= 1\n",
        "            self.energia -= 1\n",
        "\n",
        "    def izquierda(self):\n",
        "        if self.x > 0:\n",
        "            self.x -= 1\n",
        "            self.energia -= 1"
      ]
    },
    {
      "cell_type": "code",
      "execution_count": 4,
      "metadata": {
        "id": "Or0EVgJ_Gk1Y"
      },
      "outputs": [],
      "source": [
        "def generarAgentesHoja (n_celdas=(5,5),n_hojas=10, angulo = 0, emoticon = \"🍂\", tamano_emoticon = 30):\n",
        "    posiciones = set ()\n",
        "    hojitas = list ()\n",
        "    while len(posiciones) < n_hojas:\n",
        "        pos_x = int(np.random.randint(0, n_celdas[0]))\n",
        "        pos_y = int(np.random.randint(0, n_celdas[1]))\n",
        "        pos = (pos_x, pos_y)\n",
        "        if pos not in posiciones:\n",
        "            hojitas.append(Agente(pos_x, pos_y, angulo, emoticon, tamano_emoticon))\n",
        "            posiciones.add(pos)\n",
        "    return hojitas"
      ]
    },
    {
      "cell_type": "code",
      "execution_count": 5,
      "metadata": {
        "id": "WJQDyvZ0GoTR"
      },
      "outputs": [],
      "source": [
        "class AgenteReflejo(Agente):\n",
        "    def __init__(self,  x=0, y=0, angulo=0, emoticon=\"🤖\", tamano_emoticon=30, energia=5):\n",
        "        \"\"\"\n",
        "        Inicializa los valores de la aspiradora\n",
        "        \"\"\"\n",
        "        super().__init__(x,y,angulo,emoticon,tamano_emoticon)\n",
        "        self.energia = energia\n",
        "        self.puntaje = 0\n",
        "\n",
        "    def hayHoja(self, las_hojas):\n",
        "        \"\"\"\n",
        "        Compara la posicion actual de la aspiradora con la posicion de todas las hojas en el tablero,\n",
        "        devuelve True si hay una hoja en la misma posicion de la aspiradora\n",
        "        \"\"\"\n",
        "        aspiro = False\n",
        "        for hoja in las_hojas:\n",
        "            if hoja.x == self.x and hoja.y == self.y:\n",
        "                las_hojas.remove(hoja)\n",
        "                self.puntaje += 1\n",
        "                aspiro = True\n",
        "                break\n",
        "\n",
        "        return aspiro\n",
        "\n",
        "\n",
        "    def percibir(self, las_hojas):\n",
        "        \"\"\"\n",
        "        percibe las hojas alrededor de la aspiradora y selecciona una al azar\n",
        "        \"\"\"\n",
        "        percepcion = []\n",
        "        for hoja in las_hojas:\n",
        "\n",
        "            # si la hoja esta en el norte\n",
        "            if hoja.x == self.x and hoja.y == self.y - 1:\n",
        "                percepcion.append(\"N\")\n",
        "            # si la hoja esta en el sur\n",
        "            if hoja.x == self.x and hoja.y == self.y + 1:\n",
        "                percepcion.append(\"S\")\n",
        "            # si la hoja esta en el oeste\n",
        "            if hoja.x == self.x - 1 and hoja.y == self.y:\n",
        "                percepcion.append(\"W\")\n",
        "            # si la hoja esta en el este\n",
        "            if hoja.x == self.x + 1 and hoja.y == self.y:\n",
        "                percepcion.append(\"E\")\n",
        "\n",
        "        if len(percepcion) > 0 :\n",
        "            return percepcion[0]\n",
        "            # direccion = int(np.random.random()*len(percepcion))\n",
        "            # return percepcion[direccion]\n",
        "        else:\n",
        "            direcciones = \"NSWE\"\n",
        "            direccion = int(np.random.random()*4)\n",
        "            return direcciones[direccion]"
      ]
    },
    {
      "cell_type": "code",
      "execution_count": 6,
      "metadata": {
        "id": "JFAMF0hEGwqr"
      },
      "outputs": [],
      "source": [
        "import numpy as np\n",
        "import matplotlib.pylab as plt\n",
        "\n",
        "\n",
        "def crearAspiradora(n_celdas=(5, 5), energia=100):\n",
        "    \"\"\"\n",
        "    Genera una posicion aleatoria sobre el tablero en la cual se ubicara la aspiradora\n",
        "\n",
        "    Args:\n",
        "        n_celdas: una tupla que establece el tamaño del tablero\n",
        "        energia: la cantidad de acciones que puede realizar la aspiradora\n",
        "    Return:\n",
        "        Posicion aleatoria en el tablero para ubicar la aspiradora\n",
        "    \"\"\"\n",
        "    pos_x = int(np.random.random()*n_celdas[0])\n",
        "    pos_y = int(np.random.random()*n_celdas[1])\n",
        "\n",
        "    aspiradora = AgenteReflejo(x=pos_x, y=pos_y, energia=energia)\n",
        "\n",
        "    return aspiradora"
      ]
    },
    {
      "cell_type": "code",
      "execution_count": 8,
      "metadata": {
        "id": "gPH59M8jG0CS"
      },
      "outputs": [
        {
          "data": {
            "application/vnd.jupyter.widget-view+json": {
              "model_id": "8544b08d7be24e2dbb29248afa55a08d",
              "version_major": 2,
              "version_minor": 0
            },
            "text/plain": [
              "HTML(value='')"
            ]
          },
          "metadata": {},
          "output_type": "display_data"
        },
        {
          "data": {
            "image/png": "[encoded data removed]",
            "text/plain": [
              "<Figure size 640x480 with 1 Axes>"
            ]
          },
          "metadata": {},
          "output_type": "display_data"
        }
      ],
      "source": [
        "num_iteraciones = 1\n",
        "puntajes= []\n",
        "\n",
        "tablero = Tablero(n_celdas=(5, 5))\n",
        "\n",
        "for i in range(num_iteraciones):\n",
        "\n",
        "    #llama las dos funciones creadas anteriormente\n",
        "    aspiradora = crearAspiradora()\n",
        "    las_hojas = generarAgentesHoja()\n",
        "\n",
        "    #crea el tablero con la cantidad de celdas necesarias y dibuja los objetos\n",
        "\n",
        "    objetos = [aspiradora]\n",
        "    objetos.extend(las_hojas)\n",
        "\n",
        "    tablero.dibujar(objetos)\n",
        "\n",
        "    # Si tiene energia se puede mover\n",
        "    while aspiradora.energia > 0:\n",
        "        # si la funcion percibe cerca se mueve hacia esa direccion\n",
        "        if not aspiradora.hayHoja(las_hojas) :\n",
        "            direccion = aspiradora.percibir(las_hojas)\n",
        "            if direccion == \"N\":\n",
        "                aspiradora.arriba()\n",
        "            elif direccion == \"S\":\n",
        "                aspiradora.abajo()\n",
        "            elif direccion == \"W\":\n",
        "                aspiradora.izquierda()\n",
        "            elif direccion == \"E\":\n",
        "                aspiradora.derecha()\n",
        "\n",
        "            #actualiza las posiciones\n",
        "            objetos = []\n",
        "            objetos.extend(las_hojas)\n",
        "            objetos.append(aspiradora)\n",
        "\n",
        "        #dibuja las posiciones actualizadas\n",
        "        tablero.dibujar(objetos)\n",
        "        #cada movimiento tiene un delay\n",
        "        time.sleep(0.5)\n",
        "\n",
        "    # guardar el puntaje del agente\n",
        "    puntajes.append(aspiradora.puntaje)\n",
        "\n",
        "# pintar el histograma\n",
        "plt.hist(puntajes)\n",
        "plt.show()"
      ]
    }
  ],
  "metadata": {
    "colab": {
      "provenance": []
    },
    "kernelspec": {
      "display_name": "Python 3",
      "name": "python3"
    },
    "language_info": {
      "codemirror_mode": {
        "name": "ipython",
        "version": 3
      },
      "file_extension": ".py",
      "mimetype": "text/x-python",
      "name": "python",
      "nbconvert_exporter": "python",
      "pygments_lexer": "ipython3",
      "version": "3.11.9"
    }
  },
  "nbformat": 4,
  "nbformat_minor": 0
}
