{
 "cells": [
  {
   "cell_type": "code",
   "execution_count": 12,
   "metadata": {},
   "outputs": [
    {
     "name": "stdout",
     "output_type": "stream",
     "text": [
      "                  CV RMSE Mean  CV RMSE Std  CV R2 Mean  CV R2 Std  \\\n",
      "Model                                                                \n",
      "LinearRegression  68808.091356  1870.323572    0.644949   0.011705   \n",
      "DecisionTree      69710.753816   954.881658    0.635519   0.005945   \n",
      "KNN               60788.625978  1430.427443    0.722919   0.006095   \n",
      "\n",
      "                     Test RMSE   Test R2  \n",
      "Model                                     \n",
      "LinearRegression  69258.469642  0.637495  \n",
      "DecisionTree      67828.810050  0.652306  \n",
      "KNN               60570.464257  0.722738  \n"
     ]
    }
   ],
   "source": [
    "import pandas as pd\n",
    "import numpy as np\n",
    "from sklearn.model_selection import train_test_split, cross_validate\n",
    "from sklearn.compose import ColumnTransformer\n",
    "from sklearn.pipeline import Pipeline\n",
    "from sklearn.impute import SimpleImputer\n",
    "from sklearn.preprocessing import StandardScaler, OneHotEncoder\n",
    "from sklearn.linear_model import LinearRegression\n",
    "from sklearn.tree import DecisionTreeRegressor\n",
    "from sklearn.neighbors import KNeighborsRegressor\n",
    "from sklearn.metrics import mean_squared_error, r2_score\n",
    "\n",
    "# 1️⃣ Carga y división train/test\n",
    "url = \"https://raw.githubusercontent.com/camilousa/datasets/refs/heads/master/housing.csv\"\n",
    "df = pd.read_csv(url)\n",
    "X = df.drop(columns=[\"median_house_value\"])\n",
    "y = df[\"median_house_value\"]\n",
    "\n",
    "X_train, X_test, y_train, y_test = train_test_split(\n",
    "    X, y, test_size=0.25, random_state=42\n",
    ")\n",
    "\n",
    "# 2️⃣ Preprocesamiento\n",
    "num_feats = X_train.select_dtypes(include=[\"int64\",\"float64\"]).columns.tolist()\n",
    "cat_feats = X_train.select_dtypes(include=[\"object\"]).columns.tolist()\n",
    "\n",
    "preprocessor = ColumnTransformer([\n",
    "    (\"num\", Pipeline([(\"impute\", SimpleImputer(strategy=\"median\")),\n",
    "                      (\"scale\", StandardScaler())]), num_feats),\n",
    "    (\"cat\", OneHotEncoder(handle_unknown=\"ignore\"), cat_feats),\n",
    "])\n",
    "\n",
    "# 3️⃣ Definición de modelos\n",
    "models = {\n",
    "    \"LinearRegression\": LinearRegression(),\n",
    "    \"DecisionTree\": DecisionTreeRegressor(random_state=42),\n",
    "    \"KNN\": KNeighborsRegressor(n_neighbors=9)\n",
    "}\n",
    "\n",
    "# 4️⃣ Cross‑validation + evaluación en test\n",
    "results = []\n",
    "for name, estimator in models.items():\n",
    "    pipe = Pipeline([(\"prep\", preprocessor), (\"model\", estimator)])\n",
    "    \n",
    "    cv = cross_validate(pipe, X_train, y_train, cv=5,\n",
    "                        scoring=[\"neg_mean_squared_error\", \"r2\"],\n",
    "                        return_train_score=False)\n",
    "    rmse_cv = np.sqrt(-cv[\"test_neg_mean_squared_error\"])\n",
    "    r2_cv   = cv[\"test_r2\"]\n",
    "    \n",
    "    pipe.fit(X_train, y_train)\n",
    "    preds_test = pipe.predict(X_test)\n",
    "    mse_test = mean_squared_error(y_test, preds_test)\n",
    "    rmse_test = np.sqrt(mse_test)\n",
    "    r2_test   = r2_score(y_test, preds_test)\n",
    "    \n",
    "    results.append({\n",
    "        \"Model\": name,\n",
    "        \"CV RMSE Mean\": rmse_cv.mean(),\n",
    "        \"CV RMSE Std\": rmse_cv.std(),\n",
    "        \"CV R2 Mean\": r2_cv.mean(),\n",
    "        \"CV R2 Std\": r2_cv.std(),\n",
    "        \"Test RMSE\": rmse_test,\n",
    "        \"Test R2\": r2_test\n",
    "    })\n",
    "\n",
    "# 5️⃣ Mostrar resultados\n",
    "results_df = pd.DataFrame(results).set_index(\"Model\")\n",
    "print(results_df)\n",
    "\n"
   ]
  },
  {
   "cell_type": "code",
   "execution_count": 13,
   "metadata": {},
   "outputs": [
    {
     "name": "stdout",
     "output_type": "stream",
     "text": [
      "Accuracy: 0.838\n",
      "\n",
      "Classification Report:\n",
      "               precision    recall  f1-score   support\n",
      "\n",
      "           0       0.84      0.83      0.84      2579\n",
      "           1       0.83      0.84      0.84      2581\n",
      "\n",
      "    accuracy                           0.84      5160\n",
      "   macro avg       0.84      0.84      0.84      5160\n",
      "weighted avg       0.84      0.84      0.84      5160\n",
      "\n",
      "Confusion Matrix:\n",
      " [[2146  433]\n",
      " [ 405 2176]]\n"
     ]
    }
   ],
   "source": [
    "from sklearn.model_selection import train_test_split\n",
    "from sklearn.pipeline import Pipeline\n",
    "from sklearn.linear_model import LogisticRegression\n",
    "from sklearn.metrics import accuracy_score, classification_report, confusion_matrix\n",
    "\n",
    "# 1️⃣ Crear target binario (casas “caras” vs “baratas”)\n",
    "threshold = df[\"median_house_value\"].median()\n",
    "y_class = (df[\"median_house_value\"] >= threshold).astype(int)\n",
    "\n",
    "# 2️⃣ Train/test split\n",
    "X_train, X_test, y_train_class, y_test_class = train_test_split(\n",
    "    X, y_class, test_size=0.25, random_state=42, stratify=y_class\n",
    ")\n",
    "\n",
    "# 3️⃣ Pipeline de preprocesamiento + clasificador\n",
    "model = Pipeline([\n",
    "    (\"prep\", preprocessor),        # reutiliza el ColumnTransformer definido antes\n",
    "    (\"clf\", LogisticRegression(class_weight=\"balanced\", max_iter=500))\n",
    "])\n",
    "\n",
    "# 4️⃣ Entrenar y predecir\n",
    "model.fit(X_train, y_train_class)\n",
    "y_pred_class = model.predict(X_test)\n",
    "\n",
    "# 5️⃣ Métricas de clasificación\n",
    "accuracy = accuracy_score(y_test_class, y_pred_class)\n",
    "print(f\"Accuracy: {accuracy:.3f}\\n\")\n",
    "print(\"Classification Report:\\n\", classification_report(y_test_class, y_pred_class))\n",
    "print(\"Confusion Matrix:\\n\", confusion_matrix(y_test_class, y_pred_class))\n",
    "\n"
   ]
  },
  {
   "cell_type": "code",
   "execution_count": 14,
   "metadata": {},
   "outputs": [
    {
     "name": "stdout",
     "output_type": "stream",
     "text": [
      "Accuracy: 0.8552325581395349\n",
      "              precision    recall  f1-score   support\n",
      "\n",
      "           0       0.85      0.86      0.86      2579\n",
      "           1       0.86      0.85      0.85      2581\n",
      "\n",
      "    accuracy                           0.86      5160\n",
      "   macro avg       0.86      0.86      0.86      5160\n",
      "weighted avg       0.86      0.86      0.86      5160\n",
      "\n"
     ]
    }
   ],
   "source": [
    "from sklearn.pipeline import Pipeline\n",
    "from sklearn.compose import ColumnTransformer\n",
    "from sklearn.impute import SimpleImputer\n",
    "from sklearn.preprocessing import StandardScaler, OneHotEncoder\n",
    "from sklearn.neighbors import KNeighborsClassifier\n",
    "from sklearn.model_selection import train_test_split\n",
    "from sklearn.metrics import accuracy_score, classification_report\n",
    "\n",
    "# 1️⃣ Target binario\n",
    "threshold = df[\"median_house_value\"].median()\n",
    "y = (df[\"median_house_value\"] >= threshold).astype(int)\n",
    "X = df.drop(columns=[\"median_house_value\"])\n",
    "\n",
    "# 2️⃣ Train/Test split (estratificado)\n",
    "X_train, X_test, y_train, y_test = train_test_split(\n",
    "    X, y, test_size=0.25, random_state=42, stratify=y\n",
    ")\n",
    "\n",
    "# 3️⃣ Definir preprocesador\n",
    "num_feats = X_train.select_dtypes(include=[\"int64\",\"float64\"]).columns.tolist()\n",
    "cat_feats = X_train.select_dtypes(include=[\"object\"]).columns.tolist()\n",
    "\n",
    "preprocessor = ColumnTransformer([\n",
    "    (\"num\", Pipeline([(\"impute\", SimpleImputer(strategy=\"median\")),\n",
    "                      (\"scale\", StandardScaler())]), num_feats),\n",
    "    (\"cat\", OneHotEncoder(handle_unknown=\"ignore\"), cat_feats),\n",
    "])\n",
    "\n",
    "# 4️⃣ Construir pipeline KNN\n",
    "pipeline = Pipeline([\n",
    "    (\"prep\", preprocessor),\n",
    "    (\"knn\", KNeighborsClassifier(n_neighbors=15))\n",
    "])\n",
    "\n",
    "# 5️⃣ Entrenar\n",
    "pipeline.fit(X_train, y_train)\n",
    "\n",
    "# 6️⃣ Evaluar\n",
    "y_pred = pipeline.predict(X_test)\n",
    "print(\"Accuracy:\", accuracy_score(y_test, y_pred))\n",
    "print(classification_report(y_test, y_pred))\n",
    "\n"
   ]
  },
  {
   "cell_type": "code",
   "execution_count": 17,
   "metadata": {},
   "outputs": [
    {
     "data": {
      "image/png": "[encoded data removed]",
      "text/plain": [
       "<Figure size 640x480 with 1 Axes>"
      ]
     },
     "metadata": {},
     "output_type": "display_data"
    }
   ],
   "source": [
    "from sklearn.metrics import confusion_matrix\n",
    "import matplotlib.pyplot as plt\n",
    "\n",
    "# Calcular matriz de confusión\n",
    "cm = confusion_matrix(y_test, y_pred)\n",
    "\n",
    "# Dibujar heatmap\n",
    "fig, ax = plt.subplots()\n",
    "ax.imshow(cm)\n",
    "\n",
    "# Etiquetas en los ejes\n",
    "ax.set_xticks([0, 1])\n",
    "ax.set_xticklabels(['Barata', 'Cara'])\n",
    "ax.set_yticks([0, 1])\n",
    "ax.set_yticklabels(['Barata', 'Cara'])\n",
    "\n",
    "# Anotar valores dentro de cada celda\n",
    "for i in range(cm.shape[0]):\n",
    "    for j in range(cm.shape[1]):\n",
    "        ax.text(j, i, cm[i, j], ha='center', va='center')\n",
    "\n",
    "ax.set_xlabel('Etiqueta Predicha')\n",
    "ax.set_ylabel('Etiqueta Real')\n",
    "ax.set_title('Matriz de Confusión — KNN (n=9)')\n",
    "\n",
    "plt.show()\n",
    "\n"
   ]
  },
  {
   "cell_type": "code",
   "execution_count": 16,
   "metadata": {},
   "outputs": [
    {
     "name": "stdout",
     "output_type": "stream",
     "text": [
      "🔍 Mejor n_neighbors = 9 (CV accuracy = 0.853)\n",
      "✅ Test accuracy con k=9: 0.853\n"
     ]
    }
   ],
   "source": [
    "from sklearn.model_selection import GridSearchCV\n",
    "\n",
    "# 1️⃣ Definir grid de hiperparámetros (valores impares entre 1 y 51)\n",
    "param_grid = {\"knn__n_neighbors\": list(range(1, 52, 2))}\n",
    "\n",
    "# 2️⃣ GridSearchCV sobre pipeline existente\n",
    "grid = GridSearchCV(\n",
    "    pipeline,\n",
    "    param_grid,\n",
    "    cv=5,\n",
    "    scoring=\"accuracy\",\n",
    "    n_jobs=-1\n",
    ")\n",
    "\n",
    "grid.fit(X_train, y_train)\n",
    "\n",
    "# 3️⃣ Mejor k y su score en CV\n",
    "best_k = grid.best_params_[\"knn__n_neighbors\"]\n",
    "best_cv_score = grid.best_score_\n",
    "print(f\"🔍 Mejor n_neighbors = {best_k} (CV accuracy = {best_cv_score:.3f})\")\n",
    "\n",
    "# 4️⃣ Evaluar en test con el modelo final\n",
    "final_model = grid.best_estimator_\n",
    "test_accuracy = final_model.score(X_test, y_test)\n",
    "print(f\"✅ Test accuracy con k={best_k}: {test_accuracy:.3f}\")\n"
   ]
  },
  {
   "cell_type": "code",
   "execution_count": 18,
   "metadata": {},
   "outputs": [
    {
     "name": "stdout",
     "output_type": "stream",
     "text": [
      "► Train MAE: 0.131 ± 0.002\n",
      "► Test MAE:  0.149 ± 0.007\n",
      "► Train Accuracy ≈ 0.869\n",
      "► Test Accuracy  ≈ 0.851\n"
     ]
    }
   ],
   "source": [
    "from sklearn.model_selection import cross_validate\n",
    "import numpy as np\n",
    "\n",
    "# Ejecutar CV (neg MAE porque scikit‑learn minimiza)\n",
    "cv_results = cross_validate(\n",
    "    pipeline, \n",
    "    X_train, \n",
    "    y_train, \n",
    "    scoring=\"neg_mean_absolute_error\", \n",
    "    cv=5, \n",
    "    return_train_score=True\n",
    ")\n",
    "\n",
    "# Convertir scores negativos a MAE positivos\n",
    "train_mae = -cv_results[\"train_score\"]\n",
    "test_mae  = -cv_results[\"test_score\"]\n",
    "\n",
    "print(f\"► Train MAE: {train_mae.mean():.3f} ± {train_mae.std():.3f}\")\n",
    "print(f\"► Test MAE:  {test_mae.mean():.3f} ± {test_mae.std():.3f}\")\n",
    "\n",
    "# Calcular accuracy equivalente\n",
    "print(f\"► Train Accuracy ≈ {1 - train_mae.mean():.3f}\")\n",
    "print(f\"► Test Accuracy  ≈ {1 - test_mae.mean():.3f}\")\n"
   ]
  }
 ],
 "metadata": {
  "kernelspec": {
   "display_name": "Python 3",
   "language": "python",
   "name": "python3"
  },
  "language_info": {
   "codemirror_mode": {
    "name": "ipython",
    "version": 3
   },
   "file_extension": ".py",
   "mimetype": "text/x-python",
   "name": "python",
   "nbconvert_exporter": "python",
   "pygments_lexer": "ipython3",
   "version": "3.13.2"
  }
 },
 "nbformat": 4,
 "nbformat_minor": 2
}
