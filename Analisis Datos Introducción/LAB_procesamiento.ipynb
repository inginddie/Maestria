{
 "cells": [
  {
   "cell_type": "markdown",
   "metadata": {},
   "source": [
    "## Analisis de Datos\n",
    "### Preprocesamiento"
   ]
  },
  {
   "cell_type": "code",
   "execution_count": 3,
   "metadata": {},
   "outputs": [
    {
     "name": "stdout",
     "output_type": "stream",
     "text": [
      "   Unnamed: 0  Age     Sex  Job Housing Saving accounts Checking account  \\\n",
      "0           0   67    male    2     own             NaN           little   \n",
      "1           1   22  female    2     own          little         moderate   \n",
      "2           2   49    male    1     own          little              NaN   \n",
      "3           3   45    male    2    free          little           little   \n",
      "4           4   53    male    2    free          little           little   \n",
      "\n",
      "   Credit amount  Duration              Purpose  Risk  \n",
      "0           1169         6             radio/TV  good  \n",
      "1           5951        48             radio/TV   bad  \n",
      "2           2096        12            education  good  \n",
      "3           7882        42  furniture/equipment  good  \n",
      "4           4870        24                  car   bad  \n",
      "\n",
      "--- Información del DataFrame ---\n",
      "<class 'pandas.core.frame.DataFrame'>\n",
      "RangeIndex: 1000 entries, 0 to 999\n",
      "Data columns (total 11 columns):\n",
      " #   Column            Non-Null Count  Dtype \n",
      "---  ------            --------------  ----- \n",
      " 0   Unnamed: 0        1000 non-null   int64 \n",
      " 1   Age               1000 non-null   int64 \n",
      " 2   Sex               1000 non-null   object\n",
      " 3   Job               1000 non-null   int64 \n",
      " 4   Housing           1000 non-null   object\n",
      " 5   Saving accounts   817 non-null    object\n",
      " 6   Checking account  606 non-null    object\n",
      " 7   Credit amount     1000 non-null   int64 \n",
      " 8   Duration          1000 non-null   int64 \n",
      " 9   Purpose           1000 non-null   object\n",
      " 10  Risk              1000 non-null   object\n",
      "dtypes: int64(5), object(6)\n",
      "memory usage: 86.1+ KB\n",
      "None\n"
     ]
    }
   ],
   "source": [
    "import pandas as pd\n",
    "\n",
    "# Load the dataset from the URL\n",
    "df = pd.read_csv('https://raw.githubusercontent.com/jpospinalo/MachineLearning/refs/heads/main/Logistic%20Regression/german_credit_data.csv')\n",
    "\n",
    "# Display the first few rows of the dataset\n",
    "print(df.head())\n",
    "\n",
    "# 2. Verificación de los tipos de datos para cada columna\n",
    "print(\"\\n--- Información del DataFrame ---\")\n",
    "print(df.info())"
   ]
  },
  {
   "cell_type": "markdown",
   "metadata": {},
   "source": []
  },
  {
   "cell_type": "markdown",
   "metadata": {},
   "source": [
    "## Limpieza de Datos\n",
    "\n",
    "Construya un DataFrame con la información suministrada\n",
    "* Verifique el >po de dato para cada columna y compruebe si es coherente con la información disponible en los campos (por ejemplo, un campo como “edad” debería ser de >po numérico y no una cadena de caracteres). Para realizar esta verificación puede u>lizar el método info(). Realice los cambios que considere necesarios."
   ]
  },
  {
   "cell_type": "markdown",
   "metadata": {},
   "source": [
    "Según la información del DataFrame, podemos observar:\n",
    "\n",
    "* El dataset tiene 1000 entradas (filas) y 11 columnas.\n",
    "* Hay una columna sin nombre (Unnamed: 0) que probablemente sea un índice generado durante la exportación del CSV.\n",
    "* Columnas numéricas (int64): Unnamed: 0, Age, Credit amount, Duration\n",
    "* Columnas categóricas (object): Sex, Job, Housing, Saving accounts, Checking account, Purpose, Risk\n",
    "* Valores faltantes detectados en:\n",
    "- Saving accounts: 183 valores faltantes (817 no nulos)\n",
    "- Checking account: 394 valores faltantes (606 no nulos)"
   ]
  },
  {
   "cell_type": "code",
   "execution_count": 4,
   "metadata": {},
   "outputs": [
    {
     "name": "stdout",
     "output_type": "stream",
     "text": [
      "\n",
      "Valores únicos en Sex:\n",
      "['male' 'female']\n",
      "Cantidad de valores únicos: 2\n",
      "Distribución de valores:\n",
      "Sex\n",
      "male      690\n",
      "female    310\n",
      "Name: count, dtype: int64\n",
      "\n",
      "Valores únicos en Housing:\n",
      "['own' 'free' 'rent']\n",
      "Cantidad de valores únicos: 3\n",
      "Distribución de valores:\n",
      "Housing\n",
      "own     713\n",
      "rent    179\n",
      "free    108\n",
      "Name: count, dtype: int64\n",
      "\n",
      "Valores únicos en Saving accounts:\n",
      "[nan 'little' 'quite rich' 'rich' 'moderate']\n",
      "Cantidad de valores únicos: 4\n",
      "Distribución de valores:\n",
      "Saving accounts\n",
      "little        603\n",
      "moderate      103\n",
      "quite rich     63\n",
      "rich           48\n",
      "Name: count, dtype: int64\n",
      "\n",
      "Valores únicos en Checking account:\n",
      "['little' 'moderate' nan 'rich']\n",
      "Cantidad de valores únicos: 3\n",
      "Distribución de valores:\n",
      "Checking account\n",
      "little      274\n",
      "moderate    269\n",
      "rich         63\n",
      "Name: count, dtype: int64\n",
      "\n",
      "Valores únicos en Purpose:\n",
      "['radio/TV' 'education' 'furniture/equipment' 'car' 'business'\n",
      " 'domestic appliances' 'repairs' 'vacation/others']\n",
      "Cantidad de valores únicos: 8\n",
      "Distribución de valores:\n",
      "Purpose\n",
      "car                    337\n",
      "radio/TV               280\n",
      "furniture/equipment    181\n",
      "business                97\n",
      "education               59\n",
      "repairs                 22\n",
      "domestic appliances     12\n",
      "vacation/others         12\n",
      "Name: count, dtype: int64\n",
      "\n",
      "Valores únicos en Risk:\n",
      "['good' 'bad']\n",
      "Cantidad de valores únicos: 2\n",
      "Distribución de valores:\n",
      "Risk\n",
      "good    700\n",
      "bad     300\n",
      "Name: count, dtype: int64\n"
     ]
    }
   ],
   "source": [
    "# Identificar columnas categóricas (tipo object)\n",
    "categorical_columns = df.select_dtypes(include=['object']).columns\n",
    "\n",
    "# Mostrar valores únicos para cada columna categórica\n",
    "for column in categorical_columns:\n",
    "    print(f\"\\nValores únicos en {column}:\")\n",
    "    print(df[column].unique())\n",
    "    print(f\"Cantidad de valores únicos: {df[column].nunique()}\")\n",
    "    print(f\"Distribución de valores:\")\n",
    "    print(df[column].value_counts())"
   ]
  },
  {
   "cell_type": "markdown",
   "metadata": {},
   "source": [
    "### Resultado:\n",
    "\n",
    "- Sex: 2 categorías (male/female) - Variable binaria\n",
    "- Housing: 3 categorías (own/rent/free) - Variable ordinal\n",
    "- Saving accounts: 4 categorías (nan/little/quite rich/rich/moderate) - Variable ordinal con valores faltantes\n",
    "- Risk: 2 categorías (good/bad) - Variable binaria (objetivo)"
   ]
  },
  {
   "cell_type": "code",
   "execution_count": 5,
   "metadata": {},
   "outputs": [
    {
     "name": "stdout",
     "output_type": "stream",
     "text": [
      "\n",
      "Valores únicos en Job:\n",
      "[2 1 3 0]\n",
      "Cantidad de valores únicos: 4\n",
      "Distribución de valores:\n",
      "Job\n",
      "2    630\n",
      "1    200\n",
      "3    148\n",
      "0     22\n",
      "Name: count, dtype: int64\n",
      "\n",
      "Valores únicos en Checking account:\n",
      "['little' 'moderate' nan 'rich']\n",
      "Cantidad de valores únicos: 3\n",
      "Distribución de valores:\n",
      "Checking account\n",
      "little      274\n",
      "moderate    269\n",
      "rich         63\n",
      "Name: count, dtype: int64\n",
      "\n",
      "Valores únicos en Purpose:\n",
      "['radio/TV' 'education' 'furniture/equipment' 'car' 'business'\n",
      " 'domestic appliances' 'repairs' 'vacation/others']\n",
      "Cantidad de valores únicos: 8\n",
      "Distribución de valores:\n",
      "Purpose\n",
      "car                    337\n",
      "radio/TV               280\n",
      "furniture/equipment    181\n",
      "business                97\n",
      "education               59\n",
      "repairs                 22\n",
      "domestic appliances     12\n",
      "vacation/others         12\n",
      "Name: count, dtype: int64\n"
     ]
    }
   ],
   "source": [
    "# Ver valores únicos para Job, Checking account y Purpose\n",
    "for column in ['Job', 'Checking account', 'Purpose']:\n",
    "    print(f\"\\nValores únicos en {column}:\")\n",
    "    print(df[column].unique())\n",
    "    print(f\"Cantidad de valores únicos: {df[column].nunique()}\")\n",
    "    print(f\"Distribución de valores:\")\n",
    "    print(df[column].value_counts())"
   ]
  },
  {
   "cell_type": "code",
   "execution_count": 6,
   "metadata": {},
   "outputs": [
    {
     "name": "stdout",
     "output_type": "stream",
     "text": [
      "\n",
      "Resumen estadístico de variables numéricas:\n",
      "        Unnamed: 0          Age          Job  Credit amount     Duration\n",
      "count  1000.000000  1000.000000  1000.000000    1000.000000  1000.000000\n",
      "mean    499.500000    35.546000     1.904000    3271.258000    20.903000\n",
      "std     288.819436    11.375469     0.653614    2822.736876    12.058814\n",
      "min       0.000000    19.000000     0.000000     250.000000     4.000000\n",
      "25%     249.750000    27.000000     2.000000    1365.500000    12.000000\n",
      "50%     499.500000    33.000000     2.000000    2319.500000    18.000000\n",
      "75%     749.250000    42.000000     2.000000    3972.250000    24.000000\n",
      "max     999.000000    75.000000     3.000000   18424.000000    72.000000\n"
     ]
    }
   ],
   "source": [
    "# Resumen estadístico de variables numéricas\n",
    "print(\"\\nResumen estadístico de variables numéricas:\")\n",
    "print(df.describe())"
   ]
  },
  {
   "cell_type": "markdown",
   "metadata": {},
   "source": [
    "### Análisis de columnas categóricas:\n",
    "\n",
    "1. Job: 4 valores únicos (0, 1, 2, 3) - Representa diferentes niveles de empleo (parece estar codificado numéricamente)\n",
    "2. Checking account: 3 valores únicos (little, moderate, rich) + valores faltantes\n",
    "3. Purpose: 8 categorías diferentes (radio/TV, education, furniture/equipment, car, business, domestic appliances, repairs, vacation/others)\n",
    "\n",
    "### Análisis de variables numéricas:\n",
    "\n",
    "1. Unnamed: 0: Es un índice (0-999)\n",
    "2. Age: Rango de 19 a 75 años, promedio de 35.5 años\n",
    "3. Credit amount: Rango de 250 a 18424, promedio de 3271\n",
    "4. Duration: Rango de 4 a 72 meses, promedio de 20.9 meses"
   ]
  },
  {
   "cell_type": "code",
   "execution_count": 7,
   "metadata": {},
   "outputs": [
    {
     "name": "stdout",
     "output_type": "stream",
     "text": [
      "Tipos de datos actuales:\n",
      "Unnamed: 0           int64\n",
      "Age                  int64\n",
      "Sex                 object\n",
      "Job                  int64\n",
      "Housing             object\n",
      "Saving accounts     object\n",
      "Checking account    object\n",
      "Credit amount        int64\n",
      "Duration             int64\n",
      "Purpose             object\n",
      "Risk                object\n",
      "dtype: object\n",
      "\n",
      "Valores de Job: [2 1 3 0]\n",
      "\n",
      "Número de filas duplicadas: 0\n",
      "\n",
      "Valores faltantes por columna:\n",
      "Age                   0\n",
      "Sex                   0\n",
      "Job                   0\n",
      "Housing               0\n",
      "Saving accounts     183\n",
      "Checking account    394\n",
      "Credit amount         0\n",
      "Duration              0\n",
      "Purpose               0\n",
      "Risk                  0\n",
      "dtype: int64\n"
     ]
    }
   ],
   "source": [
    "# Verificar tipo de dato para cada columna\n",
    "print(\"Tipos de datos actuales:\")\n",
    "print(df.dtypes)\n",
    "\n",
    "# Eliminar columna índice innecesaria\n",
    "df = df.drop('Unnamed: 0', axis=1)\n",
    "\n",
    "# Verificar que Job sea numérica (ya parece estar como int64)\n",
    "print(\"\\nValores de Job:\", df['Job'].unique())\n",
    "\n",
    "# Verificar duplicados\n",
    "duplicados = df.duplicated().sum()\n",
    "print(f\"\\nNúmero de filas duplicadas: {duplicados}\")\n",
    "\n",
    "# Verificar valores faltantes por columna\n",
    "print(\"\\nValores faltantes por columna:\")\n",
    "print(df.isnull().sum())"
   ]
  },
  {
   "cell_type": "markdown",
   "metadata": {},
   "source": [
    "#### Duplicados: \n",
    "No hay filas duplicadas (0)\n",
    "\n",
    "#### Valores faltantes:\n",
    "\n",
    "1. Saving accounts: 183 valores faltantes\n",
    "2. Checking account: 394 valores faltantes"
   ]
  },
  {
   "cell_type": "code",
   "execution_count": 8,
   "metadata": {},
   "outputs": [
    {
     "name": "stdout",
     "output_type": "stream",
     "text": [
      "Porcentaje de valores faltantes:\n",
      "Age                  0.0\n",
      "Sex                  0.0\n",
      "Job                  0.0\n",
      "Housing              0.0\n",
      "Saving accounts     18.3\n",
      "Checking account    39.4\n",
      "Credit amount        0.0\n",
      "Duration             0.0\n",
      "Purpose              0.0\n",
      "Risk                 0.0\n",
      "dtype: float64\n",
      "\n",
      "Distribución de Risk según valores faltantes en Checking account:\n",
      "Risk                    bad       good\n",
      "Checking account                      \n",
      "False             41.914191  58.085809\n",
      "True              11.675127  88.324873\n"
     ]
    }
   ],
   "source": [
    "# Ver porcentaje de valores faltantes\n",
    "print(\"Porcentaje de valores faltantes:\")\n",
    "print((df.isnull().sum() / len(df)) * 100)\n",
    "\n",
    "# Analizar si los valores faltantes tienen un patrón\n",
    "# Por ejemplo, ver la distribución de Risk para registros con/sin Checking account\n",
    "print(\"\\nDistribución de Risk según valores faltantes en Checking account:\")\n",
    "print(pd.crosstab(df['Checking account'].isnull(), df['Risk'], normalize='index') * 100)"
   ]
  },
  {
   "cell_type": "markdown",
   "metadata": {},
   "source": [
    "#### Porcentaje de valores faltantes:\n",
    "\n",
    "- Saving accounts: 18.3%\n",
    "- Checking account: 39.4%\n",
    "\n",
    "#### Distribución de Risk según valores faltantes en Checking account:\n",
    "\n",
    "- Cuando Checking account tiene valor (False): 41.9% son bad, 58.1% son good\n",
    "- Cuando Checking account NO tiene valor (True): 11.7% son bad, 88.3% son good\n",
    "\n",
    "Esto muestra un patrón importante: cuando falta Checking account, hay una probabilidad mucho mayor de que el riesgo sea \"good\" (88.3% vs 58.1%). Esto sugiere que los valores faltantes no son aleatorios y probablemente indican algo específico (como tal vez \"no tiene cuenta corriente\")."
   ]
  },
  {
   "cell_type": "markdown",
   "metadata": {},
   "source": [
    "#### Para el preprocesamiento, debemos:\n",
    "\n",
    "- Tratar los valores faltantes como una categoría separada (podemos llamarla \"none\")\n",
    "- Hacer lo mismo con Saving accounts por consistencia\n"
   ]
  },
  {
   "cell_type": "code",
   "execution_count": 9,
   "metadata": {},
   "outputs": [
    {
     "name": "stdout",
     "output_type": "stream",
     "text": [
      "Valores únicos después del tratamiento:\n",
      "Saving accounts: ['none' 'little' 'quite rich' 'rich' 'moderate']\n",
      "Checking account: ['little' 'moderate' 'none' 'rich']\n"
     ]
    }
   ],
   "source": [
    "# Tratar valores faltantes en columnas categóricas como una categoría más\n",
    "df['Saving accounts'] = df['Saving accounts'].fillna('none')\n",
    "df['Checking account'] = df['Checking account'].fillna('none')\n",
    "\n",
    "# Verificar el resultado\n",
    "print(\"Valores únicos después del tratamiento:\")\n",
    "print(\"Saving accounts:\", df['Saving accounts'].unique())\n",
    "print(\"Checking account:\", df['Checking account'].unique())"
   ]
  },
  {
   "cell_type": "markdown",
   "metadata": {},
   "source": [
    "Ahora debemos verificar si hay otros problemas de formato en las columnas. voy a revisar cada columna categórica para asegurar consistencia en la capitalización y espacios:"
   ]
  },
  {
   "cell_type": "code",
   "execution_count": 10,
   "metadata": {},
   "outputs": [
    {
     "name": "stdout",
     "output_type": "stream",
     "text": [
      "\n",
      "Valores únicos en Sex:\n",
      "Sex\n",
      "male      690\n",
      "female    310\n",
      "Name: count, dtype: int64\n",
      "\n",
      "Valores únicos en Housing:\n",
      "Housing\n",
      "own     713\n",
      "rent    179\n",
      "free    108\n",
      "Name: count, dtype: int64\n",
      "\n",
      "Valores únicos en Saving accounts:\n",
      "Saving accounts\n",
      "little        603\n",
      "none          183\n",
      "moderate      103\n",
      "quite rich     63\n",
      "rich           48\n",
      "Name: count, dtype: int64\n",
      "\n",
      "Valores únicos en Checking account:\n",
      "Checking account\n",
      "none        394\n",
      "little      274\n",
      "moderate    269\n",
      "rich         63\n",
      "Name: count, dtype: int64\n",
      "\n",
      "Valores únicos en Purpose:\n",
      "Purpose\n",
      "car                    337\n",
      "radio/TV               280\n",
      "furniture/equipment    181\n",
      "business                97\n",
      "education               59\n",
      "repairs                 22\n",
      "domestic appliances     12\n",
      "vacation/others         12\n",
      "Name: count, dtype: int64\n",
      "\n",
      "Valores únicos en Risk:\n",
      "Risk\n",
      "good    700\n",
      "bad     300\n",
      "Name: count, dtype: int64\n"
     ]
    }
   ],
   "source": [
    "# Verificar valores únicos para cada columna categórica después del tratamiento\n",
    "categorical_columns = ['Sex', 'Housing', 'Saving accounts', 'Checking account', 'Purpose', 'Risk']\n",
    "\n",
    "for column in categorical_columns:\n",
    "    print(f\"\\nValores únicos en {column}:\")\n",
    "    print(df[column].value_counts())"
   ]
  },
  {
   "cell_type": "markdown",
   "metadata": {},
   "source": [
    "También sería útil verificar si hay valores atípicos en las columnas numéricas:"
   ]
  },
  {
   "cell_type": "code",
   "execution_count": 11,
   "metadata": {},
   "outputs": [
    {
     "data": {
      "image/png": "[encoded data removed]",
      "text/plain": [
       "<Figure size 1500x500 with 3 Axes>"
      ]
     },
     "metadata": {},
     "output_type": "display_data"
    }
   ],
   "source": [
    "# Visualizar distribución de variables numéricas para detectar valores atípicos\n",
    "import matplotlib.pyplot as plt\n",
    "import seaborn as sns\n",
    "\n",
    "fig, axes = plt.subplots(1, 3, figsize=(15, 5))\n",
    "sns.boxplot(y=df['Age'], ax=axes[0])\n",
    "axes[0].set_title('Age')\n",
    "sns.boxplot(y=df['Credit amount'], ax=axes[1])\n",
    "axes[1].set_title('Credit amount')\n",
    "sns.boxplot(y=df['Duration'], ax=axes[2])\n",
    "axes[2].set_title('Duration')\n",
    "plt.tight_layout()\n",
    "plt.show()"
   ]
  },
  {
   "cell_type": "markdown",
   "metadata": {},
   "source": [
    "### RESULTADO:\n",
    "\n",
    "1. Las columnas categóricas tienen valores consistentes sin problemas de formato\n",
    "2. Los valores faltantes han sido tratados como 'none'\n",
    "3. Valores atípicos detectados:\n",
    "* Analizando graficas numericas\n",
    "4. Credit amount: Algunos valores superiores a 15000\n",
    "5. Duration: Algunos valores alrededor de 70 meses"
   ]
  },
  {
   "cell_type": "markdown",
   "metadata": {},
   "source": [
    "# Transformaciones"
   ]
  },
  {
   "cell_type": "markdown",
   "metadata": {},
   "source": [
    "Primero, identifiquemos columnas numéricas y categóricas:"
   ]
  },
  {
   "cell_type": "code",
   "execution_count": 15,
   "metadata": {},
   "outputs": [
    {
     "name": "stdout",
     "output_type": "stream",
     "text": [
      "   Age  Credit amount  Duration     Sex  Job Housing Saving accounts  \\\n",
      "0   67         1169.0         6    male    2     own            none   \n",
      "1   22         5951.0        48  female    2     own          little   \n",
      "2   49         2096.0        12    male    1     own          little   \n",
      "3   45         7882.0        42    male    2    free          little   \n",
      "4   53         4870.0        24    male    2    free          little   \n",
      "\n",
      "  Checking account              Purpose  Risk  \n",
      "0           little             radio/TV  good  \n",
      "1         moderate             radio/TV   bad  \n",
      "2             none            education  good  \n",
      "3           little  furniture/equipment  good  \n",
      "4           little                  car   bad  \n"
     ]
    }
   ],
   "source": [
    "# Identificar columnas numéricas y categóricas para procesamiento\n",
    "numeric_features = ['Age', 'Credit amount', 'Duration']\n",
    "categorical_features = ['Sex', 'Job', 'Housing', 'Saving accounts', 'Checking account', 'Purpose']\n",
    "target = 'Risk'\n",
    "\n",
    "# Verificar la estructura actual del dataframe\n",
    "print(df[numeric_features + categorical_features + [target]].head())"
   ]
  },
  {
   "cell_type": "code",
   "execution_count": 16,
   "metadata": {},
   "outputs": [
    {
     "data": {
      "image/png": "[encoded data removed]",
      "text/plain": [
       "<Figure size 1200x500 with 2 Axes>"
      ]
     },
     "metadata": {},
     "output_type": "display_data"
    }
   ],
   "source": [
    "# B. Transformaciones\n",
    "# 1. Tratamiento de valores atípicos para columnas numéricas\n",
    "import numpy as np\n",
    "from scipy import stats\n",
    "\n",
    "# Método 1: Recorte por percentiles (capping)\n",
    "def tratar_atipicos_percentil(df, columna, p_low=0.01, p_high=0.99):\n",
    "    \"\"\"Recorta valores por debajo del percentil p_low y por encima del percentil p_high\"\"\"\n",
    "    low, high = df[columna].quantile([p_low, p_high])\n",
    "    df_clean = df.copy()\n",
    "    df_clean.loc[df_clean[columna] < low, columna] = low\n",
    "    df_clean.loc[df_clean[columna] > high, columna] = high\n",
    "    return df_clean\n",
    "\n",
    "# Método 2: Z-score (valores fuera de 3 desviaciones estándar)\n",
    "def tratar_atipicos_zscore(df, columna, umbral=3):\n",
    "    \"\"\"Identifica y reemplaza valores que están más allá de 'umbral' desviaciones estándar\"\"\"\n",
    "    df_clean = df.copy()\n",
    "    z_scores = stats.zscore(df_clean[columna])\n",
    "    abs_z_scores = np.abs(z_scores)\n",
    "    outlier_indices = np.where(abs_z_scores > umbral)[0]\n",
    "    if len(outlier_indices) > 0:\n",
    "        media = df_clean[columna].mean()\n",
    "        df_clean.loc[abs_z_scores > umbral, columna] = media\n",
    "    return df_clean\n",
    "\n",
    "# Aplicar método de recorte por percentiles a 'Credit amount' y 'Duration'\n",
    "# Estos tienen valores atípicos más evidentes según los boxplots\n",
    "df = tratar_atipicos_percentil(df, 'Credit amount', 0.01, 0.99)\n",
    "df = tratar_atipicos_percentil(df, 'Duration', 0.01, 0.99)\n",
    "\n",
    "# Verificar resultado con boxplots actualizados\n",
    "import matplotlib.pyplot as plt\n",
    "import seaborn as sns\n",
    "\n",
    "fig, axes = plt.subplots(1, 2, figsize=(12, 5))\n",
    "sns.boxplot(y=df['Credit amount'], ax=axes[0])\n",
    "axes[0].set_title('Credit amount (después de tratar atípicos)')\n",
    "sns.boxplot(y=df['Duration'], ax=axes[1])\n",
    "axes[1].set_title('Duration (después de tratar atípicos)')\n",
    "plt.tight_layout()\n",
    "plt.show()"
   ]
  },
  {
   "cell_type": "markdown",
   "metadata": {},
   "source": [
    "Los boxplots muestran que el tratamiento de valores atípicos ha sido efectivo:\n",
    "\n",
    "#### Credit amount:\n",
    "\n",
    "- Se redujo la dispersión en los valores extremos\n",
    "- Los valores superiores ahora están limitados a aproximadamente 14,000 (antes había valores hasta 18,000)\n",
    "- La distribución general se mantiene, pero con menor influencia de outliers\n",
    "\n",
    "\n",
    "#### Duration:\n",
    "\n",
    "- También se ha reducido la variabilidad extrema\n",
    "- Aún hay algunos valores atípicos, pero están más cerca del resto de los datos\n",
    "- El límite superior parece estar ahora alrededor de 60 meses (antes llegaba a 70)"
   ]
  },
  {
   "cell_type": "markdown",
   "metadata": {},
   "source": [
    "#### escalado de variables numéricas y la codificación de variables categóricas utilizando sklearn:"
   ]
  },
  {
   "cell_type": "code",
   "execution_count": 17,
   "metadata": {},
   "outputs": [
    {
     "name": "stdout",
     "output_type": "stream",
     "text": [
      "Antes del escalado (primeras 3 filas):\n",
      "   Age  Credit amount  Duration\n",
      "0   67         1169.0         6\n",
      "1   22         5951.0        48\n",
      "2   49         2096.0        12\n",
      "\n",
      "Después del escalado (primeras 3 filas):\n",
      "[[ 2.76645648 -0.75586269 -1.24297238]\n",
      " [-1.19140394  0.97331275  2.25976783]\n",
      " [ 1.18331231 -0.42065867 -0.74258093]]\n"
     ]
    }
   ],
   "source": [
    "# Importar bibliotecas necesarias\n",
    "from sklearn.preprocessing import StandardScaler, MinMaxScaler\n",
    "from sklearn.preprocessing import OrdinalEncoder, OneHotEncoder\n",
    "from sklearn.impute import SimpleImputer\n",
    "from sklearn.compose import ColumnTransformer\n",
    "from sklearn.pipeline import Pipeline\n",
    "\n",
    "# Primero, definir los escaladores para variables numéricas\n",
    "# Usaremos StandardScaler (media 0, desviación estándar 1)\n",
    "numeric_transformer = StandardScaler()\n",
    "\n",
    "# Verificar efecto del escalado en variables numéricas\n",
    "# Ejemplo con una muestra de datos\n",
    "X_numeric = df[numeric_features].copy()\n",
    "scaler = StandardScaler()\n",
    "X_numeric_scaled = scaler.fit_transform(X_numeric)\n",
    "\n",
    "# Mostrar un ejemplo antes y después del escalado\n",
    "print(\"Antes del escalado (primeras 3 filas):\")\n",
    "print(X_numeric.head(3))\n",
    "print(\"\\nDespués del escalado (primeras 3 filas):\")\n",
    "print(X_numeric_scaled[:3])"
   ]
  },
  {
   "cell_type": "markdown",
   "metadata": {},
   "source": [
    "### Resultado\n",
    "Vemos cómo el escalado ha normalizado nuestros datos numéricos:\n",
    "\n",
    "1. Los valores originales de edad, monto de crédito y duración están en escalas muy diferentes\n",
    "2. Después del escalado, todos los valores están normalizados (generalmente entre -3 y 3)"
   ]
  },
  {
   "cell_type": "markdown",
   "metadata": {},
   "source": [
    "### Ahora aplicarlo a variables categóricas"
   ]
  },
  {
   "cell_type": "code",
   "execution_count": 18,
   "metadata": {},
   "outputs": [
    {
     "name": "stdout",
     "output_type": "stream",
     "text": [
      "Ejemplo de codificación ordinal para Saving accounts:\n",
      "0      none\n",
      "1    little\n",
      "2    little\n",
      "3    little\n",
      "4    little\n",
      "Name: Saving accounts, dtype: object\n",
      "[[0.]\n",
      " [1.]\n",
      " [1.]\n",
      " [1.]\n",
      " [1.]]\n",
      "\n",
      "Ejemplo de codificación One-Hot para Sex:\n",
      "0      male\n",
      "1    female\n",
      "2      male\n",
      "3      male\n",
      "4      male\n",
      "Name: Sex, dtype: object\n",
      "[[0. 1.]\n",
      " [1. 0.]\n",
      " [0. 1.]\n",
      " [0. 1.]\n",
      " [0. 1.]]\n",
      "Categorías: [array(['female', 'male'], dtype=object)]\n"
     ]
    }
   ],
   "source": [
    "# Codificación de variables categóricas\n",
    "# Para variables ordinales (con orden intrínseco)\n",
    "# Como Job, Saving accounts, Checking account\n",
    "ordinal_features = ['Job', 'Saving accounts', 'Checking account']\n",
    "\n",
    "# Definir categorías ordenadas para cada variable ordinal\n",
    "job_categories = [0, 1, 2, 3]  # Ya es numérica, pero la incluimos para coherencia\n",
    "saving_categories = ['none', 'little', 'moderate', 'quite rich', 'rich']  # De menor a mayor\n",
    "checking_categories = ['none', 'little', 'moderate', 'rich']  # De menor a mayor\n",
    "\n",
    "# Crear codificadores ordinales\n",
    "job_encoder = OrdinalEncoder(categories=[job_categories])\n",
    "saving_encoder = OrdinalEncoder(categories=[saving_categories])\n",
    "checking_encoder = OrdinalEncoder(categories=[checking_categories])\n",
    "\n",
    "# Codificar y mostrar ejemplo\n",
    "print(\"Ejemplo de codificación ordinal para Saving accounts:\")\n",
    "saving_encoded = saving_encoder.fit_transform(df[['Saving accounts']])\n",
    "print(df['Saving accounts'].head())\n",
    "print(saving_encoded[:5])\n",
    "\n",
    "# Para variables nominales (sin orden) usaremos One-Hot Encoding\n",
    "# Como Sex, Housing, Purpose\n",
    "nominal_features = ['Sex', 'Housing', 'Purpose']\n",
    "\n",
    "# Ejemplo de One-Hot Encoding\n",
    "print(\"\\nEjemplo de codificación One-Hot para Sex:\")\n",
    "encoder = OneHotEncoder(sparse_output=False)\n",
    "sex_encoded = encoder.fit_transform(df[['Sex']])\n",
    "print(df['Sex'].head())\n",
    "print(sex_encoded[:5])\n",
    "print(\"Categorías:\", encoder.categories_)"
   ]
  },
  {
   "cell_type": "markdown",
   "metadata": {},
   "source": [
    "#### Codificación Ordinal (Saving accounts):\n",
    "\n",
    "- Valores originales ('none', 'little', etc.) transformados a valores numéricos [0], [1], etc.\n",
    "- Preserva el orden natural de las categorías (none < little < moderate < quite rich < rich)\n",
    "\n",
    "\n",
    "#### Codificación One-Hot (Sex):\n",
    "\n",
    "- Cada categoría ('female', 'male') transformada en columnas binarias [1,0] y [0,1]\n",
    "- Adecuada para variables sin relación ordinal"
   ]
  },
  {
   "cell_type": "code",
   "execution_count": 19,
   "metadata": {},
   "outputs": [
    {
     "name": "stdout",
     "output_type": "stream",
     "text": [
      "Primeras 10 filas de datos transformados:\n",
      "[[0.85714286 0.05402464 0.         2.         0.         1.\n",
      "  1.         1.         0.         0.         0.         0.\n",
      "  0.         1.         0.         0.        ]\n",
      " [0.05357143 0.4017302  0.77777778 2.         1.         2.\n",
      "  0.         1.         0.         0.         0.         0.\n",
      "  0.         1.         0.         0.        ]\n",
      " [0.53571429 0.12142804 0.11111111 1.         1.         0.\n",
      "  1.         1.         0.         0.         0.         1.\n",
      "  0.         0.         0.         0.        ]\n",
      " [0.46428571 0.54213577 0.66666667 2.         1.         1.\n",
      "  1.         0.         0.         0.         0.         0.\n",
      "  1.         0.         0.         0.        ]\n",
      " [0.60714286 0.32312926 0.33333333 2.         1.         1.\n",
      "  1.         0.         0.         1.         0.         0.\n",
      "  0.         0.         0.         0.        ]\n",
      " [0.28571429 0.62742616 0.55555556 1.         0.         0.\n",
      "  1.         0.         0.         0.         0.         1.\n",
      "  0.         0.         0.         0.        ]\n",
      " [0.60714286 0.17516171 0.33333333 2.         3.         0.\n",
      "  1.         1.         0.         0.         0.         0.\n",
      "  1.         0.         0.         0.        ]\n",
      " [0.28571429 0.47422339 0.55555556 3.         1.         2.\n",
      "  1.         0.         1.         1.         0.         0.\n",
      "  0.         0.         0.         0.        ]\n",
      " [0.75       0.19144904 0.11111111 1.         4.         0.\n",
      "  1.         1.         0.         0.         0.         0.\n",
      "  0.         1.         0.         0.        ]\n",
      " [0.16071429 0.34959618 0.44444444 3.         1.         2.\n",
      "  1.         1.         0.         1.         0.         0.\n",
      "  0.         0.         0.         0.        ]]\n",
      "Forma de X_preprocessed: (1000, 16)\n"
     ]
    }
   ],
   "source": [
    "# Importar bibliotecas necesarias\n",
    "from sklearn.preprocessing import MinMaxScaler\n",
    "from sklearn.preprocessing import OrdinalEncoder, OneHotEncoder\n",
    "from sklearn.impute import SimpleImputer\n",
    "from sklearn.compose import ColumnTransformer\n",
    "from sklearn.pipeline import Pipeline\n",
    "\n",
    "# Pipeline para variables numéricas con MinMaxScaler\n",
    "numeric_pipeline = Pipeline(steps=[\n",
    "    ('imputer', SimpleImputer(strategy='mean')),\n",
    "    ('scaler', MinMaxScaler())  # Cambiado a MinMaxScaler\n",
    "])\n",
    "\n",
    "# Pipeline para variables categóricas\n",
    "# Separamos en ordinales y nominales\n",
    "ordinal_transformer = Pipeline(steps=[\n",
    "    ('imputer', SimpleImputer(strategy='constant', fill_value='none')),\n",
    "    ('ordinal', OrdinalEncoder(categories=[job_categories, saving_categories, checking_categories]))\n",
    "])\n",
    "\n",
    "nominal_transformer = Pipeline(steps=[\n",
    "    ('imputer', SimpleImputer(strategy='most_frequent')),\n",
    "    ('onehot', OneHotEncoder(drop='first', sparse_output=False))\n",
    "])\n",
    "\n",
    "# Pipeline combinado con ColumnTransformer\n",
    "preprocessor = ColumnTransformer(\n",
    "    transformers=[\n",
    "        ('num', numeric_pipeline, numeric_features),\n",
    "        ('ord', ordinal_transformer, ordinal_features),\n",
    "        ('nom', nominal_transformer, nominal_features)\n",
    "    ])\n",
    "\n",
    "# Ajustar el pipeline a los datos\n",
    "X = df.drop('Risk', axis=1)\n",
    "y = df['Risk']\n",
    "X_preprocessed = preprocessor.fit_transform(X)\n",
    "\n",
    "# Mostrar las primeras 10 filas de los datos transformados\n",
    "print(\"Primeras 10 filas de datos transformados:\")\n",
    "print(X_preprocessed[:10])\n",
    "print(\"Forma de X_preprocessed:\", X_preprocessed.shape)"
   ]
  },
  {
   "cell_type": "markdown",
   "metadata": {},
   "source": [
    "Han sido transformados correctamente utilizando nuestro pipeline completo. \n",
    "\n",
    "#### Analicemos el resultado:\n",
    "\n",
    "La forma final es (1000, 16), lo que significa:\n",
    "\n",
    "- 1000 filas (todos nuestros registros)\n",
    "- 16 columnas después de la transformación (variables numéricas escaladas + variables ordinales + variables nominales one-hot)\n",
    "\n",
    "\n",
    "- Todas las variables numéricas están escaladas entre 0 y 1 gracias al MinMaxScaler\n",
    "- Las variables categóricas se han codificado correctamente:\n",
    "\n",
    "- Las ordinales (Job, Saving accounts, Checking account) como números secuenciales\n",
    "- Las nominales (Sex, Housing, Purpose) como variables dummy (0/1)"
   ]
  },
  {
   "cell_type": "code",
   "execution_count": 20,
   "metadata": {},
   "outputs": [
    {
     "name": "stdout",
     "output_type": "stream",
     "text": [
      "Resumen del preprocesamiento:\n",
      "1. Limpieza de datos:\n",
      "   - Tratamiento de valores faltantes en 'Saving accounts' y 'Checking account'\n",
      "   - Tratamiento de valores atípicos en 'Credit amount' y 'Duration'\n",
      "2. Transformaciones:\n",
      "   - Variables numéricas: Escalado MinMax\n",
      "   - Variables categóricas ordinales: Codificación ordinal\n",
      "   - Variables categóricas nominales: Codificación One-Hot\n",
      "3. Pipeline final combinado\n",
      "\n",
      "Nombres de características después de la transformación:\n",
      "['num_Age', 'num_Credit amount', 'num_Duration', 'ord_Job', 'ord_Saving accounts', 'ord_Checking account', 'nom_Housing', 'nom_Purpose']\n"
     ]
    }
   ],
   "source": [
    "# Resumen final de todo el proceso de preprocesamiento\n",
    "\n",
    "# Guardar el pipeline para uso futuro\n",
    "import joblib\n",
    "joblib.dump(preprocessor, 'credit_preprocessor.pkl')\n",
    "\n",
    "# Resumen de transformaciones aplicadas\n",
    "print(\"Resumen del preprocesamiento:\")\n",
    "print(\"1. Limpieza de datos:\")\n",
    "print(\"   - Tratamiento de valores faltantes en 'Saving accounts' y 'Checking account'\")\n",
    "print(\"   - Tratamiento de valores atípicos en 'Credit amount' y 'Duration'\")\n",
    "print(\"2. Transformaciones:\")\n",
    "print(\"   - Variables numéricas: Escalado MinMax\")\n",
    "print(\"   - Variables categóricas ordinales: Codificación ordinal\")\n",
    "print(\"   - Variables categóricas nominales: Codificación One-Hot\")\n",
    "print(\"3. Pipeline final combinado\")\n",
    "\n",
    "# Información sobre los nombres de columnas después de la transformación\n",
    "# Esto es útil para interpretar los datos transformados\n",
    "feature_names = (\n",
    "    [f\"num_{i}\" for i in numeric_features] +\n",
    "    [f\"ord_{i}\" for i in ordinal_features] +\n",
    "    [f\"nom_{i}\" for i in nominal_features[1:]]  # -1 porque drop='first'\n",
    ")\n",
    "print(\"\\nNombres de características después de la transformación:\")\n",
    "print(feature_names)"
   ]
  },
  {
   "cell_type": "markdown",
   "metadata": {},
   "source": [
    "## PIPELINE"
   ]
  },
  {
   "cell_type": "code",
   "execution_count": 21,
   "metadata": {},
   "outputs": [
    {
     "name": "stdout",
     "output_type": "stream",
     "text": [
      "\n",
      "\n",
      "C. PIPELINES DE PREPROCESAMIENTO\n",
      "================================\n",
      "\n",
      "1. Pipeline para variables numéricas:\n",
      "Pipeline numérico creado con:\n",
      "- SimpleImputer (strategy='mean')\n",
      "- MinMaxScaler\n",
      "\n",
      "2. Pipelines para variables categóricas:\n",
      "Pipeline para variables ordinales creado con:\n",
      "- SimpleImputer (strategy='constant', fill_value='none')\n",
      "- OrdinalEncoder con categorías definidas\n",
      "Pipeline para variables nominales creado con:\n",
      "- SimpleImputer (strategy='most_frequent')\n",
      "- OneHotEncoder (drop='first', sparse_output=False)\n",
      "\n",
      "3. Pipeline final combinado:\n",
      "ColumnTransformer creado combinando los tres pipelines anteriores\n"
     ]
    }
   ],
   "source": [
    "# C. Pipelines de preprocesamiento\n",
    "# ===============================\n",
    "print(\"\\n\\nC. PIPELINES DE PREPROCESAMIENTO\")\n",
    "print(\"================================\")\n",
    "\n",
    "# 1. Pipeline para variables numéricas\n",
    "print(\"\\n1. Pipeline para variables numéricas:\")\n",
    "numeric_pipeline = Pipeline(steps=[\n",
    "    ('imputer', SimpleImputer(strategy='mean')),  # No hay valores faltantes, pero se incluye por completitud\n",
    "    ('scaler', MinMaxScaler())\n",
    "])\n",
    "print(\"Pipeline numérico creado con:\")\n",
    "print(\"- SimpleImputer (strategy='mean')\")\n",
    "print(\"- MinMaxScaler\")\n",
    "\n",
    "# 2. Pipeline para variables categóricas\n",
    "print(\"\\n2. Pipelines para variables categóricas:\")\n",
    "\n",
    "# Pipeline para variables ordinales\n",
    "ordinal_transformer = Pipeline(steps=[\n",
    "    ('imputer', SimpleImputer(strategy='constant', fill_value='none')),\n",
    "    ('ordinal', OrdinalEncoder(categories=[job_categories, saving_categories, checking_categories]))\n",
    "])\n",
    "print(\"Pipeline para variables ordinales creado con:\")\n",
    "print(\"- SimpleImputer (strategy='constant', fill_value='none')\")\n",
    "print(\"- OrdinalEncoder con categorías definidas\")\n",
    "\n",
    "# Pipeline para variables nominales\n",
    "nominal_transformer = Pipeline(steps=[\n",
    "    ('imputer', SimpleImputer(strategy='most_frequent')),\n",
    "    ('onehot', OneHotEncoder(drop='first', sparse_output=False))\n",
    "])\n",
    "print(\"Pipeline para variables nominales creado con:\")\n",
    "print(\"- SimpleImputer (strategy='most_frequent')\")\n",
    "print(\"- OneHotEncoder (drop='first', sparse_output=False)\")\n",
    "\n",
    "# 3. Pipeline combinado con ColumnTransformer\n",
    "print(\"\\n3. Pipeline final combinado:\")\n",
    "preprocessor = ColumnTransformer(\n",
    "    transformers=[\n",
    "        ('num', numeric_pipeline, numeric_features),\n",
    "        ('ord', ordinal_transformer, ordinal_features),\n",
    "        ('nom', nominal_transformer, nominal_features)\n",
    "    ])\n",
    "print(\"ColumnTransformer creado combinando los tres pipelines anteriores\")\n",
    "\n",
    "# Ajustar el pipeline a los datos\n",
    "X = df.drop('Risk', axis=1)\n",
    "y = df['Risk']\n",
    "X_preprocessed = preprocessor.fit_transform(X)"
   ]
  }
 ],
 "metadata": {
  "kernelspec": {
   "display_name": "Python 3",
   "language": "python",
   "name": "python3"
  },
  "language_info": {
   "codemirror_mode": {
    "name": "ipython",
    "version": 3
   },
   "file_extension": ".py",
   "mimetype": "text/x-python",
   "name": "python",
   "nbconvert_exporter": "python",
   "pygments_lexer": "ipython3",
   "version": "3.13.2"
  }
 },
 "nbformat": 4,
 "nbformat_minor": 2
}
