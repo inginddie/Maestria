{
 "cells": [
  {
   "cell_type": "code",
   "execution_count": 6,
   "metadata": {},
   "outputs": [
    {
     "data": {
      "application/vnd.microsoft.datawrangler.viewer.v0+json": {
       "columns": [
        {
         "name": "index",
         "rawType": "int64",
         "type": "integer"
        },
        {
         "name": "Resumen",
         "rawType": "object",
         "type": "string"
        },
        {
         "name": "Clave de incidencia",
         "rawType": "object",
         "type": "string"
        },
        {
         "name": "ID de la incidencia",
         "rawType": "int64",
         "type": "integer"
        },
        {
         "name": "Tipo de Incidencia",
         "rawType": "object",
         "type": "string"
        },
        {
         "name": "Estado",
         "rawType": "object",
         "type": "string"
        },
        {
         "name": "Clave del proyecto",
         "rawType": "object",
         "type": "string"
        },
        {
         "name": "Nombre del proyecto",
         "rawType": "object",
         "type": "string"
        },
        {
         "name": "Tipo de proyecto",
         "rawType": "object",
         "type": "string"
        },
        {
         "name": "Responsable del proyecto",
         "rawType": "object",
         "type": "string"
        },
        {
         "name": "ID del responsable del proyecto",
         "rawType": "object",
         "type": "string"
        },
        {
         "name": "Descripción del proyecto",
         "rawType": "float64",
         "type": "float"
        },
        {
         "name": "URL del proyecto",
         "rawType": "float64",
         "type": "float"
        },
        {
         "name": "Prioridad",
         "rawType": "object",
         "type": "string"
        },
        {
         "name": "Resolución",
         "rawType": "object",
         "type": "unknown"
        },
        {
         "name": "Persona asignada",
         "rawType": "object",
         "type": "unknown"
        },
        {
         "name": "ID de la persona asignada",
         "rawType": "object",
         "type": "unknown"
        },
        {
         "name": "Informador",
         "rawType": "object",
         "type": "string"
        },
        {
         "name": "ID del informador",
         "rawType": "object",
         "type": "string"
        },
        {
         "name": "Creador",
         "rawType": "object",
         "type": "string"
        },
        {
         "name": "ID del creador",
         "rawType": "object",
         "type": "string"
        },
        {
         "name": "Creada",
         "rawType": "object",
         "type": "string"
        },
        {
         "name": "Actualizada",
         "rawType": "object",
         "type": "string"
        },
        {
         "name": "Vista por Última Vez",
         "rawType": "object",
         "type": "unknown"
        },
        {
         "name": "Resuelta",
         "rawType": "object",
         "type": "unknown"
        },
        {
         "name": "Versiones corregidas",
         "rawType": "object",
         "type": "unknown"
        },
        {
         "name": "Versiones corregidas.1",
         "rawType": "object",
         "type": "unknown"
        },
        {
         "name": "Componentes",
         "rawType": "object",
         "type": "unknown"
        },
        {
         "name": "Fecha de vencimiento",
         "rawType": "object",
         "type": "string"
        },
        {
         "name": "Etiquetas",
         "rawType": "object",
         "type": "unknown"
        },
        {
         "name": "Descripción",
         "rawType": "object",
         "type": "unknown"
        },
        {
         "name": "Entorno",
         "rawType": "float64",
         "type": "float"
        },
        {
         "name": "Interesados",
         "rawType": "object",
         "type": "string"
        },
        {
         "name": "Interesados.1",
         "rawType": "object",
         "type": "unknown"
        },
        {
         "name": "Interesados.2",
         "rawType": "object",
         "type": "unknown"
        },
        {
         "name": "ID de los interesados",
         "rawType": "object",
         "type": "string"
        },
        {
         "name": "ID de los interesados.1",
         "rawType": "object",
         "type": "unknown"
        },
        {
         "name": "ID de los interesados.2",
         "rawType": "object",
         "type": "unknown"
        },
        {
         "name": "Registrar Horas de Trabajo",
         "rawType": "object",
         "type": "unknown"
        },
        {
         "name": "Estimación original",
         "rawType": "float64",
         "type": "float"
        },
        {
         "name": "Trabajo restante estimado",
         "rawType": "float64",
         "type": "float"
        },
        {
         "name": "Tiempo Trabajado",
         "rawType": "float64",
         "type": "float"
        },
        {
         "name": "Relación de trabajo",
         "rawType": "float64",
         "type": "float"
        },
        {
         "name": "Σ Estimación original",
         "rawType": "float64",
         "type": "float"
        },
        {
         "name": "Σ Trabajo restante estimado",
         "rawType": "float64",
         "type": "float"
        },
        {
         "name": "Σ Tiempo empleado",
         "rawType": "float64",
         "type": "float"
        },
        {
         "name": "Nivel de Seguridad",
         "rawType": "float64",
         "type": "float"
        },
        {
         "name": "Enlace a la incidencia interna (Blocks)",
         "rawType": "object",
         "type": "unknown"
        },
        {
         "name": "Enlace de incidencia saliente (Blocks)",
         "rawType": "object",
         "type": "unknown"
        },
        {
         "name": "Enlace de incidencia saliente (Blocks).1",
         "rawType": "object",
         "type": "unknown"
        },
        {
         "name": "Enlace a la incidencia interna (Bloqueo)",
         "rawType": "object",
         "type": "unknown"
        },
        {
         "name": "Enlace de incidencia saliente (Bloqueo)",
         "rawType": "object",
         "type": "unknown"
        },
        {
         "name": "Enlace a la incidencia interna (Defect)",
         "rawType": "object",
         "type": "unknown"
        },
        {
         "name": "Enlace de incidencia saliente (Defect)",
         "rawType": "object",
         "type": "unknown"
        },
        {
         "name": "Enlace de incidencia saliente (Defect).1",
         "rawType": "object",
         "type": "unknown"
        },
        {
         "name": "Enlace de incidencia saliente (Defect).2",
         "rawType": "object",
         "type": "unknown"
        },
        {
         "name": "Enlace de incidencia saliente (Defect).3",
         "rawType": "object",
         "type": "unknown"
        },
        {
         "name": "Enlace de incidencia saliente (Defect).4",
         "rawType": "object",
         "type": "unknown"
        },
        {
         "name": "Enlace de incidencia saliente (Defect).5",
         "rawType": "object",
         "type": "unknown"
        },
        {
         "name": "Enlace de incidencia saliente (Defect).6",
         "rawType": "object",
         "type": "unknown"
        },
        {
         "name": "Enlace a la incidencia interna (RTM Tree Relation)",
         "rawType": "object",
         "type": "unknown"
        },
        {
         "name": "Enlace de incidencia saliente (RTM Tree Relation)",
         "rawType": "object",
         "type": "unknown"
        },
        {
         "name": "Enlace a la incidencia interna (Requirement)",
         "rawType": "object",
         "type": "unknown"
        },
        {
         "name": "Enlace de incidencia saliente (Requirement)",
         "rawType": "object",
         "type": "unknown"
        },
        {
         "name": "Enlace a la incidencia interna (Riesgo)",
         "rawType": "object",
         "type": "unknown"
        },
        {
         "name": "Enlace a la incidencia interna (Riesgo).1",
         "rawType": "object",
         "type": "unknown"
        },
        {
         "name": "Enlace a la incidencia interna (Riesgo).2",
         "rawType": "object",
         "type": "unknown"
        },
        {
         "name": "Enlace de incidencia saliente (Riesgo)",
         "rawType": "object",
         "type": "unknown"
        },
        {
         "name": "Enlace de incidencia saliente (Riesgo).1",
         "rawType": "object",
         "type": "unknown"
        },
        {
         "name": "Enlace de incidencia saliente (Riesgo).2",
         "rawType": "object",
         "type": "unknown"
        },
        {
         "name": "Enlace de incidencia saliente (Riesgo).3",
         "rawType": "object",
         "type": "unknown"
        },
        {
         "name": "Enlace de incidencia saliente (Riesgo).4",
         "rawType": "object",
         "type": "unknown"
        },
        {
         "name": "Enlace a la incidencia interna (Test Case)",
         "rawType": "object",
         "type": "unknown"
        },
        {
         "name": "Enlace a la incidencia interna (Test Case).1",
         "rawType": "object",
         "type": "unknown"
        },
        {
         "name": "Enlace a la incidencia interna (Test Case).2",
         "rawType": "object",
         "type": "unknown"
        },
        {
         "name": "Enlace de incidencia saliente (Test Case)",
         "rawType": "object",
         "type": "unknown"
        },
        {
         "name": "Enlace de incidencia saliente (Test Case).1",
         "rawType": "object",
         "type": "unknown"
        },
        {
         "name": "Enlace a la incidencia interna (Test Execution)",
         "rawType": "object",
         "type": "unknown"
        },
        {
         "name": "Enlace a la incidencia interna (Test)",
         "rawType": "object",
         "type": "unknown"
        },
        {
         "name": "Enlace de incidencia saliente (Test)",
         "rawType": "object",
         "type": "unknown"
        },
        {
         "name": "Enlace a la incidencia interna (Xray Test)",
         "rawType": "object",
         "type": "unknown"
        },
        {
         "name": "Enlace a la incidencia interna (Xray Test).1",
         "rawType": "object",
         "type": "unknown"
        },
        {
         "name": "Enlace a la incidencia interna (Xray Test).2",
         "rawType": "object",
         "type": "unknown"
        },
        {
         "name": "Enlace a la incidencia interna (Xray Test).3",
         "rawType": "object",
         "type": "unknown"
        },
        {
         "name": "Enlace a la incidencia interna (Xray Test).4",
         "rawType": "object",
         "type": "unknown"
        },
        {
         "name": "Enlace a la incidencia interna (Xray Test).5",
         "rawType": "object",
         "type": "unknown"
        },
        {
         "name": "Enlace a la incidencia interna (Xray Test).6",
         "rawType": "object",
         "type": "unknown"
        },
        {
         "name": "Enlace a la incidencia interna (Xray Test).7",
         "rawType": "object",
         "type": "unknown"
        },
        {
         "name": "Enlace a la incidencia interna (Xray Test).8",
         "rawType": "object",
         "type": "unknown"
        },
        {
         "name": "Enlace a la incidencia interna (Xray Test).9",
         "rawType": "object",
         "type": "unknown"
        },
        {
         "name": "Enlace a la incidencia interna (Xray Test).10",
         "rawType": "object",
         "type": "unknown"
        },
        {
         "name": "Enlace a la incidencia interna (Xray Test).11",
         "rawType": "object",
         "type": "unknown"
        },
        {
         "name": "Enlace a la incidencia interna (Xray Test).12",
         "rawType": "object",
         "type": "unknown"
        },
        {
         "name": "Enlace a la incidencia interna (Xray Test).13",
         "rawType": "object",
         "type": "unknown"
        },
        {
         "name": "Enlace a la incidencia interna (Xray Test).14",
         "rawType": "object",
         "type": "unknown"
        },
        {
         "name": "Enlace a la incidencia interna (Xray Test).15",
         "rawType": "object",
         "type": "unknown"
        },
        {
         "name": "Enlace a la incidencia interna (Xray Test).16",
         "rawType": "object",
         "type": "unknown"
        },
        {
         "name": "Enlace a la incidencia interna (Xray Test).17",
         "rawType": "object",
         "type": "unknown"
        },
        {
         "name": "Enlace a la incidencia interna (Xray Test).18",
         "rawType": "object",
         "type": "unknown"
        },
        {
         "name": "Enlace a la incidencia interna (Xray Test).19",
         "rawType": "object",
         "type": "unknown"
        },
        {
         "name": "Enlace a la incidencia interna (Xray Test).20",
         "rawType": "object",
         "type": "unknown"
        },
        {
         "name": "Enlace a la incidencia interna (Xray Test).21",
         "rawType": "object",
         "type": "unknown"
        },
        {
         "name": "Enlace a la incidencia interna (Xray Test).22",
         "rawType": "object",
         "type": "unknown"
        },
        {
         "name": "Enlace a la incidencia interna (Xray Test).23",
         "rawType": "object",
         "type": "unknown"
        },
        {
         "name": "Enlace a la incidencia interna (Xray Test).24",
         "rawType": "object",
         "type": "unknown"
        },
        {
         "name": "Enlace a la incidencia interna (Xray Test).25",
         "rawType": "object",
         "type": "unknown"
        },
        {
         "name": "Enlace a la incidencia interna (Xray Test).26",
         "rawType": "object",
         "type": "unknown"
        },
        {
         "name": "Enlace a la incidencia interna (Xray Test).27",
         "rawType": "object",
         "type": "unknown"
        },
        {
         "name": "Enlace a la incidencia interna (Xray Test).28",
         "rawType": "object",
         "type": "unknown"
        },
        {
         "name": "Enlace a la incidencia interna (Xray Test).29",
         "rawType": "object",
         "type": "unknown"
        },
        {
         "name": "Enlace a la incidencia interna (Xray Test).30",
         "rawType": "object",
         "type": "unknown"
        },
        {
         "name": "Enlace a la incidencia interna (Xray Test).31",
         "rawType": "object",
         "type": "unknown"
        },
        {
         "name": "Enlace a la incidencia interna (Xray Test).32",
         "rawType": "object",
         "type": "unknown"
        },
        {
         "name": "Enlace de incidencia saliente (Xray Test)",
         "rawType": "object",
         "type": "unknown"
        },
        {
         "name": "Enlace de incidencia saliente (Xray Test).1",
         "rawType": "object",
         "type": "unknown"
        },
        {
         "name": "Adjunto",
         "rawType": "object",
         "type": "unknown"
        },
        {
         "name": "Adjunto.1",
         "rawType": "object",
         "type": "unknown"
        },
        {
         "name": "Adjunto.2",
         "rawType": "object",
         "type": "unknown"
        },
        {
         "name": "Adjunto.3",
         "rawType": "object",
         "type": "unknown"
        },
        {
         "name": "Adjunto.4",
         "rawType": "object",
         "type": "unknown"
        },
        {
         "name": "Adjunto.5",
         "rawType": "object",
         "type": "unknown"
        },
        {
         "name": "Adjunto.6",
         "rawType": "object",
         "type": "unknown"
        },
        {
         "name": "Adjunto.7",
         "rawType": "object",
         "type": "unknown"
        },
        {
         "name": "Adjunto.8",
         "rawType": "object",
         "type": "unknown"
        },
        {
         "name": "Adjunto.9",
         "rawType": "object",
         "type": "unknown"
        },
        {
         "name": "Adjunto.10",
         "rawType": "object",
         "type": "unknown"
        },
        {
         "name": "Adjunto.11",
         "rawType": "object",
         "type": "unknown"
        },
        {
         "name": "Adjunto.12",
         "rawType": "object",
         "type": "unknown"
        },
        {
         "name": "Adjunto.13",
         "rawType": "object",
         "type": "unknown"
        },
        {
         "name": "Adjunto.14",
         "rawType": "object",
         "type": "unknown"
        },
        {
         "name": "Adjunto.15",
         "rawType": "object",
         "type": "unknown"
        },
        {
         "name": "Adjunto.16",
         "rawType": "object",
         "type": "unknown"
        },
        {
         "name": "Adjunto.17",
         "rawType": "object",
         "type": "unknown"
        },
        {
         "name": "Adjunto.18",
         "rawType": "object",
         "type": "unknown"
        },
        {
         "name": "Adjunto.19",
         "rawType": "object",
         "type": "unknown"
        },
        {
         "name": "Adjunto.20",
         "rawType": "object",
         "type": "unknown"
        },
        {
         "name": "Adjunto.21",
         "rawType": "object",
         "type": "unknown"
        },
        {
         "name": "Adjunto.22",
         "rawType": "object",
         "type": "unknown"
        },
        {
         "name": "Adjunto.23",
         "rawType": "object",
         "type": "unknown"
        },
        {
         "name": "Adjunto.24",
         "rawType": "object",
         "type": "unknown"
        },
        {
         "name": "Adjunto.25",
         "rawType": "object",
         "type": "unknown"
        },
        {
         "name": "Adjunto.26",
         "rawType": "object",
         "type": "unknown"
        },
        {
         "name": "Adjunto.27",
         "rawType": "object",
         "type": "unknown"
        },
        {
         "name": "Adjunto.28",
         "rawType": "object",
         "type": "unknown"
        },
        {
         "name": "Adjunto.29",
         "rawType": "object",
         "type": "unknown"
        },
        {
         "name": "Adjunto.30",
         "rawType": "object",
         "type": "unknown"
        },
        {
         "name": "Adjunto.31",
         "rawType": "object",
         "type": "unknown"
        },
        {
         "name": "Adjunto.32",
         "rawType": "object",
         "type": "unknown"
        },
        {
         "name": "Adjunto.33",
         "rawType": "object",
         "type": "unknown"
        },
        {
         "name": "Adjunto.34",
         "rawType": "object",
         "type": "unknown"
        },
        {
         "name": "Adjunto.35",
         "rawType": "object",
         "type": "unknown"
        },
        {
         "name": "Adjunto.36",
         "rawType": "object",
         "type": "unknown"
        },
        {
         "name": "Adjunto.37",
         "rawType": "object",
         "type": "unknown"
        },
        {
         "name": "Adjunto.38",
         "rawType": "object",
         "type": "unknown"
        },
        {
         "name": "Adjunto.39",
         "rawType": "object",
         "type": "unknown"
        },
        {
         "name": "Adjunto.40",
         "rawType": "object",
         "type": "unknown"
        },
        {
         "name": "Adjunto.41",
         "rawType": "object",
         "type": "unknown"
        },
        {
         "name": "Campo personalizado (% Avance)",
         "rawType": "float64",
         "type": "float"
        },
        {
         "name": "Campo personalizado (A Reporte)",
         "rawType": "float64",
         "type": "float"
        },
        {
         "name": "Campo personalizado (APLICATIVOS)",
         "rawType": "float64",
         "type": "float"
        },
        {
         "name": "Campo personalizado (ATENCIÓN EQUIPO IPA)",
         "rawType": "float64",
         "type": "float"
        },
        {
         "name": "Campo personalizado (Account)",
         "rawType": "float64",
         "type": "float"
        },
        {
         "name": "Campo personalizado (Acta de aprobación)",
         "rawType": "float64",
         "type": "float"
        },
        {
         "name": "Campo personalizado (Actions)",
         "rawType": "float64",
         "type": "float"
        },
        {
         "name": "Campo personalizado (Actividad)",
         "rawType": "float64",
         "type": "float"
        },
        {
         "name": "Campo personalizado (Actividades Dominio)",
         "rawType": "float64",
         "type": "float"
        },
        {
         "name": "Campo personalizado (Agilista Solicitante)",
         "rawType": "float64",
         "type": "float"
        },
        {
         "name": "Campo personalizado (Ambiente)",
         "rawType": "float64",
         "type": "float"
        },
        {
         "name": "Campo personalizado (Ambiente).1",
         "rawType": "float64",
         "type": "float"
        },
        {
         "name": "Campo personalizado (Ambiente).2",
         "rawType": "float64",
         "type": "float"
        },
        {
         "name": "Campo personalizado (Ambiente de operación)",
         "rawType": "float64",
         "type": "float"
        },
        {
         "name": "Campo personalizado (Amount)",
         "rawType": "float64",
         "type": "float"
        },
        {
         "name": "Campo personalizado (Aplica Oferta Mercantil)",
         "rawType": "float64",
         "type": "float"
        },
        {
         "name": "Campo personalizado (Aplicaciones HOST: ¿Se Actualizó el archivo de Documentación de interfaces que se encuentra publicado en SharePoint)",
         "rawType": "float64",
         "type": "float"
        },
        {
         "name": "Campo personalizado (Aplicación)",
         "rawType": "float64",
         "type": "float"
        },
        {
         "name": "Campo personalizado (Aplicación).1",
         "rawType": "float64",
         "type": "float"
        },
        {
         "name": "Campo personalizado (Aplicación Mantiz)",
         "rawType": "object",
         "type": "string"
        },
        {
         "name": "Campo personalizado (Aplicación/Actividad)",
         "rawType": "float64",
         "type": "float"
        },
        {
         "name": "Campo personalizado (Aplicativo)",
         "rawType": "object",
         "type": "unknown"
        },
        {
         "name": "Campo personalizado (Aplicativo CDT Core)",
         "rawType": "float64",
         "type": "float"
        },
        {
         "name": "Campo personalizado (Approvals)",
         "rawType": "object",
         "type": "string"
        },
        {
         "name": "Campo personalizado (Apuestas VPTO)",
         "rawType": "float64",
         "type": "float"
        },
        {
         "name": "Campo personalizado (Area)",
         "rawType": "float64",
         "type": "float"
        },
        {
         "name": "Campo personalizado (Artefactos)",
         "rawType": "float64",
         "type": "float"
        },
        {
         "name": "Campo personalizado (Asignado A:)",
         "rawType": "float64",
         "type": "float"
        },
        {
         "name": "Campo personalizado (Asignado A:).1",
         "rawType": "float64",
         "type": "float"
        },
        {
         "name": "Campo personalizado (Asignado a)",
         "rawType": "object",
         "type": "string"
        },
        {
         "name": "Campo personalizado (Asociación a Servicio TI)",
         "rawType": "float64",
         "type": "float"
        },
        {
         "name": "Campo personalizado (Asunto)",
         "rawType": "float64",
         "type": "float"
        },
        {
         "name": "Campo personalizado (Atención)",
         "rawType": "float64",
         "type": "float"
        },
        {
         "name": "Campo personalizado (Automation Status)",
         "rawType": "object",
         "type": "unknown"
        },
        {
         "name": "Campo personalizado (Avance %)",
         "rawType": "float64",
         "type": "float"
        },
        {
         "name": "Campo personalizado (Base de Datos)",
         "rawType": "float64",
         "type": "float"
        },
        {
         "name": "Campo personalizado (Begin Date)",
         "rawType": "float64",
         "type": "float"
        },
        {
         "name": "Campo personalizado (Beneficio)",
         "rawType": "float64",
         "type": "float"
        },
        {
         "name": "Campo personalizado (Bloqueado)",
         "rawType": "float64",
         "type": "float"
        },
        {
         "name": "Campo personalizado (Building Block)",
         "rawType": "float64",
         "type": "float"
        },
        {
         "name": "Campo personalizado (CANAL)",
         "rawType": "float64",
         "type": "float"
        },
        {
         "name": "Campo personalizado (Canal de Reporte)",
         "rawType": "float64",
         "type": "float"
        },
        {
         "name": "Campo personalizado (Cantidad de aplazamientos)",
         "rawType": "float64",
         "type": "float"
        },
        {
         "name": "Campo personalizado (Cantidad de registros a resolver)",
         "rawType": "float64",
         "type": "float"
        },
        {
         "name": "Campo personalizado (Capitulo)",
         "rawType": "object",
         "type": "unknown"
        },
        {
         "name": "Campo personalizado (Caso)",
         "rawType": "float64",
         "type": "float"
        },
        {
         "name": "Campo personalizado (Caso Reinicidente)",
         "rawType": "float64",
         "type": "float"
        },
        {
         "name": "Campo personalizado (Caso Reportado a la SuperFinanciera)",
         "rawType": "float64",
         "type": "float"
        },
        {
         "name": "Campo personalizado (Casos Fallidos)",
         "rawType": "float64",
         "type": "float"
        },
        {
         "name": "Campo personalizado (Casos ejecutados)",
         "rawType": "float64",
         "type": "float"
        },
        {
         "name": "Campo personalizado (Casos totales)",
         "rawType": "float64",
         "type": "float"
        },
        {
         "name": "Campo personalizado (Catalogacion bug)",
         "rawType": "float64",
         "type": "float"
        },
        {
         "name": "Campo personalizado (Categoria)",
         "rawType": "float64",
         "type": "float"
        },
        {
         "name": "Campo personalizado (Categoria WR)",
         "rawType": "float64",
         "type": "float"
        },
        {
         "name": "Campo personalizado (Categoría)",
         "rawType": "float64",
         "type": "float"
        },
        {
         "name": "Campo personalizado (Categoría).1",
         "rawType": "float64",
         "type": "float"
        },
        {
         "name": "Campo personalizado (Categoría).2",
         "rawType": "float64",
         "type": "float"
        },
        {
         "name": "Campo personalizado (Categoría).3",
         "rawType": "float64",
         "type": "float"
        },
        {
         "name": "Campo personalizado (Categoría C&V)",
         "rawType": "float64",
         "type": "float"
        },
        {
         "name": "Campo personalizado (Categoría FyS)",
         "rawType": "float64",
         "type": "float"
        },
        {
         "name": "Campo personalizado (Categoría impedimento)",
         "rawType": "float64",
         "type": "float"
        },
        {
         "name": "Campo personalizado (Causa Raíz)",
         "rawType": "float64",
         "type": "float"
        },
        {
         "name": "Campo personalizado (Causa del Incidente/Evento:)",
         "rawType": "float64",
         "type": "float"
        },
        {
         "name": "Campo personalizado (Certificación)",
         "rawType": "float64",
         "type": "float"
        },
        {
         "name": "Campo personalizado (Certificada)",
         "rawType": "float64",
         "type": "float"
        },
        {
         "name": "Campo personalizado (Check Pos-Implementación Observaciones)",
         "rawType": "object",
         "type": "unknown"
        },
        {
         "name": "Campo personalizado (Checklist Completed)",
         "rawType": "object",
         "type": "unknown"
        },
        {
         "name": "Campo personalizado (Checklist Text)",
         "rawType": "object",
         "type": "unknown"
        },
        {
         "name": "Campo personalizado (Checklist Text (view-only))",
         "rawType": "object",
         "type": "unknown"
        },
        {
         "name": "Campo personalizado (Citizen Developer)",
         "rawType": "float64",
         "type": "float"
        },
        {
         "name": "Campo personalizado (Clasificación Incidencia CVA)",
         "rawType": "float64",
         "type": "float"
        },
        {
         "name": "Campo personalizado (Clasificación de los mandates)",
         "rawType": "float64",
         "type": "float"
        },
        {
         "name": "Campo personalizado (Cliente)",
         "rawType": "float64",
         "type": "float"
        },
        {
         "name": "Campo personalizado (Cod. ATH)",
         "rawType": "float64",
         "type": "float"
        },
        {
         "name": "Campo personalizado (Comentarios)",
         "rawType": "float64",
         "type": "float"
        },
        {
         "name": "Campo personalizado (Comentarios Analizado - En Progreso)",
         "rawType": "float64",
         "type": "float"
        },
        {
         "name": "Campo personalizado (Comentarios Analizado - Stand By)",
         "rawType": "float64",
         "type": "float"
        },
        {
         "name": "Campo personalizado (Comentarios Aproba - Cerrado)",
         "rawType": "float64",
         "type": "float"
        },
        {
         "name": "Campo personalizado (Comentarios Aprobación - Entrega)",
         "rawType": "float64",
         "type": "float"
        },
        {
         "name": "Campo personalizado (Comentarios CalRFx - POC)",
         "rawType": "float64",
         "type": "float"
        },
        {
         "name": "Campo personalizado (Comentarios Comité Aprobación - Stand By)",
         "rawType": "float64",
         "type": "float"
        },
        {
         "name": "Campo personalizado (Comentarios DefAlc - SelPrv)",
         "rawType": "float64",
         "type": "float"
        },
        {
         "name": "Campo personalizado (Comentarios En Progreso - Cerrado)",
         "rawType": "float64",
         "type": "float"
        },
        {
         "name": "Campo personalizado (Comentarios En Progreso - En Revisión)",
         "rawType": "float64",
         "type": "float"
        },
        {
         "name": "Campo personalizado (Comentarios En Progreso - Revisión)",
         "rawType": "float64",
         "type": "float"
        },
        {
         "name": "Campo personalizado (Comentarios En Progreso - Stand By)",
         "rawType": "float64",
         "type": "float"
        },
        {
         "name": "Campo personalizado (Comentarios En Revisión - Cerrado)",
         "rawType": "float64",
         "type": "float"
        },
        {
         "name": "Campo personalizado (Comentarios En Revisión - En Progreso)",
         "rawType": "float64",
         "type": "float"
        },
        {
         "name": "Campo personalizado (Comentarios En Revisión - Stand By)",
         "rawType": "float64",
         "type": "float"
        },
        {
         "name": "Campo personalizado (Comentarios Entrega - Gestión)",
         "rawType": "float64",
         "type": "float"
        },
        {
         "name": "Campo personalizado (Comentarios GenRFx - CalRFx)",
         "rawType": "float64",
         "type": "float"
        },
        {
         "name": "Campo personalizado (Comentarios Gestión - Cerrado)",
         "rawType": "float64",
         "type": "float"
        },
        {
         "name": "Campo personalizado (Comentarios Negociación - Entrega)",
         "rawType": "float64",
         "type": "float"
        },
        {
         "name": "Campo personalizado (Comentarios POC- NegPrv)",
         "rawType": "float64",
         "type": "float"
        },
        {
         "name": "Campo personalizado (Comentarios Parking Lot - Analizado)",
         "rawType": "float64",
         "type": "float"
        },
        {
         "name": "Campo personalizado (Comentarios Parking Lot - Stand By)",
         "rawType": "float64",
         "type": "float"
        },
        {
         "name": "Campo personalizado (Comentarios Revisión Jefatura - Stand By)",
         "rawType": "float64",
         "type": "float"
        },
        {
         "name": "Campo personalizado (Comentarios SelPrv - GenRFx)",
         "rawType": "float64",
         "type": "float"
        },
        {
         "name": "Campo personalizado (Comentarios Stand By - Analizado)",
         "rawType": "float64",
         "type": "float"
        },
        {
         "name": "Campo personalizado (Comentarios Stand By - Comité)",
         "rawType": "float64",
         "type": "float"
        },
        {
         "name": "Campo personalizado (Comentarios Stand By - En Progreso)",
         "rawType": "float64",
         "type": "float"
        },
        {
         "name": "Campo personalizado (Comentarios Stand By - En Revisión)",
         "rawType": "float64",
         "type": "float"
        },
        {
         "name": "Campo personalizado (Comentarios Stand By - Revisión Jefatura)",
         "rawType": "float64",
         "type": "float"
        },
        {
         "name": "Campo personalizado (Complejidad)",
         "rawType": "int64",
         "type": "integer"
        },
        {
         "name": "Campo personalizado (Complejidad).1",
         "rawType": "float64",
         "type": "float"
        },
        {
         "name": "Campo personalizado (Complejidad )",
         "rawType": "float64",
         "type": "float"
        },
        {
         "name": "Campo personalizado (Complejidad PE)",
         "rawType": "float64",
         "type": "float"
        },
        {
         "name": "Campo personalizado (Componentes Sherpa)",
         "rawType": "float64",
         "type": "float"
        },
        {
         "name": "Campo personalizado (Compromiso de entrega)",
         "rawType": "float64",
         "type": "float"
        },
        {
         "name": "Campo personalizado (Consecutivo de radicación)",
         "rawType": "float64",
         "type": "float"
        },
        {
         "name": "Campo personalizado (ContadorFCR)",
         "rawType": "float64",
         "type": "float"
        },
        {
         "name": "Campo personalizado (Control de Cambios)",
         "rawType": "object",
         "type": "unknown"
        },
        {
         "name": "Campo personalizado (Copilot)",
         "rawType": "float64",
         "type": "float"
        },
        {
         "name": "Campo personalizado (Corporate)",
         "rawType": "float64",
         "type": "float"
        },
        {
         "name": "Campo personalizado (Correo Solicitante)",
         "rawType": "float64",
         "type": "float"
        },
        {
         "name": "Campo personalizado (Correos en copia)",
         "rawType": "float64",
         "type": "float"
        },
        {
         "name": "Campo personalizado (Costo)",
         "rawType": "float64",
         "type": "float"
        },
        {
         "name": "Campo personalizado (Criterios De Aceptación)",
         "rawType": "float64",
         "type": "float"
        },
        {
         "name": "Campo personalizado (Criterios de Aceptación)",
         "rawType": "float64",
         "type": "float"
        },
        {
         "name": "Campo personalizado (Criterios de éxito)",
         "rawType": "float64",
         "type": "float"
        },
        {
         "name": "Campo personalizado (Cuál es el request)",
         "rawType": "float64",
         "type": "float"
        },
        {
         "name": "Campo personalizado (Cuál es el response)",
         "rawType": "float64",
         "type": "float"
        },
        {
         "name": "Campo personalizado (Cuál es la Api del problema?)",
         "rawType": "float64",
         "type": "float"
        },
        {
         "name": "Campo personalizado (Código de Informe)",
         "rawType": "float64",
         "type": "float"
        },
        {
         "name": "Campo personalizado (DATA SQUAD)",
         "rawType": "object",
         "type": "unknown"
        },
        {
         "name": "Campo personalizado (Definición casos de prueba)",
         "rawType": "float64",
         "type": "float"
        },
        {
         "name": "Campo personalizado (Dependencia)",
         "rawType": "float64",
         "type": "float"
        },
        {
         "name": "Campo personalizado (Dependencia:)",
         "rawType": "float64",
         "type": "float"
        },
        {
         "name": "Campo personalizado (Deploy)",
         "rawType": "float64",
         "type": "float"
        },
        {
         "name": "Campo personalizado (Desarrollador)",
         "rawType": "float64",
         "type": "float"
        },
        {
         "name": "Campo personalizado (Desarrollo)",
         "rawType": "object",
         "type": "string"
        },
        {
         "name": "Campo personalizado (Descripción breve (Logro))",
         "rawType": "float64",
         "type": "float"
        },
        {
         "name": "Campo personalizado (Descripción breve de la idea)",
         "rawType": "float64",
         "type": "float"
        },
        {
         "name": "Campo personalizado (Descripción de Plan de acción)",
         "rawType": "object",
         "type": "unknown"
        },
        {
         "name": "Campo personalizado (Descripción de la Dependencia)",
         "rawType": "float64",
         "type": "float"
        },
        {
         "name": "Campo personalizado (Descripción de la solución)",
         "rawType": "object",
         "type": "string"
        },
        {
         "name": "Campo personalizado (Descripción del Incidente/Evento Express:)",
         "rawType": "float64",
         "type": "float"
        },
        {
         "name": "Campo personalizado (Descripción:)",
         "rawType": "float64",
         "type": "float"
        },
        {
         "name": "Campo personalizado (Design System)",
         "rawType": "float64",
         "type": "float"
        },
        {
         "name": "Campo personalizado (Detalle)",
         "rawType": "float64",
         "type": "float"
        },
        {
         "name": "Campo personalizado (Detalle de la Solución)",
         "rawType": "object",
         "type": "unknown"
        },
        {
         "name": "Campo personalizado (Detenida)",
         "rawType": "float64",
         "type": "float"
        },
        {
         "name": "Campo personalizado (Dimensión)",
         "rawType": "float64",
         "type": "float"
        },
        {
         "name": "Campo personalizado (Dirección de Arquitectura y Planeación %)",
         "rawType": "float64",
         "type": "float"
        },
        {
         "name": "Campo personalizado (Dirección de Desarrollo de Software %)",
         "rawType": "float64",
         "type": "float"
        },
        {
         "name": "Campo personalizado (Dirección de Infraestructura y Operaciones de TI %)",
         "rawType": "float64",
         "type": "float"
        },
        {
         "name": "Campo personalizado (Dirección de Procesos %)",
         "rawType": "float64",
         "type": "float"
        },
        {
         "name": "Campo personalizado (Dirección de Seguridad y Ciberseguridad %)",
         "rawType": "float64",
         "type": "float"
        },
        {
         "name": "Campo personalizado (Diseñador)",
         "rawType": "float64",
         "type": "float"
        },
        {
         "name": "Campo personalizado (Diseño en ejecución)",
         "rawType": "float64",
         "type": "float"
        },
        {
         "name": "Campo personalizado (Diseños listos)",
         "rawType": "float64",
         "type": "float"
        },
        {
         "name": "Campo personalizado (Documentos)",
         "rawType": "float64",
         "type": "float"
        },
        {
         "name": "Campo personalizado (Dominio)",
         "rawType": "float64",
         "type": "float"
        },
        {
         "name": "Campo personalizado (Duración instalación)",
         "rawType": "float64",
         "type": "float"
        },
        {
         "name": "Campo personalizado (EQUIPO TRIBU ALIADOS)",
         "rawType": "float64",
         "type": "float"
        },
        {
         "name": "Campo personalizado (Efectividad Esperada (%))",
         "rawType": "float64",
         "type": "float"
        },
        {
         "name": "Campo personalizado (Ejecución asesoria)",
         "rawType": "float64",
         "type": "float"
        },
        {
         "name": "Campo personalizado (Ejecución de pruebas)",
         "rawType": "float64",
         "type": "float"
        },
        {
         "name": "Campo personalizado (Ejecutor)",
         "rawType": "float64",
         "type": "float"
        },
        {
         "name": "Campo personalizado (En alineaciación con tribus y/o terceros)",
         "rawType": "float64",
         "type": "float"
        },
        {
         "name": "Campo personalizado (En piloto)",
         "rawType": "float64",
         "type": "float"
        },
        {
         "name": "Campo personalizado (En planeación y refinamiento)",
         "rawType": "float64",
         "type": "float"
        },
        {
         "name": "Campo personalizado (En produción)",
         "rawType": "float64",
         "type": "float"
        },
        {
         "name": "Campo personalizado (En pruebas Integrales)",
         "rawType": "float64",
         "type": "float"
        },
        {
         "name": "Campo personalizado (EnCurso_TCA)",
         "rawType": "float64",
         "type": "float"
        },
        {
         "name": "Campo personalizado (End Date)",
         "rawType": "float64",
         "type": "float"
        },
        {
         "name": "Campo personalizado (Endpoint)",
         "rawType": "float64",
         "type": "float"
        },
        {
         "name": "Campo personalizado (Enlace del diagrama (draw.io))",
         "rawType": "float64",
         "type": "float"
        },
        {
         "name": "Campo personalizado (Ente de control)",
         "rawType": "float64",
         "type": "float"
        },
        {
         "name": "Campo personalizado (Entregable Analizado - En Progreso)",
         "rawType": "float64",
         "type": "float"
        },
        {
         "name": "Campo personalizado (Entregable Analizado - Stand By)",
         "rawType": "float64",
         "type": "float"
        },
        {
         "name": "Campo personalizado (Entregable Aproba - Cerrado)",
         "rawType": "float64",
         "type": "float"
        },
        {
         "name": "Campo personalizado (Entregable CalRFx - POC)",
         "rawType": "float64",
         "type": "float"
        },
        {
         "name": "Campo personalizado (Entregable Comité - En Progreso)",
         "rawType": "float64",
         "type": "float"
        },
        {
         "name": "Campo personalizado (Entregable Comité Aprobación - Stand By)",
         "rawType": "float64",
         "type": "float"
        },
        {
         "name": "Campo personalizado (Entregable DefAlc - SelPrv)",
         "rawType": "float64",
         "type": "float"
        },
        {
         "name": "Campo personalizado (Entregable En Progreso - Cerrado)",
         "rawType": "float64",
         "type": "float"
        },
        {
         "name": "Campo personalizado (Entregable En Progreso - En Revisión)",
         "rawType": "float64",
         "type": "float"
        },
        {
         "name": "Campo personalizado (Entregable En Progreso - Revisión)",
         "rawType": "float64",
         "type": "float"
        },
        {
         "name": "Campo personalizado (Entregable En Progreso - Stand By)",
         "rawType": "float64",
         "type": "float"
        },
        {
         "name": "Campo personalizado (Entregable En Revisión - Cancelado)",
         "rawType": "float64",
         "type": "float"
        },
        {
         "name": "Campo personalizado (Entregable En Revisión - Cerrado)",
         "rawType": "float64",
         "type": "float"
        },
        {
         "name": "Campo personalizado (Entregable En Revisión - En Progreso)",
         "rawType": "float64",
         "type": "float"
        },
        {
         "name": "Campo personalizado (Entregable En Revisión - Stand By)",
         "rawType": "float64",
         "type": "float"
        },
        {
         "name": "Campo personalizado (Entregable EntGciaImp - Gestión)",
         "rawType": "float64",
         "type": "float"
        },
        {
         "name": "Campo personalizado (Entregable Gestión - Cerrado)",
         "rawType": "float64",
         "type": "float"
        },
        {
         "name": "Campo personalizado (Entregable POC- NegPrv)",
         "rawType": "float64",
         "type": "float"
        },
        {
         "name": "Campo personalizado (Entregable Parking Lot - Stand By)",
         "rawType": "float64",
         "type": "float"
        },
        {
         "name": "Campo personalizado (Entregable Por Hacer - Stand By)",
         "rawType": "float64",
         "type": "float"
        },
        {
         "name": "Campo personalizado (Entregable Revisión Jefatura - En Progreso)",
         "rawType": "float64",
         "type": "float"
        },
        {
         "name": "Campo personalizado (Entregable Revisión Jefatura - Stand By)",
         "rawType": "float64",
         "type": "float"
        },
        {
         "name": "Campo personalizado (Entregable SelPrv - GenRFx)",
         "rawType": "float64",
         "type": "float"
        },
        {
         "name": "Campo personalizado (Entregable Stand By - Analizado)",
         "rawType": "float64",
         "type": "float"
        },
        {
         "name": "Campo personalizado (Entregable Stand By - Comité)",
         "rawType": "float64",
         "type": "float"
        },
        {
         "name": "Campo personalizado (Entregable Stand By - En Progreso)",
         "rawType": "float64",
         "type": "float"
        },
        {
         "name": "Campo personalizado (Entregable Stand By - En Revisión)",
         "rawType": "float64",
         "type": "float"
        },
        {
         "name": "Campo personalizado (Entregable Stand By - Por Hacer)",
         "rawType": "float64",
         "type": "float"
        },
        {
         "name": "Campo personalizado (Entregable Stand By - Revisión Jefatura)",
         "rawType": "float64",
         "type": "float"
        },
        {
         "name": "Campo personalizado (Entregado para Test)",
         "rawType": "float64",
         "type": "float"
        },
        {
         "name": "Campo personalizado (Entrevista)",
         "rawType": "float64",
         "type": "float"
        },
        {
         "name": "Campo personalizado (Epic Color)",
         "rawType": "object",
         "type": "unknown"
        },
        {
         "name": "Campo personalizado (Epic Link)",
         "rawType": "object",
         "type": "unknown"
        },
        {
         "name": "Epic Link Resumen",
         "rawType": "object",
         "type": "unknown"
        },
        {
         "name": "Campo personalizado (Epic Name)",
         "rawType": "object",
         "type": "unknown"
        },
        {
         "name": "Campo personalizado (Epic Status)",
         "rawType": "object",
         "type": "unknown"
        },
        {
         "name": "Campo personalizado (Equipo)",
         "rawType": "float64",
         "type": "float"
        },
        {
         "name": "Campo personalizado (Equipo Escalado)",
         "rawType": "float64",
         "type": "float"
        },
        {
         "name": "Campo personalizado (Equipo Impactado)",
         "rawType": "float64",
         "type": "float"
        },
        {
         "name": "Campo personalizado (Equipo del CoE Arquitectura)",
         "rawType": "float64",
         "type": "float"
        },
        {
         "name": "Campo personalizado (Equipos CoE Desarrollo)",
         "rawType": "float64",
         "type": "float"
        },
        {
         "name": "Campo personalizado (Escalado A)",
         "rawType": "float64",
         "type": "float"
        },
        {
         "name": "Campo personalizado (Esfuerzo)",
         "rawType": "float64",
         "type": "float"
        },
        {
         "name": "Campo personalizado (Especialidad:)",
         "rawType": "float64",
         "type": "float"
        },
        {
         "name": "Campo personalizado (Especificaciones listas)",
         "rawType": "float64",
         "type": "float"
        },
        {
         "name": "Campo personalizado (Especificación Técnica)",
         "rawType": "float64",
         "type": "float"
        },
        {
         "name": "Campo personalizado (Estado Informe)",
         "rawType": "float64",
         "type": "float"
        },
        {
         "name": "Campo personalizado (Estado de la dependencia)",
         "rawType": "float64",
         "type": "float"
        },
        {
         "name": "Campo personalizado (Estado de la entrega)",
         "rawType": "float64",
         "type": "float"
        },
        {
         "name": "Campo personalizado (Estado de solución Causa Raiz)",
         "rawType": "float64",
         "type": "float"
        },
        {
         "name": "Campo personalizado (Estado del proyecto de Atlas)",
         "rawType": "float64",
         "type": "float"
        },
        {
         "name": "Campo personalizado (Estado según la administración)",
         "rawType": "float64",
         "type": "float"
        },
        {
         "name": "Campo personalizado (Estimación de puntos de historia)",
         "rawType": "float64",
         "type": "float"
        },
        {
         "name": "Campo personalizado (Estimated time)",
         "rawType": "float64",
         "type": "float"
        },
        {
         "name": "Campo personalizado (Estrategia)",
         "rawType": "float64",
         "type": "float"
        },
        {
         "name": "Campo personalizado (Estrategia VPT)",
         "rawType": "float64",
         "type": "float"
        },
        {
         "name": "Campo personalizado (Estrategia de Tratamiento)",
         "rawType": "float64",
         "type": "float"
        },
        {
         "name": "Campo personalizado (Evento)",
         "rawType": "float64",
         "type": "float"
        },
        {
         "name": "Campo personalizado (Evento - Casuística (Aliados))",
         "rawType": "float64",
         "type": "float"
        },
        {
         "name": "Campo personalizado (Evento Gif)",
         "rawType": "float64",
         "type": "float"
        },
        {
         "name": "Campo personalizado (Evento Json)",
         "rawType": "float64",
         "type": "float"
        },
        {
         "name": "Campo personalizado (Fecha Acordada)",
         "rawType": "float64",
         "type": "float"
        },
        {
         "name": "Campo personalizado (Fecha Acordada de Entrega)",
         "rawType": "float64",
         "type": "float"
        },
        {
         "name": "Campo personalizado (Fecha Bloqueo Desarrollo)",
         "rawType": "float64",
         "type": "float"
        },
        {
         "name": "Campo personalizado (Fecha Bloqueo Funcional)",
         "rawType": "float64",
         "type": "float"
        },
        {
         "name": "Campo personalizado (Fecha Bloqueo QA)",
         "rawType": "float64",
         "type": "float"
        },
        {
         "name": "Campo personalizado (Fecha Certificación)",
         "rawType": "float64",
         "type": "float"
        },
        {
         "name": "Campo personalizado (Fecha Dependencia Solicitada)",
         "rawType": "float64",
         "type": "float"
        },
        {
         "name": "Campo personalizado (Fecha Desbloqueo QA)",
         "rawType": "float64",
         "type": "float"
        },
        {
         "name": "Campo personalizado (Fecha Dojo-Capacitación)",
         "rawType": "float64",
         "type": "float"
        },
        {
         "name": "Campo personalizado (Fecha Done)",
         "rawType": "float64",
         "type": "float"
        },
        {
         "name": "Campo personalizado (Fecha Entrega QA)",
         "rawType": "float64",
         "type": "float"
        },
        {
         "name": "Campo personalizado (Fecha Entrega Tester)",
         "rawType": "float64",
         "type": "float"
        },
        {
         "name": "Campo personalizado (Fecha Entregada)",
         "rawType": "float64",
         "type": "float"
        },
        {
         "name": "Campo personalizado (Fecha Nivel 1)",
         "rawType": "float64",
         "type": "float"
        },
        {
         "name": "Campo personalizado (Fecha Nivel 2)",
         "rawType": "float64",
         "type": "float"
        },
        {
         "name": "Campo personalizado (Fecha Nivel 3)",
         "rawType": "float64",
         "type": "float"
        },
        {
         "name": "Campo personalizado (Fecha POC)",
         "rawType": "float64",
         "type": "float"
        },
        {
         "name": "Campo personalizado (Fecha Paso Funcional  HU)",
         "rawType": "float64",
         "type": "float"
        },
        {
         "name": "Campo personalizado (Fecha Planeada)",
         "rawType": "float64",
         "type": "float"
        },
        {
         "name": "Campo personalizado (Fecha Primera Respuesta)",
         "rawType": "float64",
         "type": "float"
        },
        {
         "name": "Campo personalizado (Fecha Real de ejecución)",
         "rawType": "float64",
         "type": "float"
        },
        {
         "name": "Campo personalizado (Fecha Rechazado)",
         "rawType": "float64",
         "type": "float"
        },
        {
         "name": "Campo personalizado (Fecha Stopper)",
         "rawType": "float64",
         "type": "float"
        },
        {
         "name": "Campo personalizado (Fecha Validacion Solicitante)",
         "rawType": "float64",
         "type": "float"
        },
        {
         "name": "Campo personalizado (Fecha capítulo)",
         "rawType": "float64",
         "type": "float"
        },
        {
         "name": "Campo personalizado (Fecha de Aprobación)",
         "rawType": "float64",
         "type": "float"
        },
        {
         "name": "Campo personalizado (Fecha de Calificación RFX)",
         "rawType": "float64",
         "type": "float"
        },
        {
         "name": "Campo personalizado (Fecha de Cumplimiento)",
         "rawType": "float64",
         "type": "float"
        },
        {
         "name": "Campo personalizado (Fecha de Cumplimiento Ratificada)",
         "rawType": "float64",
         "type": "float"
        },
        {
         "name": "Campo personalizado (Fecha de Entendimiento/Refinamiento)",
         "rawType": "float64",
         "type": "float"
        },
        {
         "name": "Campo personalizado (Fecha de Finalización)",
         "rawType": "float64",
         "type": "float"
        },
        {
         "name": "Campo personalizado (Fecha de Generación RFX)",
         "rawType": "float64",
         "type": "float"
        },
        {
         "name": "Campo personalizado (Fecha de Gestión)",
         "rawType": "float64",
         "type": "float"
        },
        {
         "name": "Campo personalizado (Fecha de Implementación)",
         "rawType": "float64",
         "type": "float"
        },
        {
         "name": "Campo personalizado (Fecha de Inicio)",
         "rawType": "object",
         "type": "unknown"
        },
        {
         "name": "Campo personalizado (Fecha de Materialización)",
         "rawType": "float64",
         "type": "float"
        },
        {
         "name": "Campo personalizado (Fecha de Negociación)",
         "rawType": "float64",
         "type": "float"
        },
        {
         "name": "Campo personalizado (Fecha de Proceso)",
         "rawType": "float64",
         "type": "float"
        },
        {
         "name": "Campo personalizado (Fecha de Radicación)",
         "rawType": "float64",
         "type": "float"
        },
        {
         "name": "Campo personalizado (Fecha de Radicación).1",
         "rawType": "float64",
         "type": "float"
        },
        {
         "name": "Campo personalizado (Fecha de Revisión)",
         "rawType": "float64",
         "type": "float"
        },
        {
         "name": "Campo personalizado (Fecha de Selección Proveedores)",
         "rawType": "float64",
         "type": "float"
        },
        {
         "name": "Campo personalizado (Fecha de Stand By)",
         "rawType": "float64",
         "type": "float"
        },
        {
         "name": "Campo personalizado (Fecha de aplazamiento)",
         "rawType": "float64",
         "type": "float"
        },
        {
         "name": "Campo personalizado (Fecha de cancelado)",
         "rawType": "float64",
         "type": "float"
        },
        {
         "name": "Campo personalizado (Fecha de cierre)",
         "rawType": "float64",
         "type": "float"
        },
        {
         "name": "Campo personalizado (Fecha de cierre:)",
         "rawType": "float64",
         "type": "float"
        },
        {
         "name": "Campo personalizado (Fecha de compromiso)",
         "rawType": "float64",
         "type": "float"
        },
        {
         "name": "Campo personalizado (Fecha de compromiso Desarrollo)",
         "rawType": "float64",
         "type": "float"
        },
        {
         "name": "Campo personalizado (Fecha de compromiso certificación)",
         "rawType": "float64",
         "type": "float"
        },
        {
         "name": "Campo personalizado (Fecha de compromiso funcional)",
         "rawType": "float64",
         "type": "float"
        },
        {
         "name": "Campo personalizado (Fecha de desarrollo:)",
         "rawType": "float64",
         "type": "float"
        },
        {
         "name": "Campo personalizado (Fecha de entrega (o))",
         "rawType": "float64",
         "type": "float"
        },
        {
         "name": "Campo personalizado (Fecha de escalamiento)",
         "rawType": "float64",
         "type": "float"
        },
        {
         "name": "Campo personalizado (Fecha de formalización)",
         "rawType": "float64",
         "type": "float"
        },
        {
         "name": "Campo personalizado (Fecha de informe)",
         "rawType": "float64",
         "type": "float"
        },
        {
         "name": "Campo personalizado (Fecha de inicio)",
         "rawType": "object",
         "type": "unknown"
        },
        {
         "name": "Campo personalizado (Fecha de inicio.)",
         "rawType": "float64",
         "type": "float"
        },
        {
         "name": "Campo personalizado (Fecha de la satisfacción)",
         "rawType": "float64",
         "type": "float"
        },
        {
         "name": "Campo personalizado (Fecha de reporte)",
         "rawType": "float64",
         "type": "float"
        },
        {
         "name": "Campo personalizado (Fecha de solicitud)",
         "rawType": "float64",
         "type": "float"
        },
        {
         "name": "Campo personalizado (Fecha en progreso)",
         "rawType": "float64",
         "type": "float"
        },
        {
         "name": "Campo personalizado (Fecha entrega QA)",
         "rawType": "float64",
         "type": "float"
        },
        {
         "name": "Campo personalizado (Fecha estimada de entrega)",
         "rawType": "object",
         "type": "unknown"
        },
        {
         "name": "Campo personalizado (Fecha estimada necesidad)",
         "rawType": "float64",
         "type": "float"
        },
        {
         "name": "Campo personalizado (Fecha estimada paso a producción de iniciativa)",
         "rawType": "float64",
         "type": "float"
        },
        {
         "name": "Campo personalizado (Fecha límite de informe)",
         "rawType": "float64",
         "type": "float"
        },
        {
         "name": "Campo personalizado (Fecha mesa de trabajo)",
         "rawType": "float64",
         "type": "float"
        },
        {
         "name": "Campo personalizado (Fecha paso a Desarrollo)",
         "rawType": "float64",
         "type": "float"
        },
        {
         "name": "Campo personalizado (Fecha paso a Desplegar)",
         "rawType": "float64",
         "type": "float"
        },
        {
         "name": "Campo personalizado (Fecha paso a Done (Certificado))",
         "rawType": "float64",
         "type": "float"
        },
        {
         "name": "Campo personalizado (Fecha paso a QA)",
         "rawType": "float64",
         "type": "float"
        },
        {
         "name": "Campo personalizado (Fecha paso a finalizado)",
         "rawType": "float64",
         "type": "float"
        },
        {
         "name": "Campo personalizado (Fecha paso por hacer)",
         "rawType": "float64",
         "type": "float"
        },
        {
         "name": "Campo personalizado (Fecha paso por hacer.)",
         "rawType": "float64",
         "type": "float"
        },
        {
         "name": "Campo personalizado (Fecha planeada de ejecución)",
         "rawType": "float64",
         "type": "float"
        },
        {
         "name": "Campo personalizado (Fecha respuesta oficial)",
         "rawType": "float64",
         "type": "float"
        },
        {
         "name": "Campo personalizado (Fecha solicitud)",
         "rawType": "float64",
         "type": "float"
        },
        {
         "name": "Campo personalizado (Fecha y Hora Done)",
         "rawType": "float64",
         "type": "float"
        },
        {
         "name": "Campo personalizado (Fecha y hora de instalación)",
         "rawType": "float64",
         "type": "float"
        },
        {
         "name": "Campo personalizado (Fecha y hora planeada de ejecución:)",
         "rawType": "float64",
         "type": "float"
        },
        {
         "name": "Campo personalizado (Fecha última actualización)",
         "rawType": "float64",
         "type": "float"
        },
        {
         "name": "Campo personalizado (Fecha/Hora radicación incidente no SM)",
         "rawType": "float64",
         "type": "float"
        },
        {
         "name": "Campo personalizado (Fecha/hora de creación)",
         "rawType": "float64",
         "type": "float"
        },
        {
         "name": "Campo personalizado (Fechas de Reincidencia del Caso)",
         "rawType": "float64",
         "type": "float"
        },
        {
         "name": "Campo personalizado (Fiabilidad)",
         "rawType": "float64",
         "type": "float"
        },
        {
         "name": "Campo personalizado (Finalización Epica)",
         "rawType": "float64",
         "type": "float"
        },
        {
         "name": "Campo personalizado (Finalizado)",
         "rawType": "float64",
         "type": "float"
        },
        {
         "name": "Campo personalizado (Flagged)",
         "rawType": "object",
         "type": "unknown"
        },
        {
         "name": "Campo personalizado (Franquicia)",
         "rawType": "float64",
         "type": "float"
        },
        {
         "name": "Campo personalizado (Frente)",
         "rawType": "float64",
         "type": "float"
        },
        {
         "name": "Campo personalizado (Frente).1",
         "rawType": "float64",
         "type": "float"
        },
        {
         "name": "Campo personalizado (Funcionalidades)",
         "rawType": "float64",
         "type": "float"
        },
        {
         "name": "Campo personalizado (GCYC: Fecha Rechazada)",
         "rawType": "float64",
         "type": "float"
        },
        {
         "name": "Campo personalizado (GCYC: Fecha de Detenido)",
         "rawType": "float64",
         "type": "float"
        },
        {
         "name": "Campo personalizado (GCYC: Fecha de Finalización)",
         "rawType": "float64",
         "type": "float"
        },
        {
         "name": "Campo personalizado (GCYC:Alistamiento)",
         "rawType": "float64",
         "type": "float"
        },
        {
         "name": "Campo personalizado (GCYC:Análisis de datos)",
         "rawType": "float64",
         "type": "float"
        },
        {
         "name": "Campo personalizado (GCYC:Frente)",
         "rawType": "float64",
         "type": "float"
        },
        {
         "name": "Campo personalizado (GCYC:Gestión de datos)",
         "rawType": "float64",
         "type": "float"
        },
        {
         "name": "Campo personalizado (GPIT Fecha Por Iniciar)",
         "rawType": "float64",
         "type": "float"
        },
        {
         "name": "Campo personalizado (GPIT Fecha radicación)",
         "rawType": "float64",
         "type": "float"
        },
        {
         "name": "Campo personalizado (GPIT: Descripción de Necesidad)",
         "rawType": "float64",
         "type": "float"
        },
        {
         "name": "Campo personalizado (GPIT: Fecha Analisis de solicitud)",
         "rawType": "float64",
         "type": "float"
        },
        {
         "name": "Campo personalizado (GPIT: Fecha Procesar información)",
         "rawType": "float64",
         "type": "float"
        },
        {
         "name": "Campo personalizado (GPIT: Fecha Solicitud de propuesta)",
         "rawType": "float64",
         "type": "float"
        },
        {
         "name": "Campo personalizado (GPIT: Fecha Stand by (Analisis y preparacion))",
         "rawType": "float64",
         "type": "float"
        },
        {
         "name": "Campo personalizado (GPIT: Fecha Stand by (Ejecucion))",
         "rawType": "float64",
         "type": "float"
        },
        {
         "name": "Campo personalizado (GPIT: Fecha Stand by (Elaboracion memorando))",
         "rawType": "float64",
         "type": "float"
        },
        {
         "name": "Campo personalizado (GPIT: Fecha Stand by (Solicitud de informacion))",
         "rawType": "float64",
         "type": "float"
        },
        {
         "name": "Campo personalizado (GPIT: Fecha Stand by (Viabilidad del proceso))",
         "rawType": "float64",
         "type": "float"
        },
        {
         "name": "Campo personalizado (GPIT: Fecha analisis y preparacion)",
         "rawType": "float64",
         "type": "float"
        },
        {
         "name": "Campo personalizado (GPIT: Fecha aprobacion y cierre)",
         "rawType": "float64",
         "type": "float"
        },
        {
         "name": "Campo personalizado (GPIT: Fecha calificacion RFP)",
         "rawType": "float64",
         "type": "float"
        },
        {
         "name": "Campo personalizado (GPIT: Fecha cierre)",
         "rawType": "float64",
         "type": "float"
        },
        {
         "name": "Campo personalizado (GPIT: Fecha consolidación y presentación resultados)",
         "rawType": "float64",
         "type": "float"
        },
        {
         "name": "Campo personalizado (GPIT: Fecha de vencimiento)",
         "rawType": "float64",
         "type": "float"
        },
        {
         "name": "Campo personalizado (GPIT: Fecha definición de alcance y selección de proveedores)",
         "rawType": "float64",
         "type": "float"
        },
        {
         "name": "Campo personalizado (GPIT: Fecha desarrollo PoC)",
         "rawType": "float64",
         "type": "float"
        },
        {
         "name": "Campo personalizado (GPIT: Fecha ejecucion)",
         "rawType": "float64",
         "type": "float"
        },
        {
         "name": "Campo personalizado (GPIT: Fecha elaboración RFP)",
         "rawType": "float64",
         "type": "float"
        },
        {
         "name": "Campo personalizado (GPIT: Fecha elaborar memorando)",
         "rawType": "float64",
         "type": "float"
        },
        {
         "name": "Campo personalizado (GPIT: Fecha investigacion)",
         "rawType": "float64",
         "type": "float"
        },
        {
         "name": "Campo personalizado (GPIT: Fecha presentacion resultados)",
         "rawType": "float64",
         "type": "float"
        },
        {
         "name": "Campo personalizado (GPIT: Fecha radicacion memo)",
         "rawType": "float64",
         "type": "float"
        },
        {
         "name": "Campo personalizado (GPIT: Fecha seguimiento gestión contractual)",
         "rawType": "float64",
         "type": "float"
        },
        {
         "name": "Campo personalizado (GPIT: Gestor/Sponsor/Líder (tribu, Squad, COE))",
         "rawType": "float64",
         "type": "float"
        },
        {
         "name": "Campo personalizado (GPIT: Medición de metodología)",
         "rawType": "float64",
         "type": "float"
        },
        {
         "name": "Campo personalizado (GPIT: Sub Categoría Asesorias)",
         "rawType": "float64",
         "type": "float"
        },
        {
         "name": "Campo personalizado (GPIT: Sub Categoría Requerimientos)",
         "rawType": "float64",
         "type": "float"
        },
        {
         "name": "Campo personalizado (GPIT: Tipo de Ptto TI)",
         "rawType": "float64",
         "type": "float"
        },
        {
         "name": "Campo personalizado (GPIT: Tipo de Renovación)",
         "rawType": "float64",
         "type": "float"
        },
        {
         "name": "Campo personalizado (GPIT: Tipo de aprobación)",
         "rawType": "float64",
         "type": "float"
        },
        {
         "name": "Campo personalizado (GPIT: Tipo de proceso)",
         "rawType": "float64",
         "type": "float"
        },
        {
         "name": "Campo personalizado (GPIT: Valor Total COP$ Aprobación)",
         "rawType": "float64",
         "type": "float"
        },
        {
         "name": "Campo personalizado (GPIT: Valor Total COP$ Eficiencia)",
         "rawType": "float64",
         "type": "float"
        },
        {
         "name": "Campo personalizado (GPIT: Vicepresidencia)",
         "rawType": "float64",
         "type": "float"
        },
        {
         "name": "Campo personalizado (GPIT: ¿Renovado?)",
         "rawType": "float64",
         "type": "float"
        },
        {
         "name": "Campo personalizado (Gerencia de Datos %)",
         "rawType": "float64",
         "type": "float"
        },
        {
         "name": "Campo personalizado (Gerencia de Servicios de TI %)",
         "rawType": "float64",
         "type": "float"
        },
        {
         "name": "Campo personalizado (Gerencia de TI para Internacional y Filiales %)",
         "rawType": "float64",
         "type": "float"
        },
        {
         "name": "Campo personalizado (Gestor / Sponsor)",
         "rawType": "float64",
         "type": "float"
        },
        {
         "name": "Campo personalizado (Gestor/Sponsor/Líder (tribu, Squad, COE))",
         "rawType": "float64",
         "type": "float"
        },
        {
         "name": "Campo personalizado (Grupo de Asignacion1)",
         "rawType": "float64",
         "type": "float"
        },
        {
         "name": "Campo personalizado (Grupo de Asignación)",
         "rawType": "float64",
         "type": "float"
        },
        {
         "name": "Campo personalizado (Habilitador)",
         "rawType": "float64",
         "type": "float"
        },
        {
         "name": "Campo personalizado (Hallazgo con Aplazamiento)",
         "rawType": "float64",
         "type": "float"
        },
        {
         "name": "Campo personalizado (Hoja de ruta)",
         "rawType": "float64",
         "type": "float"
        },
        {
         "name": "Campo personalizado (ICBS)",
         "rawType": "float64",
         "type": "float"
        },
        {
         "name": "Campo personalizado (ID Radicación:)",
         "rawType": "float64",
         "type": "float"
        },
        {
         "name": "Campo personalizado (ID Requerimiento)",
         "rawType": "float64",
         "type": "float"
        },
        {
         "name": "Campo personalizado (ID Service Manager Incidente)",
         "rawType": "float64",
         "type": "float"
        },
        {
         "name": "Campo personalizado (ID Solicitud)",
         "rawType": "float64",
         "type": "float"
        },
        {
         "name": "Campo personalizado (ID dependencia)",
         "rawType": "float64",
         "type": "float"
        },
        {
         "name": "Campo personalizado (ID radicación/wave)",
         "rawType": "float64",
         "type": "float"
        },
        {
         "name": "Campo personalizado (Id Incidente/Evento)",
         "rawType": "float64",
         "type": "float"
        },
        {
         "name": "Campo personalizado (Id Iniciativa/Id Proyecto)",
         "rawType": "float64",
         "type": "float"
        },
        {
         "name": "Campo personalizado (Id Iniciativa:)",
         "rawType": "float64",
         "type": "float"
        },
        {
         "name": "Campo personalizado (Id Proyecto)",
         "rawType": "object",
         "type": "string"
        },
        {
         "name": "Campo personalizado (Id Solicitud)",
         "rawType": "object",
         "type": "unknown"
        },
        {
         "name": "Campo personalizado (Id de Franquicia)",
         "rawType": "float64",
         "type": "float"
        },
        {
         "name": "Campo personalizado (Idea archivada)",
         "rawType": "float64",
         "type": "float"
        },
        {
         "name": "Campo personalizado (Idea archivada el)",
         "rawType": "float64",
         "type": "float"
        },
        {
         "name": "Campo personalizado (Idioma de la solicitud)",
         "rawType": "float64",
         "type": "float"
        },
        {
         "name": "Campo personalizado (Impacto)",
         "rawType": "float64",
         "type": "float"
        },
        {
         "name": "Campo personalizado (Impacto).1",
         "rawType": "object",
         "type": "unknown"
        },
        {
         "name": "Campo personalizado (Impacto Residual)",
         "rawType": "float64",
         "type": "float"
        },
        {
         "name": "Campo personalizado (Impacto de Incidente)",
         "rawType": "float64",
         "type": "float"
        },
        {
         "name": "Campo personalizado (Incidencias vinculadas)",
         "rawType": "float64",
         "type": "float"
        },
        {
         "name": "Campo personalizado (Indicador asociado)",
         "rawType": "float64",
         "type": "float"
        },
        {
         "name": "Campo personalizado (Información)",
         "rawType": "float64",
         "type": "float"
        },
        {
         "name": "Campo personalizado (Iniciativa:)",
         "rawType": "float64",
         "type": "float"
        },
        {
         "name": "Campo personalizado (Iniciativa_PYODV)",
         "rawType": "float64",
         "type": "float"
        },
        {
         "name": "Campo personalizado (Inicio Desarrollo)",
         "rawType": "object",
         "type": "unknown"
        },
        {
         "name": "Campo personalizado (Inicio Epica)",
         "rawType": "object",
         "type": "unknown"
        },
        {
         "name": "Campo personalizado (Inicio del proyecto)",
         "rawType": "float64",
         "type": "float"
        },
        {
         "name": "Campo personalizado (Instrucciones Instalación)",
         "rawType": "float64",
         "type": "float"
        },
        {
         "name": "Campo personalizado (Issue color)",
         "rawType": "object",
         "type": "unknown"
        },
        {
         "name": "Campo personalizado (Justificación)",
         "rawType": "float64",
         "type": "float"
        },
        {
         "name": "Campo personalizado (Level Test)",
         "rawType": "float64",
         "type": "float"
        },
        {
         "name": "Campo personalizado (Lider)",
         "rawType": "float64",
         "type": "float"
        },
        {
         "name": "Campo personalizado (Link Wiki)",
         "rawType": "float64",
         "type": "float"
        },
        {
         "name": "Campo personalizado (Lista de Proveedor)",
         "rawType": "float64",
         "type": "float"
        },
        {
         "name": "Campo personalizado (Location)",
         "rawType": "float64",
         "type": "float"
        },
        {
         "name": "Campo personalizado (Locked forms)",
         "rawType": "float64",
         "type": "float"
        },
        {
         "name": "Campo personalizado (Logro)",
         "rawType": "float64",
         "type": "float"
        },
        {
         "name": "Campo personalizado (MVP (Producto Minimo Viable))",
         "rawType": "float64",
         "type": "float"
        },
        {
         "name": "Campo personalizado (Memoria capítulo arquitectura)",
         "rawType": "float64",
         "type": "float"
        },
        {
         "name": "Campo personalizado (Mesa de Trabajo)",
         "rawType": "float64",
         "type": "float"
        },
        {
         "name": "Campo personalizado (Metas de Atlas)",
         "rawType": "float64",
         "type": "float"
        },
        {
         "name": "Campo personalizado (Molécula)",
         "rawType": "object",
         "type": "string"
        },
        {
         "name": "Campo personalizado (Molécula BM)",
         "rawType": "float64",
         "type": "float"
        },
        {
         "name": "Campo personalizado (Molécula MPG)",
         "rawType": "float64",
         "type": "float"
        },
        {
         "name": "Campo personalizado (Motivo Despliegue)",
         "rawType": "float64",
         "type": "float"
        },
        {
         "name": "Campo personalizado (Motivo de cancelación)",
         "rawType": "float64",
         "type": "float"
        },
        {
         "name": "Campo personalizado (Motivo de cancelación:)",
         "rawType": "float64",
         "type": "float"
        },
        {
         "name": "Campo personalizado (Motivo de devolución)",
         "rawType": "float64",
         "type": "float"
        },
        {
         "name": "Campo personalizado (Motivo de suspensión)",
         "rawType": "float64",
         "type": "float"
        },
        {
         "name": "Campo personalizado (Necesidad)",
         "rawType": "float64",
         "type": "float"
        },
        {
         "name": "Campo personalizado (Nivel)",
         "rawType": "float64",
         "type": "float"
        },
        {
         "name": "Campo personalizado (Nivel de Exposición)",
         "rawType": "float64",
         "type": "float"
        },
        {
         "name": "Campo personalizado (Nivel de soporte)",
         "rawType": "float64",
         "type": "float"
        },
        {
         "name": "Campo personalizado (Nivel inicial)",
         "rawType": "float64",
         "type": "float"
        },
        {
         "name": "Campo personalizado (No. Reprocesos)",
         "rawType": "float64",
         "type": "float"
        },
        {
         "name": "Campo personalizado (Nombre a quien se escalo)",
         "rawType": "float64",
         "type": "float"
        },
        {
         "name": "Campo personalizado (Nombre de tu equipo de trabajo)",
         "rawType": "float64",
         "type": "float"
        },
        {
         "name": "Campo personalizado (Nombre de tu equipo de trabajo (producto))",
         "rawType": "float64",
         "type": "float"
        },
        {
         "name": "Campo personalizado (Numero de Solicitud de Usuario, Xpress Lite, Evento Express o Incidente)",
         "rawType": "float64",
         "type": "float"
        },
        {
         "name": "Campo personalizado (Número de Hallazgo)",
         "rawType": "float64",
         "type": "float"
        },
        {
         "name": "Campo personalizado (Número plan de acción)",
         "rawType": "float64",
         "type": "float"
        },
        {
         "name": "Campo personalizado (OKR Corporativo)",
         "rawType": "float64",
         "type": "float"
        },
        {
         "name": "Campo personalizado (OKR Empresarial)",
         "rawType": "float64",
         "type": "float"
        },
        {
         "name": "Campo personalizado (OKR Nuevos Negocios y Alianzas)",
         "rawType": "float64",
         "type": "float"
        },
        {
         "name": "Campo personalizado (OKR Oficial)",
         "rawType": "float64",
         "type": "float"
        },
        {
         "name": "Campo personalizado (OKR Pyme)",
         "rawType": "float64",
         "type": "float"
        },
        {
         "name": "Campo personalizado (Objetivo del proyecto)",
         "rawType": "float64",
         "type": "float"
        },
        {
         "name": "Campo personalizado (Objetivos)",
         "rawType": "float64",
         "type": "float"
        },
        {
         "name": "Campo personalizado (Objetivos BdB)",
         "rawType": "float64",
         "type": "float"
        },
        {
         "name": "Campo personalizado (Observación componente)",
         "rawType": "float64",
         "type": "float"
        },
        {
         "name": "Campo personalizado (Opciones de ejecución)",
         "rawType": "float64",
         "type": "float"
        },
        {
         "name": "Campo personalizado (Opciones de ejecución:)",
         "rawType": "object",
         "type": "string"
        },
        {
         "name": "Campo personalizado (Open forms)",
         "rawType": "float64",
         "type": "float"
        },
        {
         "name": "Campo personalizado (Origen)",
         "rawType": "float64",
         "type": "float"
        },
        {
         "name": "Campo personalizado (Origen dependencia)",
         "rawType": "float64",
         "type": "float"
        },
        {
         "name": "Campo personalizado (PASO A DEV)",
         "rawType": "float64",
         "type": "float"
        },
        {
         "name": "Campo personalizado (PM Solicitante)",
         "rawType": "float64",
         "type": "float"
        },
        {
         "name": "Campo personalizado (Para la solucion se radico Incidente o solicitud)",
         "rawType": "float64",
         "type": "float"
        },
        {
         "name": "Campo personalizado (Paso Backlog a Priorizado)",
         "rawType": "float64",
         "type": "float"
        },
        {
         "name": "Campo personalizado (Paso Desarrollo a QA)",
         "rawType": "float64",
         "type": "float"
        },
        {
         "name": "Campo personalizado (Paso Priorizado a Desarrollo)",
         "rawType": "float64",
         "type": "float"
        },
        {
         "name": "Campo personalizado (Paso a Analisis)",
         "rawType": "float64",
         "type": "float"
        },
        {
         "name": "Campo personalizado (Paso a Banco)",
         "rawType": "float64",
         "type": "float"
        },
        {
         "name": "Campo personalizado (Paso a Bloqueado)",
         "rawType": "float64",
         "type": "float"
        },
        {
         "name": "Campo personalizado (Paso a Desarrollo)",
         "rawType": "object",
         "type": "unknown"
        },
        {
         "name": "Campo personalizado (Paso a Desbloqueado)",
         "rawType": "float64",
         "type": "float"
        },
        {
         "name": "Campo personalizado (Paso a Diagnostico)",
         "rawType": "float64",
         "type": "float"
        },
        {
         "name": "Campo personalizado (Paso a Done)",
         "rawType": "object",
         "type": "unknown"
        },
        {
         "name": "Campo personalizado (Paso a Escalado)",
         "rawType": "float64",
         "type": "float"
        },
        {
         "name": "Campo personalizado (Paso a Listo)",
         "rawType": "float64",
         "type": "float"
        },
        {
         "name": "Campo personalizado (Paso a Producción)",
         "rawType": "object",
         "type": "unknown"
        },
        {
         "name": "Campo personalizado (Paso a Pruebas)",
         "rawType": "object",
         "type": "unknown"
        },
        {
         "name": "Campo personalizado (Paso a Release)",
         "rawType": "object",
         "type": "unknown"
        },
        {
         "name": "Campo personalizado (Paso a Select)",
         "rawType": "float64",
         "type": "float"
        },
        {
         "name": "Campo personalizado (Paso a Validación)",
         "rawType": "float64",
         "type": "float"
        },
        {
         "name": "Campo personalizado (Paso a diseño)",
         "rawType": "float64",
         "type": "float"
        },
        {
         "name": "Campo personalizado (Paso a proveedor)",
         "rawType": "float64",
         "type": "float"
        },
        {
         "name": "Campo personalizado (Paso deploy)",
         "rawType": "float64",
         "type": "float"
        },
        {
         "name": "Campo personalizado (Paso ejecución)",
         "rawType": "float64",
         "type": "float"
        },
        {
         "name": "Campo personalizado (Paso verificación PM/ARQ)",
         "rawType": "object",
         "type": "unknown"
        },
        {
         "name": "Campo personalizado (Pasos Instalación Incidente CVA)",
         "rawType": "float64",
         "type": "float"
        },
        {
         "name": "Campo personalizado (Pendiente Asesoria)",
         "rawType": "float64",
         "type": "float"
        },
        {
         "name": "Campo personalizado (Pendiente Despliegue)",
         "rawType": "float64",
         "type": "float"
        },
        {
         "name": "Campo personalizado (Percepción)",
         "rawType": "float64",
         "type": "float"
        },
        {
         "name": "Campo personalizado (Petición de soporte)",
         "rawType": "float64",
         "type": "float"
        },
        {
         "name": "Campo personalizado (Pilar AE:)",
         "rawType": "float64",
         "type": "float"
        },
        {
         "name": "Campo personalizado (Pilar BDB)",
         "rawType": "float64",
         "type": "float"
        },
        {
         "name": "Campo personalizado (Plan de contingencia)",
         "rawType": "float64",
         "type": "float"
        },
        {
         "name": "Campo personalizado (Por priorizar)",
         "rawType": "float64",
         "type": "float"
        },
        {
         "name": "Campo personalizado (PorHacer_TCA)",
         "rawType": "float64",
         "type": "float"
        },
        {
         "name": "Campo personalizado (Portal)",
         "rawType": "float64",
         "type": "float"
        },
        {
         "name": "Campo personalizado (Portal ICBS)",
         "rawType": "float64",
         "type": "float"
        },
        {
         "name": "Campo personalizado (Prioridad)",
         "rawType": "float64",
         "type": "float"
        },
        {
         "name": "Campo personalizado (Prioridad Incidente CVA)",
         "rawType": "float64",
         "type": "float"
        },
        {
         "name": "Campo personalizado (Prioridad Soporte)",
         "rawType": "float64",
         "type": "float"
        },
        {
         "name": "Campo personalizado (Priorización)",
         "rawType": "float64",
         "type": "float"
        },
        {
         "name": "Campo personalizado (Priorización diseño)",
         "rawType": "float64",
         "type": "float"
        },
        {
         "name": "Campo personalizado (Probabilidad Residual)",
         "rawType": "float64",
         "type": "float"
        },
        {
         "name": "Campo personalizado (Probabilidad ocurrencia fallo)",
         "rawType": "float64",
         "type": "float"
        },
        {
         "name": "Campo personalizado (Proceso Servicio BIA)",
         "rawType": "float64",
         "type": "float"
        },
        {
         "name": "Campo personalizado (Producto)",
         "rawType": "float64",
         "type": "float"
        },
        {
         "name": "Campo personalizado (Progreso de la Lista de Verificación)",
         "rawType": "object",
         "type": "unknown"
        },
        {
         "name": "Campo personalizado (Progreso de la Lista de Verificación %)",
         "rawType": "float64",
         "type": "float"
        },
        {
         "name": "Campo personalizado (Progreso de la entrega)",
         "rawType": "float64",
         "type": "float"
        },
        {
         "name": "Campo personalizado (Project overview key)",
         "rawType": "float64",
         "type": "float"
        },
        {
         "name": "Campo personalizado (Project overview status)",
         "rawType": "float64",
         "type": "float"
        },
        {
         "name": "Campo personalizado (Proveedor)",
         "rawType": "float64",
         "type": "float"
        },
        {
         "name": "Campo personalizado (Proveedor).1",
         "rawType": "float64",
         "type": "float"
        },
        {
         "name": "Campo personalizado (Proveedor Desarrollo Externo)",
         "rawType": "float64",
         "type": "float"
        },
        {
         "name": "Campo personalizado (Proyecto CC)",
         "rawType": "float64",
         "type": "float"
        },
        {
         "name": "Campo personalizado (Proyecto GDAG)",
         "rawType": "float64",
         "type": "float"
        },
        {
         "name": "Campo personalizado (Proyecto de Atlas)",
         "rawType": "float64",
         "type": "float"
        },
        {
         "name": "Campo personalizado (Prueba Seguridad)",
         "rawType": "float64",
         "type": "float"
        },
        {
         "name": "Campo personalizado (Pull Request Incidentes CVA)",
         "rawType": "float64",
         "type": "float"
        },
        {
         "name": "Campo personalizado (Puntuación del impacto)",
         "rawType": "float64",
         "type": "float"
        },
        {
         "name": "Campo personalizado (QA Asignado)",
         "rawType": "float64",
         "type": "float"
        },
        {
         "name": "Campo personalizado (RLO)",
         "rawType": "float64",
         "type": "float"
        },
        {
         "name": "Campo personalizado (Rank)",
         "rawType": "object",
         "type": "string"
        },
        {
         "name": "Campo personalizado (Ready to test)",
         "rawType": "float64",
         "type": "float"
        },
        {
         "name": "Campo personalizado (Rechazado)",
         "rawType": "float64",
         "type": "float"
        },
        {
         "name": "Campo personalizado (Recibido de:)",
         "rawType": "float64",
         "type": "float"
        },
        {
         "name": "Campo personalizado (Referencia)",
         "rawType": "float64",
         "type": "float"
        },
        {
         "name": "Campo personalizado (Reincidencia Incidente CVA)",
         "rawType": "float64",
         "type": "float"
        },
        {
         "name": "Campo personalizado (Release Proyecto:)",
         "rawType": "float64",
         "type": "float"
        },
        {
         "name": "Campo personalizado (Release comprometido)",
         "rawType": "float64",
         "type": "float"
        },
        {
         "name": "Campo personalizado (Reporte a Ejecución)",
         "rawType": "float64",
         "type": "float"
        },
        {
         "name": "Campo personalizado (Repositorio Actualizado)",
         "rawType": "float64",
         "type": "float"
        },
        {
         "name": "Campo personalizado (Repositorio Afectado)",
         "rawType": "float64",
         "type": "float"
        },
        {
         "name": "Campo personalizado (Requerimiento ICBS)",
         "rawType": "float64",
         "type": "float"
        },
        {
         "name": "Campo personalizado (Request Type)",
         "rawType": "float64",
         "type": "float"
        },
        {
         "name": "Campo personalizado (Request participants)",
         "rawType": "float64",
         "type": "float"
        },
        {
         "name": "Campo personalizado (Responsable  Desarrollo)",
         "rawType": "float64",
         "type": "float"
        },
        {
         "name": "Campo personalizado (Responsable funcional)",
         "rawType": "float64",
         "type": "float"
        },
        {
         "name": "Campo personalizado (Responsable tester)",
         "rawType": "object",
         "type": "unknown"
        },
        {
         "name": "Campo personalizado (Responsable tester)ID",
         "rawType": "object",
         "type": "unknown"
        },
        {
         "name": "Campo personalizado (Responsable.)",
         "rawType": "float64",
         "type": "float"
        },
        {
         "name": "Campo personalizado (Respuesta)",
         "rawType": "float64",
         "type": "float"
        },
        {
         "name": "Campo personalizado (Revision)",
         "rawType": "float64",
         "type": "float"
        },
        {
         "name": "Campo personalizado (Rol)",
         "rawType": "object",
         "type": "unknown"
        },
        {
         "name": "Campo personalizado (Rol).1",
         "rawType": "float64",
         "type": "float"
        },
        {
         "name": "Campo personalizado (Ruta Evidencia BeeCoe)",
         "rawType": "float64",
         "type": "float"
        },
        {
         "name": "Campo personalizado (SERVICIOS SOPORTE N1 N2)",
         "rawType": "float64",
         "type": "float"
        },
        {
         "name": "Campo personalizado (SQUAD BDB)",
         "rawType": "float64",
         "type": "float"
        },
        {
         "name": "Calificación de satisfacción",
         "rawType": "float64",
         "type": "float"
        },
        {
         "name": "Campo personalizado (Se realizo la documentación ?)",
         "rawType": "float64",
         "type": "float"
        },
        {
         "name": "Campo personalizado (Sección)",
         "rawType": "float64",
         "type": "float"
        },
        {
         "name": "Campo personalizado (Segmento Mercado)",
         "rawType": "float64",
         "type": "float"
        },
        {
         "name": "Campo personalizado (SelecParaDev_TCA)",
         "rawType": "float64",
         "type": "float"
        },
        {
         "name": "Campo personalizado (Seleccionar Tipo Fallo)",
         "rawType": "object",
         "type": "string"
        },
        {
         "name": "Campo personalizado (Servicio)",
         "rawType": "float64",
         "type": "float"
        },
        {
         "name": "Campo personalizado (Servicio / Plataforma)",
         "rawType": "float64",
         "type": "float"
        },
        {
         "name": "Campo personalizado (Servicios afectados)",
         "rawType": "float64",
         "type": "float"
        },
        {
         "name": "Campo personalizado (Severidad)",
         "rawType": "float64",
         "type": "float"
        },
        {
         "name": "Campo personalizado (Solicitado por)",
         "rawType": "float64",
         "type": "float"
        },
        {
         "name": "Campo personalizado (Solicitante)",
         "rawType": "float64",
         "type": "float"
        },
        {
         "name": "Sprint",
         "rawType": "object",
         "type": "unknown"
        },
        {
         "name": "Sprint.1",
         "rawType": "object",
         "type": "unknown"
        },
        {
         "name": "Sprint.2",
         "rawType": "object",
         "type": "unknown"
        },
        {
         "name": "Sprint.3",
         "rawType": "object",
         "type": "unknown"
        },
        {
         "name": "Sprint.4",
         "rawType": "object",
         "type": "unknown"
        },
        {
         "name": "Sprint.5",
         "rawType": "object",
         "type": "unknown"
        },
        {
         "name": "Sprint.6",
         "rawType": "object",
         "type": "unknown"
        },
        {
         "name": "Sprint.7",
         "rawType": "object",
         "type": "unknown"
        },
        {
         "name": "Sprint.8",
         "rawType": "object",
         "type": "unknown"
        },
        {
         "name": "Sprint.9",
         "rawType": "object",
         "type": "unknown"
        },
        {
         "name": "Sprint.10",
         "rawType": "object",
         "type": "unknown"
        },
        {
         "name": "Sprint.11",
         "rawType": "object",
         "type": "unknown"
        },
        {
         "name": "Sprint.12",
         "rawType": "object",
         "type": "unknown"
        },
        {
         "name": "Sprint.13",
         "rawType": "object",
         "type": "unknown"
        },
        {
         "name": "Sprint.14",
         "rawType": "object",
         "type": "unknown"
        },
        {
         "name": "Sprint.15",
         "rawType": "object",
         "type": "unknown"
        },
        {
         "name": "Sprint.16",
         "rawType": "object",
         "type": "unknown"
        },
        {
         "name": "Campo personalizado (Sprint Planeado)",
         "rawType": "float64",
         "type": "float"
        },
        {
         "name": "Campo personalizado (Squad SMT)",
         "rawType": "float64",
         "type": "float"
        },
        {
         "name": "Campo personalizado (Start date)",
         "rawType": "object",
         "type": "unknown"
        },
        {
         "name": "Campo personalizado (Story Points)",
         "rawType": "float64",
         "type": "float"
        },
        {
         "name": "Campo personalizado (Story Points Desarrollo)",
         "rawType": "float64",
         "type": "float"
        },
        {
         "name": "Campo personalizado (Story Points Funcional)",
         "rawType": "float64",
         "type": "float"
        },
        {
         "name": "Campo personalizado (Story Points QA)",
         "rawType": "float64",
         "type": "float"
        },
        {
         "name": "Campo personalizado (Submitted forms)",
         "rawType": "float64",
         "type": "float"
        },
        {
         "name": "Campo personalizado (Subtarea)",
         "rawType": "float64",
         "type": "float"
        },
        {
         "name": "Campo personalizado (Subtipo BUG)",
         "rawType": "float64",
         "type": "float"
        },
        {
         "name": "Campo personalizado (Summary)",
         "rawType": "float64",
         "type": "float"
        },
        {
         "name": "Campo personalizado (TABLERO CANALES )",
         "rawType": "object",
         "type": "unknown"
        },
        {
         "name": "Campo personalizado (TIPO SERVICIO)",
         "rawType": "float64",
         "type": "float"
        },
        {
         "name": "Campo personalizado (Tablero Toy Story)",
         "rawType": "float64",
         "type": "float"
        },
        {
         "name": "Campo personalizado (Tablero proyecto TCP)",
         "rawType": "float64",
         "type": "float"
        },
        {
         "name": "Campo personalizado (Target end)",
         "rawType": "float64",
         "type": "float"
        },
        {
         "name": "Campo personalizado (Target start)",
         "rawType": "float64",
         "type": "float"
        },
        {
         "name": "Campo personalizado (Team)",
         "rawType": "float64",
         "type": "float"
        },
        {
         "name": "Campo personalizado (Tema)",
         "rawType": "float64",
         "type": "float"
        },
        {
         "name": "Campo personalizado (Tema padre)",
         "rawType": "float64",
         "type": "float"
        },
        {
         "name": "Campo personalizado (Temas capítulo)",
         "rawType": "float64",
         "type": "float"
        },
        {
         "name": "Campo personalizado (Terminado)",
         "rawType": "float64",
         "type": "float"
        },
        {
         "name": "Campo personalizado (TestPlan)",
         "rawType": "float64",
         "type": "float"
        },
        {
         "name": "Campo personalizado (Tiempo ejecucion)",
         "rawType": "float64",
         "type": "float"
        },
        {
         "name": "Campo personalizado (Tiempo en Comité Aprobación)",
         "rawType": "float64",
         "type": "float"
        },
        {
         "name": "Campo personalizado (Tiempo en Revisión Jefatura)",
         "rawType": "float64",
         "type": "float"
        },
        {
         "name": "Campo personalizado (Tiempo espera test)",
         "rawType": "float64",
         "type": "float"
        },
        {
         "name": "Campo personalizado (Tiene adjuntos en SMAX)",
         "rawType": "float64",
         "type": "float"
        },
        {
         "name": "Campo personalizado (Tipificacion)",
         "rawType": "float64",
         "type": "float"
        },
        {
         "name": "Campo personalizado (Tipificación de incidente)",
         "rawType": "float64",
         "type": "float"
        },
        {
         "name": "Campo personalizado (Tipificación del Soporte)",
         "rawType": "float64",
         "type": "float"
        },
        {
         "name": "Campo personalizado (Tipo Atención)",
         "rawType": "float64",
         "type": "float"
        },
        {
         "name": "Campo personalizado (Tipo Dependencia/Iniciativa Estra)",
         "rawType": "float64",
         "type": "float"
        },
        {
         "name": "Campo personalizado (Tipo Encuesta/Cuestionario/Solicitud)",
         "rawType": "float64",
         "type": "float"
        },
        {
         "name": "Campo personalizado (Tipo Incidente/Evento)",
         "rawType": "float64",
         "type": "float"
        },
        {
         "name": "Campo personalizado (Tipo Subtareas)",
         "rawType": "float64",
         "type": "float"
        },
        {
         "name": "Campo personalizado (Tipo actividad Administrativa)",
         "rawType": "float64",
         "type": "float"
        },
        {
         "name": "Campo personalizado (Tipo de Acción)",
         "rawType": "float64",
         "type": "float"
        },
        {
         "name": "Campo personalizado (Tipo de Evaluación:)",
         "rawType": "float64",
         "type": "float"
        },
        {
         "name": "Campo personalizado (Tipo de Evento)",
         "rawType": "float64",
         "type": "float"
        },
        {
         "name": "Campo personalizado (Tipo de Incidencia reportada)",
         "rawType": "float64",
         "type": "float"
        },
        {
         "name": "Campo personalizado (Tipo de Incidente)",
         "rawType": "float64",
         "type": "float"
        },
        {
         "name": "Campo personalizado (Tipo de Indicador)",
         "rawType": "float64",
         "type": "float"
        },
        {
         "name": "Campo personalizado (Tipo de Subtarea)",
         "rawType": "float64",
         "type": "float"
        },
        {
         "name": "Campo personalizado (Tipo de actividad HU)",
         "rawType": "float64",
         "type": "float"
        },
        {
         "name": "Campo personalizado (Tipo de afectación)",
         "rawType": "float64",
         "type": "float"
        },
        {
         "name": "Campo personalizado (Tipo de bloqueo:)",
         "rawType": "float64",
         "type": "float"
        },
        {
         "name": "Campo personalizado (Tipo de error)",
         "rawType": "float64",
         "type": "float"
        },
        {
         "name": "Campo personalizado (Tipo de función fitness)",
         "rawType": "float64",
         "type": "float"
        },
        {
         "name": "Campo personalizado (Tipo de impacto)",
         "rawType": "float64",
         "type": "float"
        },
        {
         "name": "Campo personalizado (Tipo de proyecto)",
         "rawType": "float64",
         "type": "float"
        },
        {
         "name": "Campo personalizado (Tipo de requerimiento)",
         "rawType": "float64",
         "type": "float"
        },
        {
         "name": "Campo personalizado (Tipo de solicitud)",
         "rawType": "float64",
         "type": "float"
        },
        {
         "name": "Campo personalizado (Tipo de solución incidente)",
         "rawType": "float64",
         "type": "float"
        },
        {
         "name": "Campo personalizado (Tipo de tarea)",
         "rawType": "float64",
         "type": "float"
        },
        {
         "name": "Campo personalizado (Tipo de tarea ST)",
         "rawType": "float64",
         "type": "float"
        },
        {
         "name": "Campo personalizado (Tipología)",
         "rawType": "float64",
         "type": "float"
        },
        {
         "name": "Campo personalizado (Tipología:)",
         "rawType": "float64",
         "type": "float"
        },
        {
         "name": "Campo personalizado (Tipos STOPPER)",
         "rawType": "object",
         "type": "unknown"
        },
        {
         "name": "Campo personalizado (Token Usuario)",
         "rawType": "float64",
         "type": "float"
        },
        {
         "name": "Campo personalizado (Total forms)",
         "rawType": "float64",
         "type": "float"
        },
        {
         "name": "Campo personalizado (Transversal VPT %)",
         "rawType": "float64",
         "type": "float"
        },
        {
         "name": "Campo personalizado (Tribu - Squad)",
         "rawType": "object",
         "type": "unknown"
        },
        {
         "name": "Campo personalizado (UNIDAD AGIL)",
         "rawType": "object",
         "type": "unknown"
        },
        {
         "name": "Campo personalizado (URL Pipeline)",
         "rawType": "float64",
         "type": "float"
        },
        {
         "name": "Campo personalizado (URL Pull request STG)",
         "rawType": "float64",
         "type": "float"
        },
        {
         "name": "Campo personalizado (Unidad Agil/Equipo Solicitante)",
         "rawType": "float64",
         "type": "float"
        },
        {
         "name": "Campo personalizado (Unidad Ágil Receptora)",
         "rawType": "float64",
         "type": "float"
        },
        {
         "name": "Campo personalizado (Unidad Ágil/Equipo Receptor)",
         "rawType": "float64",
         "type": "float"
        },
        {
         "name": "Campo personalizado (Usuario Desarrollador)",
         "rawType": "float64",
         "type": "float"
        },
        {
         "name": "Campo personalizado (Usuario Funcional)",
         "rawType": "float64",
         "type": "float"
        },
        {
         "name": "Campo personalizado (Usuario QA)",
         "rawType": "float64",
         "type": "float"
        },
        {
         "name": "Campo personalizado (Usuario origen que reporta el caso)",
         "rawType": "float64",
         "type": "float"
        },
        {
         "name": "Campo personalizado (Usuario remitente mail)",
         "rawType": "float64",
         "type": "float"
        },
        {
         "name": "Campo personalizado (VIicepresidencia)",
         "rawType": "float64",
         "type": "float"
        },
        {
         "name": "Campo personalizado (Validación Lider SOLTI)",
         "rawType": "float64",
         "type": "float"
        },
        {
         "name": "Campo personalizado (Validación de logs)",
         "rawType": "float64",
         "type": "float"
        },
        {
         "name": "Campo personalizado (Validation Team)",
         "rawType": "float64",
         "type": "float"
        },
        {
         "name": "Campo personalizado (Valor)",
         "rawType": "float64",
         "type": "float"
        },
        {
         "name": "Campo personalizado (Valor del Impacto)",
         "rawType": "float64",
         "type": "float"
        },
        {
         "name": "Campo personalizado (Valor del impacto.)",
         "rawType": "float64",
         "type": "float"
        },
        {
         "name": "Campo personalizado (Vendor)",
         "rawType": "float64",
         "type": "float"
        },
        {
         "name": "Campo personalizado (Versión)",
         "rawType": "float64",
         "type": "float"
        },
        {
         "name": "Campo personalizado (Versión Beta)",
         "rawType": "float64",
         "type": "float"
        },
        {
         "name": "Campo personalizado (Versión Release)",
         "rawType": "float64",
         "type": "float"
        },
        {
         "name": "Campo personalizado (Versión artefacto ATH)",
         "rawType": "float64",
         "type": "float"
        },
        {
         "name": "Campo personalizado (Vicepresidencia)",
         "rawType": "float64",
         "type": "float"
        },
        {
         "name": "Campo personalizado (Vicepresidencia:)",
         "rawType": "float64",
         "type": "float"
        },
        {
         "name": "Campo personalizado (Vista-punto de vista)",
         "rawType": "float64",
         "type": "float"
        },
        {
         "name": "Campo personalizado (Vulnerabilidad)",
         "rawType": "float64",
         "type": "float"
        },
        {
         "name": "Campo personalizado ([CHART] Date of First Response)",
         "rawType": "object",
         "type": "unknown"
        },
        {
         "name": "Campo personalizado ([CHART] Time in Status)",
         "rawType": "object",
         "type": "unknown"
        },
        {
         "name": "Campo personalizado (campo aplicativo (QA-STG))",
         "rawType": "float64",
         "type": "float"
        },
        {
         "name": "Campo personalizado (en desarrollo tribu y/o terceros)",
         "rawType": "float64",
         "type": "float"
        },
        {
         "name": "Campo personalizado (prueba)",
         "rawType": "float64",
         "type": "float"
        },
        {
         "name": "Campo personalizado (uuid)",
         "rawType": "float64",
         "type": "float"
        },
        {
         "name": "Campo personalizado (¿ El resultado de la verificación de los Logs de instalación fue exitoso?)",
         "rawType": "float64",
         "type": "float"
        },
        {
         "name": "Campo personalizado (¿ La Gerencia de Tecnología entregó los Logs de instalación?)",
         "rawType": "float64",
         "type": "float"
        },
        {
         "name": "Campo personalizado (¿ Los archivos instalados en el ambiente de producción corresponden con el requerimiento instalado?)",
         "rawType": "float64",
         "type": "float"
        },
        {
         "name": "Campo personalizado (¿ Los servicios claves se encuentran operativos después de la instalación?)",
         "rawType": "float64",
         "type": "float"
        },
        {
         "name": "Campo personalizado (¿ Mallas de procesamiento?)",
         "rawType": "float64",
         "type": "float"
        },
        {
         "name": "Campo personalizado (¿ Se presentaron errores en los listings?)",
         "rawType": "float64",
         "type": "float"
        },
        {
         "name": "Campo personalizado (¿ Se presentaron errores o alertas en los Logs de instalación?)",
         "rawType": "float64",
         "type": "float"
        },
        {
         "name": "Campo personalizado (¿ Se realizó el enmascaramiento de los datos sensibles identificados?)",
         "rawType": "float64",
         "type": "float"
        },
        {
         "name": "Campo personalizado (¿Al crear o actualizar tablas existentes  se documentó o actualizó el diccionario de datos en el formato definido?)",
         "rawType": "float64",
         "type": "float"
        },
        {
         "name": "Campo personalizado (¿Cómo se logro la eficiencia obtenida?)",
         "rawType": "float64",
         "type": "float"
        },
        {
         "name": "Campo personalizado (¿Dependencia Negociada?)",
         "rawType": "float64",
         "type": "float"
        },
        {
         "name": "Campo personalizado (¿En los procesos de captura de datos se validaron las reglas de calidad definidas para cada tipo de dato?)",
         "rawType": "float64",
         "type": "float"
        },
        {
         "name": "Campo personalizado (¿En que escuadrón deseas hacer la solicitud?)",
         "rawType": "float64",
         "type": "float"
        },
        {
         "name": "Campo personalizado (¿Incidente/Evento?)",
         "rawType": "float64",
         "type": "float"
        },
        {
         "name": "Campo personalizado (¿Necesita Validación de Data?)",
         "rawType": "float64",
         "type": "float"
        },
        {
         "name": "Campo personalizado (¿Necesita pruebas de afectación?)",
         "rawType": "float64",
         "type": "float"
        },
        {
         "name": "Campo personalizado (¿Planeada?)",
         "rawType": "float64",
         "type": "float"
        },
        {
         "name": "Campo personalizado (¿Retrabajo?)",
         "rawType": "float64",
         "type": "float"
        },
        {
         "name": "Campo personalizado (¿Se diligencio el archivo de Despliegues?)",
         "rawType": "float64",
         "type": "float"
        },
        {
         "name": "Campo personalizado (¿Se usan las  listas de referencia oficiales del Banco para los datos que lo requieran (RDM, MDS)?)",
         "rawType": "float64",
         "type": "float"
        },
        {
         "name": "Campo personalizado (Área  / Gerencia Solicitante)",
         "rawType": "float64",
         "type": "float"
        },
        {
         "name": "Campo personalizado (Área Solicitante)",
         "rawType": "float64",
         "type": "float"
        },
        {
         "name": "Campo personalizado (Área solicitante)",
         "rawType": "float64",
         "type": "float"
        },
        {
         "name": "Comentario",
         "rawType": "object",
         "type": "unknown"
        },
        {
         "name": "Comentario.1",
         "rawType": "object",
         "type": "unknown"
        },
        {
         "name": "Comentario.2",
         "rawType": "object",
         "type": "unknown"
        },
        {
         "name": "Comentario.3",
         "rawType": "object",
         "type": "unknown"
        },
        {
         "name": "Comentario.4",
         "rawType": "object",
         "type": "unknown"
        },
        {
         "name": "Comentario.5",
         "rawType": "object",
         "type": "unknown"
        },
        {
         "name": "Comentario.6",
         "rawType": "object",
         "type": "unknown"
        },
        {
         "name": "Comentario.7",
         "rawType": "object",
         "type": "unknown"
        },
        {
         "name": "Categoría de estado",
         "rawType": "object",
         "type": "string"
        },
        {
         "name": "Categoría de estado cambiada",
         "rawType": "object",
         "type": "string"
        },
        {
         "name": "Principal",
         "rawType": "float64",
         "type": "float"
        },
        {
         "name": "Parent summary",
         "rawType": "object",
         "type": "unknown"
        }
       ],
       "conversionMethod": "pd.DataFrame",
       "ref": "8d89c245-dd00-48cf-8981-1969c2cadf48",
       "rows": [
        [
         "0",
         "Compra no presente",
         "TACYTP-21",
         "513798",
         "Épica",
         "TERMINADO",
         "TACYTP",
         "Tribu API Canales y transaccional producto",
         "software",
         "Diego Arturo Bustos Aponte",
         "5f58d767662e2d00766b5fba",
         null,
         null,
         "Medio",
         "Listo",
         "Wilson Nilton Martinez Arias",
         "5bff0b440ecb4f1b2ffa832e",
         "Angie Tatiana Vargas Luque",
         "63189c654fbe9c4bd0ef5869",
         "Angie Tatiana Vargas Luque",
         "63189c654fbe9c4bd0ef5869",
         "22/jun/23 11:18 AM",
         "25/feb/25 9:21 AM",
         null,
         "04/feb/24 4:53 PM",
         "2024",
         null,
         null,
         "16/feb/23 12:00 AM",
         null,
         "El cliente del banco de Bogotá requiere realizar una transacción de compra en establecimiento virtual con su cuenta asociada a la Tarjeta Débito. Cuando la transacción se apruebe, le notificaremos al cliente mediante mensaje SMS al número celular inscrito como dato seguro. Se debe notificar al monitor de riesgo la operación para ser evaluada en tiempo real.",
         null,
         "Angie Tatiana Vargas Luque",
         null,
         null,
         "63189c654fbe9c4bd0ef5869",
         null,
         null,
         null,
         null,
         null,
         null,
         null,
         null,
         null,
         null,
         null,
         null,
         null,
         null,
         null,
         null,
         null,
         null,
         null,
         null,
         null,
         null,
         null,
         null,
         null,
         null,
         null,
         null,
         null,
         null,
         null,
         null,
         null,
         null,
         null,
         null,
         null,
         null,
         null,
         null,
         null,
         null,
         null,
         null,
         null,
         null,
         null,
         null,
         null,
         null,
         null,
         null,
         null,
         null,
         null,
         null,
         null,
         null,
         null,
         null,
         null,
         null,
         null,
         null,
         null,
         null,
         null,
         null,
         null,
         null,
         null,
         null,
         null,
         null,
         null,
         null,
         null,
         null,
         null,
         null,
         null,
         null,
         null,
         null,
         null,
         null,
         null,
         null,
         null,
         null,
         null,
         null,
         null,
         null,
         null,
         null,
         null,
         null,
         null,
         null,
         null,
         null,
         null,
         null,
         null,
         null,
         null,
         null,
         null,
         null,
         null,
         null,
         null,
         null,
         null,
         null,
         null,
         null,
         null,
         null,
         null,
         null,
         null,
         null,
         null,
         null,
         null,
         null,
         null,
         null,
         null,
         null,
         null,
         null,
         null,
         null,
         null,
         null,
         null,
         null,
         "No aplica",
         null,
         null,
         null,
         "com.atlassian.servicedesk.plugins.approvals.internal.customfield.ApprovalsCFValue@288ff42c",
         null,
         null,
         null,
         null,
         null,
         "Proveedor Externo",
         null,
         null,
         null,
         null,
         null,
         null,
         null,
         null,
         null,
         null,
         null,
         null,
         null,
         null,
         null,
         null,
         null,
         null,
         null,
         null,
         null,
         null,
         null,
         null,
         null,
         null,
         null,
         null,
         null,
         null,
         null,
         null,
         null,
         null,
         null,
         null,
         null,
         null,
         null,
         null,
         null,
         null,
         null,
         null,
         null,
         null,
         null,
         null,
         null,
         null,
         null,
         null,
         null,
         null,
         null,
         null,
         null,
         null,
         null,
         null,
         null,
         null,
         null,
         null,
         null,
         null,
         null,
         null,
         null,
         null,
         null,
         null,
         null,
         "1",
         null,
         null,
         null,
         null,
         null,
         null,
         null,
         null,
         null,
         null,
         null,
         null,
         null,
         null,
         null,
         null,
         null,
         null,
         null,
         null,
         null,
         null,
         null,
         null,
         null,
         null,
         "{}",
         null,
         null,
         null,
         null,
         "...",
         null,
         null,
         null,
         null,
         null,
         null,
         null,
         null,
         null,
         null,
         null,
         null,
         null,
         null,
         null,
         null,
         null,
         null,
         null,
         null,
         null,
         null,
         null,
         null,
         null,
         null,
         null,
         null,
         null,
         null,
         null,
         null,
         null,
         null,
         null,
         null,
         null,
         null,
         null,
         null,
         null,
         null,
         null,
         null,
         null,
         null,
         null,
         null,
         null,
         null,
         null,
         null,
         null,
         null,
         null,
         null,
         null,
         null,
         null,
         null,
         null,
         null,
         null,
         null,
         "ghx-label-7",
         null,
         null,
         "Compra no presente",
         "To Do",
         null,
         null,
         null,
         null,
         null,
         null,
         null,
         null,
         null,
         null,
         null,
         null,
         null,
         null,
         null,
         null,
         null,
         null,
         null,
         null,
         null,
         null,
         null,
         null,
         null,
         null,
         null,
         null,
         null,
         null,
         null,
         null,
         null,
         null,
         null,
         null,
         null,
         null,
         null,
         null,
         null,
         null,
         null,
         null,
         null,
         null,
         null,
         null,
         null,
         null,
         null,
         null,
         null,
         null,
         null,
         null,
         null,
         null,
         null,
         null,
         null,
         null,
         null,
         null,
         null,
         null,
         null,
         null,
         null,
         null,
         null,
         null,
         null,
         null,
         null,
         null,
         null,
         null,
         null,
         null,
         null,
         null,
         null,
         null,
         null,
         null,
         null,
         null,
         null,
         null,
         null,
         null,
         null,
         null,
         null,
         null,
         null,
         null,
         null,
         null,
         null,
         null,
         null,
         null,
         null,
         null,
         null,
         null,
         null,
         null,
         null,
         null,
         null,
         null,
         null,
         null,
         null,
         null,
         null,
         null,
         null,
         null,
         null,
         null,
         null,
         null,
         null,
         null,
         null,
         null,
         null,
         null,
         null,
         null,
         null,
         null,
         null,
         null,
         null,
         null,
         null,
         null,
         null,
         null,
         null,
         null,
         null,
         null,
         null,
         null,
         null,
         null,
         null,
         null,
         null,
         null,
         null,
         null,
         null,
         null,
         null,
         null,
         null,
         null,
         null,
         null,
         null,
         null,
         null,
         null,
         null,
         null,
         null,
         null,
         null,
         null,
         null,
         null,
         null,
         null,
         null,
         null,
         null,
         "000 - Sin Proyecto Asociado",
         "Proyecto",
         null,
         null,
         null,
         null,
         null,
         null,
         null,
         null,
         null,
         null,
         null,
         null,
         null,
         "10000_*:*_1_*:*_19632780011_*|*_11276_*:*_1_*:*_85923_*|*_11258_*:*_1_*:*_0",
         null,
         null,
         null,
         "purple",
         null,
         null,
         null,
         null,
         null,
         null,
         null,
         null,
         null,
         null,
         null,
         null,
         "Producto Transaccional",
         null,
         null,
         null,
         null,
         null,
         null,
         null,
         null,
         null,
         null,
         null,
         null,
         null,
         null,
         null,
         null,
         null,
         null,
         null,
         null,
         null,
         null,
         null,
         null,
         null,
         null,
         null,
         null,
         null,
         "No aplica",
         null,
         null,
         null,
         null,
         null,
         null,
         null,
         null,
         null,
         null,
         null,
         null,
         "04/Feb/24 9:51 PM",
         null,
         null,
         "04/Feb/24 9:53 PM",
         null,
         null,
         null,
         null,
         null,
         null,
         null,
         null,
         null,
         null,
         null,
         null,
         null,
         null,
         null,
         null,
         null,
         null,
         null,
         null,
         null,
         null,
         null,
         null,
         null,
         null,
         null,
         null,
         null,
         null,
         null,
         null,
         null,
         null,
         "0.0",
         null,
         null,
         null,
         null,
         null,
         null,
         null,
         null,
         null,
         null,
         null,
         null,
         null,
         null,
         "2|hvpliv:",
         null,
         null,
         null,
         null,
         null,
         null,
         null,
         null,
         null,
         null,
         null,
         null,
         null,
         null,
         null,
         null,
         null,
         null,
         null,
         null,
         null,
         null,
         null,
         null,
         null,
         null,
         null,
         null,
         null,
         null,
         "Daño",
         null,
         null,
         null,
         null,
         null,
         null,
         null,
         null,
         null,
         null,
         null,
         null,
         null,
         null,
         null,
         null,
         null,
         null,
         null,
         null,
         null,
         null,
         null,
         null,
         null,
         "03/feb/23 12:00 AM",
         null,
         null,
         null,
         null,
         null,
         null,
         null,
         null,
         null,
         null,
         null,
         null,
         null,
         null,
         null,
         null,
         null,
         null,
         null,
         null,
         null,
         null,
         null,
         null,
         null,
         null,
         null,
         null,
         null,
         null,
         null,
         null,
         null,
         null,
         null,
         null,
         null,
         null,
         null,
         null,
         null,
         null,
         null,
         null,
         null,
         null,
         null,
         null,
         null,
         null,
         null,
         null,
         null,
         null,
         null,
         null,
         null,
         null,
         null,
         null,
         null,
         null,
         null,
         null,
         null,
         null,
         null,
         null,
         null,
         null,
         null,
         null,
         null,
         null,
         null,
         null,
         null,
         null,
         null,
         null,
         null,
         null,
         null,
         null,
         null,
         null,
         null,
         null,
         "10000_*:*_1_*:*_19632780011_*|*_11276_*:*_1_*:*_85923_*|*_11258_*:*_1_*:*_0",
         null,
         null,
         null,
         null,
         null,
         null,
         null,
         null,
         null,
         null,
         null,
         null,
         null,
         null,
         null,
         null,
         null,
         null,
         null,
         null,
         null,
         null,
         null,
         null,
         null,
         null,
         null,
         null,
         null,
         null,
         null,
         null,
         null,
         null,
         null,
         "Listo",
         "04/feb/24 4:53 PM",
         null,
         null
        ],
        [
         "1",
         "Compra Internacional Contact Less",
         "TACYTP-134",
         "514130",
         "Épica",
         "TERMINADO",
         "TACYTP",
         "Tribu API Canales y transaccional producto",
         "software",
         "Diego Arturo Bustos Aponte",
         "5f58d767662e2d00766b5fba",
         null,
         null,
         "Medio",
         "Listo",
         "Wilson Nilton Martinez Arias",
         "5bff0b440ecb4f1b2ffa832e",
         "Angie Tatiana Vargas Luque",
         "63189c654fbe9c4bd0ef5869",
         "Angie Tatiana Vargas Luque",
         "63189c654fbe9c4bd0ef5869",
         "22/jun/23 3:28 PM",
         "13/feb/24 8:52 PM",
         null,
         "04/feb/24 4:53 PM",
         null,
         null,
         null,
         "10/mar/23 12:00 AM",
         null,
         "El cliente del banco de Bogotá requiere realizar una transacción de compra en establecimiento comercial en un datáfono físico con su cuenta asociada a la Tarjeta Débito. Cuando la transacción se apruebe, le notificaremos al cliente mediante mensaje SMS al número celular inscrito como dato seguro. Se debe notificar al monitor de riesgo la operación para ser evaluada en tiempo real. Siempre y cuando tenga el saldo disponible para poder realizar esta transacción y no exceda los límites máximos establecidos. Para este tipo de transacción, no se debe ingresar el pin sino se excede el monto establecido para compras contact less.",
         null,
         "Angie Tatiana Vargas Luque",
         null,
         null,
         "63189c654fbe9c4bd0ef5869",
         null,
         null,
         null,
         null,
         null,
         null,
         null,
         null,
         null,
         null,
         null,
         null,
         null,
         null,
         null,
         null,
         null,
         null,
         null,
         null,
         null,
         null,
         null,
         null,
         null,
         null,
         null,
         null,
         null,
         null,
         null,
         null,
         null,
         null,
         null,
         null,
         null,
         null,
         null,
         null,
         null,
         null,
         null,
         null,
         null,
         null,
         null,
         null,
         null,
         null,
         null,
         null,
         null,
         null,
         null,
         null,
         null,
         null,
         null,
         null,
         null,
         null,
         null,
         null,
         null,
         null,
         null,
         null,
         null,
         null,
         null,
         null,
         null,
         null,
         null,
         null,
         null,
         null,
         null,
         null,
         null,
         null,
         null,
         null,
         null,
         null,
         null,
         null,
         null,
         null,
         null,
         null,
         null,
         null,
         null,
         null,
         null,
         null,
         null,
         null,
         null,
         null,
         null,
         null,
         null,
         null,
         null,
         null,
         null,
         null,
         null,
         null,
         null,
         null,
         null,
         null,
         null,
         null,
         null,
         null,
         null,
         null,
         null,
         null,
         null,
         null,
         null,
         null,
         null,
         null,
         null,
         null,
         null,
         null,
         null,
         null,
         null,
         null,
         null,
         null,
         "No aplica",
         null,
         null,
         null,
         "com.atlassian.servicedesk.plugins.approvals.internal.customfield.ApprovalsCFValue@370543cd",
         null,
         null,
         null,
         null,
         null,
         "Proveedor Externo",
         null,
         null,
         null,
         null,
         null,
         null,
         null,
         null,
         null,
         null,
         null,
         null,
         null,
         null,
         null,
         null,
         null,
         null,
         null,
         null,
         null,
         null,
         null,
         null,
         null,
         null,
         null,
         null,
         null,
         null,
         null,
         null,
         null,
         null,
         null,
         null,
         null,
         null,
         null,
         null,
         null,
         null,
         null,
         null,
         null,
         null,
         null,
         null,
         null,
         null,
         null,
         null,
         null,
         null,
         null,
         null,
         null,
         null,
         null,
         null,
         null,
         null,
         null,
         null,
         null,
         null,
         null,
         null,
         null,
         null,
         null,
         null,
         null,
         "1",
         null,
         null,
         null,
         null,
         null,
         null,
         null,
         null,
         null,
         null,
         null,
         null,
         null,
         null,
         null,
         null,
         null,
         null,
         null,
         null,
         null,
         null,
         null,
         null,
         null,
         null,
         "{}",
         null,
         null,
         null,
         null,
         "...",
         null,
         null,
         null,
         null,
         null,
         null,
         null,
         null,
         null,
         null,
         null,
         null,
         null,
         null,
         null,
         null,
         null,
         null,
         null,
         null,
         null,
         null,
         null,
         null,
         null,
         null,
         null,
         null,
         null,
         null,
         null,
         null,
         null,
         null,
         null,
         null,
         null,
         null,
         null,
         null,
         null,
         null,
         null,
         null,
         null,
         null,
         null,
         null,
         null,
         null,
         null,
         null,
         null,
         null,
         null,
         null,
         null,
         null,
         null,
         null,
         null,
         null,
         null,
         null,
         "ghx-label-6",
         null,
         null,
         "Compra Contact Less",
         "To Do",
         null,
         null,
         null,
         null,
         null,
         null,
         null,
         null,
         null,
         null,
         null,
         null,
         null,
         null,
         null,
         null,
         null,
         null,
         null,
         null,
         null,
         null,
         null,
         null,
         null,
         null,
         null,
         null,
         null,
         null,
         null,
         null,
         null,
         null,
         null,
         null,
         null,
         null,
         null,
         null,
         null,
         null,
         null,
         null,
         null,
         null,
         null,
         null,
         null,
         null,
         null,
         null,
         null,
         null,
         null,
         null,
         null,
         null,
         null,
         null,
         null,
         null,
         null,
         null,
         null,
         null,
         null,
         null,
         null,
         null,
         null,
         null,
         null,
         null,
         null,
         null,
         null,
         null,
         null,
         null,
         null,
         null,
         null,
         null,
         null,
         null,
         null,
         null,
         null,
         null,
         null,
         null,
         null,
         null,
         null,
         null,
         null,
         null,
         null,
         null,
         null,
         null,
         null,
         null,
         null,
         null,
         null,
         null,
         null,
         null,
         null,
         null,
         null,
         null,
         null,
         null,
         null,
         null,
         null,
         null,
         null,
         null,
         null,
         null,
         null,
         null,
         null,
         null,
         null,
         null,
         null,
         null,
         null,
         null,
         null,
         null,
         null,
         null,
         null,
         null,
         null,
         null,
         null,
         null,
         null,
         null,
         null,
         null,
         null,
         null,
         null,
         null,
         null,
         null,
         null,
         null,
         null,
         null,
         null,
         null,
         null,
         null,
         null,
         null,
         null,
         null,
         null,
         null,
         null,
         null,
         null,
         null,
         null,
         null,
         null,
         null,
         null,
         null,
         null,
         null,
         null,
         null,
         null,
         "000 - Sin Proyecto Asociado",
         "Proyecto",
         null,
         null,
         null,
         null,
         null,
         null,
         null,
         null,
         null,
         null,
         null,
         null,
         null,
         "10000_*:*_1_*:*_19617791606_*|*_11276_*:*_1_*:*_73297_*|*_11258_*:*_1_*:*_0",
         null,
         null,
         null,
         "green",
         null,
         null,
         null,
         null,
         null,
         null,
         null,
         null,
         null,
         null,
         null,
         null,
         "Producto Transaccional",
         null,
         null,
         null,
         null,
         null,
         null,
         null,
         null,
         null,
         null,
         null,
         null,
         null,
         null,
         null,
         null,
         null,
         null,
         null,
         null,
         null,
         null,
         null,
         null,
         null,
         null,
         null,
         null,
         null,
         "No aplica",
         null,
         null,
         null,
         null,
         null,
         null,
         null,
         null,
         null,
         null,
         null,
         null,
         "04/Feb/24 9:51 PM",
         null,
         null,
         "04/Feb/24 9:53 PM",
         null,
         null,
         null,
         null,
         null,
         null,
         null,
         null,
         null,
         null,
         null,
         null,
         null,
         null,
         null,
         null,
         null,
         null,
         null,
         null,
         null,
         null,
         null,
         null,
         null,
         null,
         null,
         null,
         null,
         null,
         null,
         null,
         null,
         null,
         "0.0",
         null,
         null,
         null,
         null,
         null,
         null,
         null,
         null,
         null,
         null,
         null,
         null,
         null,
         null,
         "2|hxkwin:",
         null,
         null,
         null,
         null,
         null,
         null,
         null,
         null,
         null,
         null,
         null,
         null,
         null,
         null,
         null,
         null,
         null,
         null,
         null,
         null,
         null,
         null,
         null,
         null,
         null,
         null,
         null,
         null,
         null,
         null,
         "Daño",
         null,
         null,
         null,
         null,
         null,
         null,
         null,
         null,
         null,
         null,
         null,
         null,
         null,
         null,
         null,
         null,
         null,
         null,
         null,
         null,
         null,
         null,
         null,
         null,
         null,
         "11/feb/23 12:00 AM",
         null,
         null,
         null,
         null,
         null,
         null,
         null,
         null,
         null,
         null,
         null,
         null,
         null,
         null,
         null,
         null,
         null,
         null,
         null,
         null,
         null,
         null,
         null,
         null,
         null,
         null,
         null,
         null,
         null,
         null,
         null,
         null,
         null,
         null,
         null,
         null,
         null,
         null,
         null,
         null,
         null,
         null,
         null,
         null,
         null,
         null,
         null,
         null,
         null,
         null,
         null,
         null,
         null,
         null,
         null,
         null,
         null,
         null,
         null,
         null,
         null,
         null,
         null,
         null,
         null,
         null,
         null,
         null,
         null,
         null,
         null,
         null,
         null,
         null,
         null,
         null,
         null,
         null,
         null,
         null,
         null,
         null,
         null,
         null,
         null,
         null,
         null,
         null,
         "10000_*:*_1_*:*_19617791606_*|*_11276_*:*_1_*:*_73297_*|*_11258_*:*_1_*:*_0",
         null,
         null,
         null,
         null,
         null,
         null,
         null,
         null,
         null,
         null,
         null,
         null,
         null,
         null,
         null,
         null,
         null,
         null,
         null,
         null,
         null,
         null,
         null,
         null,
         null,
         null,
         null,
         null,
         null,
         null,
         null,
         null,
         null,
         null,
         null,
         "Listo",
         "04/feb/24 4:53 PM",
         null,
         null
        ],
        [
         "2",
         "Compra nacional chip",
         "TACYTP-180",
         "519010",
         "Historia",
         "TERMINADO",
         "TACYTP",
         "Tribu API Canales y transaccional producto",
         "software",
         "Diego Arturo Bustos Aponte",
         "5f58d767662e2d00766b5fba",
         null,
         null,
         "Medio",
         "Listo",
         null,
         null,
         "Angie Tatiana Vargas Luque",
         "63189c654fbe9c4bd0ef5869",
         "Angie Tatiana Vargas Luque",
         "63189c654fbe9c4bd0ef5869",
         "29/jun/23 11:05 AM",
         "14/feb/24 6:11 PM",
         null,
         "05/jul/23 10:31 AM",
         null,
         null,
         null,
         "12/feb/24 12:00 AM",
         null,
         "*Yo como:* Cliente del banco de Bogotá\n\n \n\n*Necesito:* Realizar compras nacionales con chip desde mi cuenta asociada a la Tarjeta Débito del Banco de Bogotá.\n\n \n\n*Con la finalidad:* De poder realizar compras en establecimientos comerciales con la cuenta asociada a la Tarjeta Débito del Banco de Bogotá en cualquier momento del día, obteniendo el producto y/o servicio adquirido en la transacción.\n\n ",
         null,
         "Angie Tatiana Vargas Luque",
         null,
         null,
         "63189c654fbe9c4bd0ef5869",
         null,
         null,
         null,
         null,
         null,
         null,
         null,
         null,
         null,
         null,
         null,
         null,
         null,
         null,
         null,
         null,
         null,
         null,
         null,
         null,
         null,
         null,
         null,
         null,
         null,
         null,
         null,
         null,
         null,
         null,
         null,
         null,
         null,
         null,
         null,
         null,
         null,
         null,
         null,
         null,
         null,
         null,
         null,
         null,
         null,
         null,
         null,
         null,
         null,
         null,
         null,
         null,
         null,
         null,
         null,
         null,
         null,
         null,
         null,
         null,
         null,
         null,
         null,
         null,
         null,
         null,
         null,
         null,
         null,
         null,
         null,
         null,
         null,
         null,
         null,
         null,
         null,
         null,
         null,
         null,
         null,
         null,
         null,
         null,
         null,
         null,
         null,
         null,
         null,
         null,
         null,
         null,
         null,
         null,
         null,
         null,
         null,
         null,
         null,
         null,
         null,
         null,
         null,
         null,
         null,
         null,
         null,
         null,
         null,
         null,
         null,
         null,
         null,
         null,
         null,
         null,
         null,
         null,
         null,
         null,
         null,
         null,
         null,
         null,
         null,
         null,
         null,
         null,
         null,
         null,
         null,
         null,
         null,
         null,
         null,
         null,
         null,
         null,
         null,
         null,
         "No aplica",
         null,
         null,
         null,
         "com.atlassian.servicedesk.plugins.approvals.internal.customfield.ApprovalsCFValue@45ded446",
         null,
         null,
         null,
         null,
         null,
         "Proveedor Externo",
         null,
         null,
         null,
         null,
         null,
         null,
         null,
         null,
         null,
         null,
         null,
         null,
         null,
         null,
         null,
         null,
         null,
         null,
         null,
         null,
         null,
         null,
         null,
         null,
         null,
         null,
         null,
         null,
         null,
         null,
         null,
         null,
         null,
         null,
         null,
         null,
         null,
         null,
         null,
         null,
         null,
         null,
         null,
         null,
         null,
         null,
         null,
         null,
         null,
         null,
         null,
         null,
         null,
         null,
         null,
         null,
         null,
         null,
         null,
         null,
         null,
         null,
         null,
         null,
         null,
         null,
         null,
         null,
         null,
         null,
         null,
         null,
         null,
         "1",
         null,
         null,
         null,
         null,
         null,
         null,
         null,
         null,
         null,
         null,
         null,
         null,
         null,
         null,
         null,
         null,
         null,
         null,
         null,
         null,
         null,
         null,
         null,
         null,
         null,
         null,
         "{}",
         null,
         null,
         null,
         null,
         "...",
         null,
         null,
         null,
         null,
         null,
         null,
         null,
         null,
         null,
         null,
         null,
         null,
         null,
         null,
         null,
         null,
         null,
         null,
         null,
         null,
         null,
         null,
         null,
         null,
         null,
         null,
         null,
         null,
         null,
         null,
         null,
         null,
         null,
         null,
         null,
         null,
         null,
         null,
         null,
         null,
         null,
         null,
         null,
         null,
         null,
         null,
         null,
         null,
         null,
         null,
         null,
         null,
         null,
         null,
         null,
         null,
         null,
         null,
         null,
         null,
         null,
         null,
         null,
         null,
         null,
         "TACYTP-203",
         "Compra Nacional Chip",
         null,
         null,
         null,
         null,
         null,
         null,
         null,
         null,
         null,
         null,
         null,
         null,
         null,
         null,
         null,
         null,
         null,
         null,
         null,
         null,
         null,
         null,
         null,
         null,
         null,
         null,
         null,
         null,
         null,
         null,
         null,
         null,
         null,
         null,
         null,
         null,
         null,
         null,
         null,
         null,
         null,
         null,
         null,
         null,
         null,
         null,
         null,
         null,
         null,
         null,
         null,
         null,
         null,
         null,
         null,
         null,
         null,
         null,
         null,
         null,
         null,
         null,
         null,
         null,
         null,
         null,
         null,
         null,
         null,
         null,
         null,
         null,
         null,
         null,
         null,
         null,
         null,
         null,
         null,
         null,
         null,
         null,
         null,
         null,
         null,
         null,
         null,
         null,
         null,
         null,
         null,
         null,
         null,
         null,
         null,
         null,
         null,
         null,
         null,
         null,
         null,
         null,
         null,
         null,
         null,
         null,
         null,
         null,
         null,
         null,
         null,
         null,
         null,
         null,
         null,
         null,
         null,
         null,
         null,
         null,
         null,
         null,
         null,
         null,
         null,
         null,
         null,
         null,
         null,
         null,
         null,
         null,
         null,
         null,
         null,
         null,
         null,
         null,
         null,
         null,
         null,
         null,
         null,
         null,
         null,
         null,
         null,
         null,
         null,
         null,
         null,
         null,
         null,
         null,
         null,
         null,
         null,
         null,
         null,
         null,
         null,
         null,
         null,
         null,
         null,
         null,
         null,
         null,
         null,
         null,
         null,
         null,
         null,
         null,
         null,
         null,
         null,
         null,
         null,
         null,
         null,
         null,
         null,
         null,
         null,
         "000 - Sin Proyecto Asociado",
         "Proyecto",
         null,
         null,
         null,
         null,
         null,
         null,
         null,
         null,
         null,
         null,
         null,
         null,
         null,
         "10712_*:*_1_*:*_17469_*|*_11427_*:*_1_*:*_9685_*|*_10000_*:*_1_*:*_11780577_*|*_11276_*:*_1_*:*_504522416_*|*_11258_*:*_1_*:*_0",
         null,
         null,
         null,
         null,
         null,
         null,
         null,
         null,
         null,
         null,
         null,
         null,
         null,
         null,
         null,
         null,
         "Producto Transaccional",
         null,
         null,
         null,
         null,
         null,
         null,
         null,
         null,
         null,
         null,
         null,
         null,
         null,
         null,
         null,
         null,
         null,
         null,
         null,
         null,
         null,
         null,
         null,
         null,
         null,
         null,
         null,
         null,
         null,
         "No aplica",
         null,
         null,
         null,
         null,
         null,
         null,
         null,
         null,
         null,
         null,
         null,
         null,
         "29/Jun/23 7:22 PM",
         null,
         null,
         "05/Jul/23 3:31 PM",
         null,
         null,
         null,
         "05/Jul/23 3:30 PM",
         null,
         null,
         null,
         null,
         null,
         null,
         null,
         "05/Jul/23 3:31 PM",
         null,
         null,
         null,
         null,
         null,
         null,
         null,
         null,
         null,
         null,
         null,
         null,
         null,
         null,
         null,
         null,
         null,
         null,
         null,
         null,
         null,
         null,
         "0.0",
         null,
         null,
         null,
         null,
         null,
         null,
         null,
         null,
         null,
         null,
         null,
         null,
         null,
         null,
         "2|hxlrqf:",
         null,
         null,
         null,
         null,
         null,
         null,
         null,
         null,
         null,
         null,
         null,
         null,
         null,
         null,
         null,
         null,
         null,
         null,
         null,
         null,
         null,
         null,
         null,
         null,
         null,
         null,
         null,
         null,
         null,
         null,
         "Daño",
         null,
         null,
         null,
         null,
         null,
         null,
         "Sprint 2 - Squad TP",
         null,
         null,
         null,
         null,
         null,
         null,
         null,
         null,
         null,
         null,
         null,
         null,
         null,
         null,
         null,
         null,
         null,
         null,
         "30/ene/24 12:00 AM",
         null,
         null,
         null,
         null,
         null,
         null,
         null,
         null,
         null,
         null,
         null,
         null,
         null,
         null,
         null,
         null,
         null,
         null,
         null,
         null,
         null,
         null,
         null,
         null,
         null,
         null,
         null,
         null,
         null,
         null,
         null,
         null,
         null,
         null,
         null,
         null,
         null,
         null,
         null,
         null,
         null,
         null,
         null,
         null,
         null,
         null,
         null,
         null,
         null,
         null,
         null,
         null,
         null,
         null,
         null,
         null,
         null,
         null,
         null,
         null,
         null,
         null,
         null,
         null,
         null,
         null,
         null,
         null,
         null,
         null,
         null,
         null,
         null,
         null,
         null,
         null,
         null,
         null,
         null,
         null,
         null,
         null,
         null,
         null,
         null,
         null,
         null,
         null,
         "10712_*:*_1_*:*_17469_*|*_11427_*:*_1_*:*_9685_*|*_10000_*:*_1_*:*_11780577_*|*_11276_*:*_1_*:*_504522416_*|*_11258_*:*_1_*:*_0",
         null,
         null,
         null,
         null,
         null,
         null,
         null,
         null,
         null,
         null,
         null,
         null,
         null,
         null,
         null,
         null,
         null,
         null,
         null,
         null,
         null,
         null,
         null,
         null,
         null,
         null,
         null,
         null,
         null,
         null,
         null,
         null,
         null,
         null,
         null,
         "Listo",
         "05/jul/23 10:31 AM",
         "519054.0",
         "Compra Nacional Chip"
        ],
        [
         "3",
         "iniciativa Q1 2024",
         "TACYTP-4021",
         "730296",
         "Épica",
         "TERMINADO",
         "TACYTP",
         "Tribu API Canales y transaccional producto",
         "software",
         "Diego Arturo Bustos Aponte",
         "5f58d767662e2d00766b5fba",
         null,
         null,
         "Medio",
         null,
         null,
         null,
         "Diego Arturo Bustos Aponte",
         "5f58d767662e2d00766b5fba",
         "Diego Arturo Bustos Aponte",
         "5f58d767662e2d00766b5fba",
         "04/feb/24 4:48 PM",
         "11/feb/25 3:16 PM",
         null,
         null,
         null,
         null,
         null,
         "06/abr/24 12:00 AM",
         null,
         null,
         null,
         "Diego Arturo Bustos Aponte",
         null,
         null,
         "5f58d767662e2d00766b5fba",
         null,
         null,
         null,
         null,
         null,
         null,
         null,
         null,
         null,
         null,
         null,
         null,
         null,
         null,
         null,
         null,
         null,
         null,
         null,
         null,
         null,
         null,
         null,
         null,
         null,
         null,
         null,
         null,
         null,
         null,
         null,
         null,
         null,
         null,
         null,
         null,
         null,
         null,
         null,
         null,
         null,
         null,
         null,
         null,
         null,
         null,
         null,
         null,
         null,
         null,
         null,
         null,
         null,
         null,
         null,
         null,
         null,
         null,
         null,
         null,
         null,
         null,
         null,
         null,
         null,
         null,
         null,
         null,
         null,
         null,
         null,
         null,
         null,
         null,
         null,
         null,
         null,
         null,
         null,
         null,
         null,
         null,
         null,
         null,
         null,
         null,
         null,
         null,
         null,
         null,
         null,
         null,
         null,
         null,
         null,
         null,
         null,
         null,
         null,
         null,
         null,
         null,
         null,
         null,
         null,
         null,
         null,
         null,
         null,
         null,
         null,
         null,
         null,
         null,
         null,
         null,
         null,
         null,
         null,
         null,
         null,
         null,
         null,
         null,
         null,
         null,
         null,
         null,
         null,
         null,
         null,
         null,
         null,
         null,
         null,
         null,
         null,
         null,
         null,
         null,
         "No aplica",
         null,
         null,
         null,
         "com.atlassian.servicedesk.plugins.approvals.internal.customfield.ApprovalsCFValue@48207f7f",
         null,
         null,
         null,
         null,
         null,
         "Proveedor Externo",
         null,
         null,
         null,
         "Pending",
         null,
         null,
         null,
         null,
         null,
         null,
         null,
         null,
         null,
         null,
         null,
         null,
         null,
         null,
         null,
         null,
         null,
         null,
         null,
         null,
         null,
         null,
         null,
         null,
         null,
         null,
         null,
         null,
         null,
         null,
         null,
         null,
         null,
         null,
         null,
         null,
         null,
         null,
         null,
         null,
         null,
         null,
         null,
         null,
         null,
         null,
         null,
         null,
         null,
         null,
         null,
         null,
         null,
         null,
         null,
         null,
         null,
         null,
         null,
         null,
         null,
         null,
         null,
         null,
         null,
         null,
         null,
         null,
         null,
         "1",
         null,
         null,
         null,
         null,
         null,
         null,
         null,
         null,
         null,
         null,
         null,
         null,
         null,
         null,
         null,
         null,
         null,
         null,
         null,
         null,
         null,
         null,
         null,
         null,
         null,
         null,
         "{}",
         null,
         null,
         null,
         null,
         "...",
         null,
         null,
         null,
         null,
         null,
         null,
         null,
         null,
         null,
         null,
         null,
         null,
         null,
         null,
         null,
         null,
         null,
         null,
         null,
         null,
         null,
         null,
         null,
         null,
         null,
         null,
         null,
         null,
         null,
         null,
         null,
         null,
         null,
         null,
         null,
         null,
         null,
         null,
         null,
         null,
         null,
         null,
         null,
         null,
         null,
         null,
         null,
         null,
         null,
         null,
         null,
         null,
         null,
         null,
         null,
         null,
         null,
         null,
         null,
         null,
         null,
         null,
         null,
         null,
         "ghx-label-3",
         null,
         null,
         "iniciativa Q1 2024",
         "To Do",
         null,
         null,
         null,
         null,
         null,
         null,
         null,
         null,
         null,
         null,
         null,
         null,
         null,
         null,
         null,
         null,
         null,
         null,
         null,
         null,
         null,
         null,
         null,
         null,
         null,
         null,
         null,
         null,
         null,
         null,
         null,
         null,
         null,
         null,
         null,
         null,
         null,
         null,
         null,
         null,
         null,
         null,
         null,
         null,
         null,
         null,
         null,
         null,
         null,
         null,
         null,
         null,
         null,
         null,
         null,
         null,
         null,
         null,
         null,
         "13/feb/24 12:00 AM",
         null,
         null,
         null,
         null,
         null,
         null,
         null,
         null,
         null,
         null,
         null,
         null,
         null,
         null,
         null,
         null,
         null,
         null,
         null,
         null,
         null,
         null,
         null,
         null,
         null,
         null,
         null,
         null,
         null,
         null,
         null,
         null,
         null,
         null,
         null,
         null,
         null,
         null,
         null,
         null,
         null,
         null,
         null,
         null,
         null,
         null,
         null,
         null,
         null,
         null,
         null,
         null,
         null,
         null,
         null,
         null,
         null,
         null,
         null,
         null,
         null,
         null,
         null,
         null,
         null,
         null,
         null,
         null,
         null,
         null,
         null,
         null,
         null,
         null,
         null,
         null,
         null,
         null,
         null,
         null,
         null,
         null,
         null,
         null,
         null,
         null,
         null,
         null,
         null,
         null,
         null,
         null,
         null,
         null,
         null,
         null,
         null,
         null,
         null,
         null,
         null,
         null,
         null,
         null,
         null,
         null,
         null,
         null,
         null,
         null,
         null,
         null,
         null,
         null,
         null,
         null,
         null,
         null,
         null,
         null,
         null,
         null,
         null,
         "000 - Sin Proyecto Asociado",
         "Proyecto",
         null,
         null,
         null,
         null,
         null,
         null,
         null,
         null,
         null,
         null,
         null,
         null,
         null,
         null,
         null,
         null,
         null,
         "yellow",
         null,
         null,
         null,
         null,
         null,
         null,
         null,
         null,
         null,
         null,
         null,
         null,
         "Producto Transaccional",
         null,
         null,
         null,
         null,
         null,
         null,
         null,
         null,
         null,
         null,
         null,
         null,
         null,
         null,
         null,
         null,
         null,
         null,
         null,
         null,
         null,
         null,
         null,
         null,
         null,
         null,
         null,
         null,
         null,
         "No aplica",
         null,
         null,
         null,
         null,
         null,
         null,
         null,
         null,
         null,
         null,
         null,
         null,
         null,
         null,
         null,
         null,
         null,
         null,
         null,
         null,
         null,
         null,
         null,
         null,
         null,
         null,
         null,
         null,
         null,
         null,
         null,
         null,
         null,
         null,
         null,
         null,
         null,
         null,
         null,
         null,
         null,
         null,
         null,
         null,
         null,
         null,
         null,
         null,
         null,
         null,
         null,
         null,
         null,
         null,
         null,
         null,
         null,
         null,
         null,
         null,
         null,
         null,
         null,
         null,
         null,
         "2|hyfozb:",
         null,
         null,
         null,
         null,
         null,
         null,
         null,
         null,
         null,
         null,
         null,
         null,
         null,
         null,
         null,
         null,
         null,
         null,
         null,
         null,
         null,
         null,
         null,
         null,
         null,
         null,
         null,
         null,
         null,
         null,
         "Daño",
         null,
         null,
         null,
         null,
         null,
         null,
         null,
         null,
         null,
         null,
         null,
         null,
         null,
         null,
         null,
         null,
         null,
         null,
         null,
         null,
         null,
         null,
         null,
         null,
         null,
         "04/feb/24 12:00 AM",
         null,
         null,
         null,
         null,
         null,
         null,
         null,
         null,
         null,
         null,
         null,
         null,
         null,
         null,
         null,
         null,
         null,
         null,
         null,
         null,
         null,
         null,
         null,
         null,
         null,
         null,
         null,
         null,
         null,
         null,
         null,
         null,
         null,
         null,
         null,
         null,
         null,
         null,
         null,
         null,
         null,
         null,
         null,
         null,
         null,
         null,
         null,
         null,
         null,
         null,
         null,
         null,
         null,
         null,
         null,
         null,
         null,
         null,
         null,
         null,
         null,
         null,
         null,
         null,
         null,
         null,
         null,
         null,
         null,
         null,
         null,
         null,
         null,
         null,
         null,
         null,
         null,
         null,
         null,
         null,
         null,
         null,
         null,
         null,
         null,
         null,
         null,
         null,
         null,
         null,
         null,
         null,
         null,
         null,
         null,
         null,
         null,
         null,
         null,
         null,
         null,
         null,
         null,
         null,
         null,
         null,
         null,
         null,
         null,
         null,
         null,
         null,
         null,
         null,
         null,
         null,
         null,
         null,
         null,
         null,
         null,
         null,
         null,
         null,
         "Listo",
         "11/feb/25 3:16 PM",
         null,
         null
        ],
        [
         "4",
         "Toma de informacion para enviar a ACI con el fin de eliminar el error que se tiene actualmente en produccion ",
         "TACYTP-6974",
         "903819",
         "Tarea",
         "TERMINADO",
         "TACYTP",
         "Tribu API Canales y transaccional producto",
         "software",
         "Diego Arturo Bustos Aponte",
         "5f58d767662e2d00766b5fba",
         null,
         null,
         "Medio",
         null,
         "Juan Sebastian Garantiva Salinas",
         "712020:d45dc06a-1c1c-49f9-87bd-c92fa6ce60b7",
         "Juan Sebastian Garantiva Salinas",
         "712020:d45dc06a-1c1c-49f9-87bd-c92fa6ce60b7",
         "Juan Sebastian Garantiva Salinas",
         "712020:d45dc06a-1c1c-49f9-87bd-c92fa6ce60b7",
         "05/jul/24 11:41 AM",
         "05/jul/24 11:42 AM",
         null,
         null,
         null,
         null,
         null,
         "04/jul/24 12:00 AM",
         null,
         "Toma de informacion para enviar a ACI con el fin de eliminar el error que se tiene actualmente en produccion, el cual tomo 1 hora",
         null,
         "Juan Sebastian Garantiva Salinas",
         null,
         null,
         "712020:d45dc06a-1c1c-49f9-87bd-c92fa6ce60b7",
         null,
         null,
         null,
         null,
         null,
         null,
         null,
         null,
         null,
         null,
         null,
         null,
         null,
         null,
         null,
         null,
         null,
         null,
         null,
         null,
         null,
         null,
         null,
         null,
         null,
         null,
         null,
         null,
         null,
         null,
         null,
         null,
         null,
         null,
         null,
         null,
         null,
         null,
         null,
         null,
         null,
         null,
         null,
         null,
         null,
         null,
         null,
         null,
         null,
         null,
         null,
         null,
         null,
         null,
         null,
         null,
         null,
         null,
         null,
         null,
         null,
         null,
         null,
         null,
         null,
         null,
         null,
         null,
         null,
         null,
         null,
         null,
         null,
         null,
         null,
         null,
         null,
         null,
         null,
         null,
         null,
         null,
         null,
         null,
         null,
         null,
         null,
         null,
         null,
         null,
         null,
         null,
         null,
         null,
         null,
         null,
         null,
         null,
         null,
         null,
         null,
         null,
         null,
         null,
         null,
         null,
         null,
         null,
         null,
         null,
         null,
         null,
         null,
         null,
         null,
         null,
         null,
         null,
         null,
         null,
         null,
         null,
         null,
         null,
         null,
         null,
         null,
         null,
         null,
         null,
         null,
         null,
         null,
         null,
         null,
         null,
         null,
         null,
         null,
         null,
         "No aplica",
         null,
         null,
         null,
         "com.atlassian.servicedesk.plugins.approvals.internal.customfield.ApprovalsCFValue@4e3451fb",
         null,
         null,
         null,
         null,
         null,
         "Proveedor Externo",
         null,
         null,
         null,
         "Pending",
         null,
         null,
         null,
         null,
         null,
         null,
         null,
         null,
         null,
         null,
         null,
         null,
         null,
         null,
         null,
         null,
         null,
         null,
         null,
         null,
         null,
         null,
         null,
         null,
         null,
         null,
         null,
         null,
         null,
         null,
         null,
         null,
         null,
         null,
         null,
         null,
         null,
         null,
         null,
         null,
         null,
         null,
         null,
         null,
         null,
         null,
         null,
         null,
         null,
         null,
         null,
         null,
         null,
         null,
         null,
         null,
         null,
         null,
         null,
         null,
         null,
         null,
         null,
         null,
         null,
         null,
         null,
         null,
         null,
         "1",
         null,
         null,
         null,
         null,
         null,
         null,
         null,
         null,
         null,
         null,
         null,
         null,
         null,
         null,
         null,
         null,
         null,
         null,
         null,
         null,
         null,
         null,
         null,
         null,
         null,
         null,
         "{}",
         null,
         null,
         null,
         null,
         "...",
         null,
         null,
         null,
         null,
         null,
         null,
         null,
         null,
         null,
         null,
         null,
         null,
         null,
         null,
         null,
         null,
         null,
         null,
         null,
         null,
         null,
         null,
         null,
         null,
         null,
         null,
         null,
         null,
         null,
         null,
         null,
         null,
         null,
         null,
         null,
         null,
         null,
         null,
         null,
         null,
         null,
         null,
         null,
         null,
         null,
         null,
         null,
         null,
         null,
         null,
         null,
         null,
         null,
         null,
         null,
         null,
         null,
         null,
         null,
         null,
         null,
         null,
         null,
         null,
         null,
         null,
         null,
         null,
         null,
         null,
         null,
         null,
         null,
         null,
         null,
         null,
         null,
         null,
         null,
         null,
         null,
         null,
         null,
         null,
         null,
         null,
         null,
         null,
         null,
         null,
         null,
         null,
         null,
         null,
         null,
         null,
         null,
         null,
         null,
         null,
         null,
         null,
         null,
         null,
         null,
         null,
         null,
         null,
         null,
         null,
         null,
         null,
         null,
         null,
         null,
         null,
         null,
         null,
         null,
         null,
         null,
         null,
         null,
         null,
         null,
         null,
         null,
         null,
         "04/jul/24 12:00 AM",
         null,
         null,
         null,
         null,
         null,
         null,
         null,
         null,
         null,
         null,
         null,
         null,
         null,
         null,
         null,
         null,
         null,
         null,
         null,
         null,
         null,
         null,
         null,
         null,
         null,
         null,
         null,
         null,
         "04/jul/24 12:00 AM",
         null,
         null,
         null,
         null,
         null,
         null,
         null,
         null,
         null,
         null,
         null,
         null,
         null,
         null,
         null,
         null,
         null,
         null,
         null,
         null,
         null,
         null,
         null,
         null,
         null,
         null,
         null,
         null,
         null,
         null,
         null,
         null,
         null,
         null,
         null,
         null,
         null,
         null,
         null,
         null,
         null,
         null,
         null,
         null,
         null,
         null,
         null,
         null,
         null,
         null,
         null,
         null,
         null,
         null,
         null,
         null,
         null,
         null,
         null,
         null,
         null,
         null,
         null,
         null,
         null,
         null,
         null,
         null,
         null,
         null,
         null,
         null,
         null,
         null,
         null,
         null,
         null,
         null,
         null,
         null,
         null,
         null,
         null,
         null,
         null,
         null,
         null,
         null,
         null,
         null,
         null,
         null,
         null,
         null,
         "000 - Sin Proyecto Asociado",
         null,
         null,
         null,
         null,
         null,
         null,
         null,
         null,
         null,
         null,
         null,
         null,
         null,
         null,
         null,
         null,
         null,
         null,
         null,
         null,
         null,
         null,
         null,
         null,
         null,
         null,
         null,
         null,
         null,
         null,
         null,
         "Producto Transaccional",
         null,
         null,
         null,
         null,
         null,
         null,
         null,
         null,
         null,
         null,
         null,
         null,
         null,
         null,
         null,
         null,
         null,
         null,
         null,
         null,
         null,
         null,
         null,
         null,
         null,
         null,
         null,
         null,
         null,
         "No aplica",
         null,
         null,
         null,
         null,
         null,
         null,
         null,
         null,
         null,
         null,
         null,
         null,
         "05/Jul/24 4:42 PM",
         null,
         null,
         "05/Jul/24 4:42 PM",
         null,
         null,
         null,
         null,
         null,
         null,
         null,
         null,
         null,
         null,
         null,
         null,
         null,
         null,
         null,
         null,
         null,
         null,
         null,
         null,
         null,
         null,
         null,
         null,
         null,
         null,
         null,
         null,
         null,
         null,
         null,
         null,
         null,
         null,
         null,
         null,
         null,
         null,
         null,
         null,
         null,
         null,
         null,
         null,
         null,
         null,
         null,
         null,
         null,
         "2|hz5byv:",
         null,
         null,
         null,
         null,
         null,
         null,
         null,
         null,
         null,
         null,
         null,
         null,
         null,
         null,
         null,
         null,
         null,
         null,
         null,
         null,
         null,
         null,
         null,
         null,
         null,
         null,
         null,
         null,
         null,
         null,
         "Daño",
         null,
         null,
         null,
         null,
         null,
         null,
         "SQUAD TC - P2-2024 - Sprint 2",
         null,
         null,
         null,
         null,
         null,
         null,
         null,
         null,
         null,
         null,
         null,
         null,
         null,
         null,
         null,
         null,
         null,
         null,
         null,
         null,
         null,
         null,
         null,
         null,
         null,
         null,
         null,
         null,
         null,
         null,
         null,
         null,
         null,
         null,
         null,
         null,
         null,
         null,
         null,
         null,
         null,
         null,
         null,
         null,
         null,
         null,
         null,
         null,
         null,
         null,
         null,
         null,
         null,
         null,
         null,
         null,
         null,
         null,
         null,
         null,
         null,
         null,
         null,
         null,
         null,
         null,
         null,
         null,
         null,
         null,
         null,
         null,
         null,
         null,
         null,
         null,
         null,
         null,
         "TRIBU INTEGRACION Y APIS -> SQUAD TRANSACCIONAL CANALES",
         null,
         null,
         null,
         null,
         null,
         null,
         null,
         null,
         null,
         null,
         null,
         null,
         null,
         null,
         null,
         null,
         null,
         null,
         null,
         null,
         null,
         null,
         null,
         null,
         null,
         null,
         null,
         null,
         null,
         null,
         null,
         null,
         null,
         null,
         null,
         null,
         null,
         null,
         null,
         null,
         null,
         null,
         null,
         null,
         null,
         null,
         null,
         null,
         null,
         null,
         null,
         null,
         null,
         null,
         null,
         null,
         null,
         null,
         null,
         null,
         null,
         null,
         null,
         null,
         "Listo",
         "05/jul/24 11:42 AM",
         null,
         null
        ]
       ],
       "shape": {
        "columns": 858,
        "rows": 5
       }
      },
      "text/html": [
       "<div>\n",
       "<style scoped>\n",
       "    .dataframe tbody tr th:only-of-type {\n",
       "        vertical-align: middle;\n",
       "    }\n",
       "\n",
       "    .dataframe tbody tr th {\n",
       "        vertical-align: top;\n",
       "    }\n",
       "\n",
       "    .dataframe thead th {\n",
       "        text-align: right;\n",
       "    }\n",
       "</style>\n",
       "<table border=\"1\" class=\"dataframe\">\n",
       "  <thead>\n",
       "    <tr style=\"text-align: right;\">\n",
       "      <th></th>\n",
       "      <th>Resumen</th>\n",
       "      <th>Clave de incidencia</th>\n",
       "      <th>ID de la incidencia</th>\n",
       "      <th>Tipo de Incidencia</th>\n",
       "      <th>Estado</th>\n",
       "      <th>Clave del proyecto</th>\n",
       "      <th>Nombre del proyecto</th>\n",
       "      <th>Tipo de proyecto</th>\n",
       "      <th>Responsable del proyecto</th>\n",
       "      <th>ID del responsable del proyecto</th>\n",
       "      <th>...</th>\n",
       "      <th>Comentario.2</th>\n",
       "      <th>Comentario.3</th>\n",
       "      <th>Comentario.4</th>\n",
       "      <th>Comentario.5</th>\n",
       "      <th>Comentario.6</th>\n",
       "      <th>Comentario.7</th>\n",
       "      <th>Categoría de estado</th>\n",
       "      <th>Categoría de estado cambiada</th>\n",
       "      <th>Principal</th>\n",
       "      <th>Parent summary</th>\n",
       "    </tr>\n",
       "  </thead>\n",
       "  <tbody>\n",
       "    <tr>\n",
       "      <th>0</th>\n",
       "      <td>Compra no presente</td>\n",
       "      <td>TACYTP-21</td>\n",
       "      <td>513798</td>\n",
       "      <td>Épica</td>\n",
       "      <td>TERMINADO</td>\n",
       "      <td>TACYTP</td>\n",
       "      <td>Tribu API Canales y transaccional producto</td>\n",
       "      <td>software</td>\n",
       "      <td>Diego Arturo Bustos Aponte</td>\n",
       "      <td>5f58d767662e2d00766b5fba</td>\n",
       "      <td>...</td>\n",
       "      <td>NaN</td>\n",
       "      <td>NaN</td>\n",
       "      <td>NaN</td>\n",
       "      <td>NaN</td>\n",
       "      <td>NaN</td>\n",
       "      <td>NaN</td>\n",
       "      <td>Listo</td>\n",
       "      <td>04/feb/24 4:53 PM</td>\n",
       "      <td>NaN</td>\n",
       "      <td>NaN</td>\n",
       "    </tr>\n",
       "    <tr>\n",
       "      <th>1</th>\n",
       "      <td>Compra Internacional Contact Less</td>\n",
       "      <td>TACYTP-134</td>\n",
       "      <td>514130</td>\n",
       "      <td>Épica</td>\n",
       "      <td>TERMINADO</td>\n",
       "      <td>TACYTP</td>\n",
       "      <td>Tribu API Canales y transaccional producto</td>\n",
       "      <td>software</td>\n",
       "      <td>Diego Arturo Bustos Aponte</td>\n",
       "      <td>5f58d767662e2d00766b5fba</td>\n",
       "      <td>...</td>\n",
       "      <td>NaN</td>\n",
       "      <td>NaN</td>\n",
       "      <td>NaN</td>\n",
       "      <td>NaN</td>\n",
       "      <td>NaN</td>\n",
       "      <td>NaN</td>\n",
       "      <td>Listo</td>\n",
       "      <td>04/feb/24 4:53 PM</td>\n",
       "      <td>NaN</td>\n",
       "      <td>NaN</td>\n",
       "    </tr>\n",
       "    <tr>\n",
       "      <th>2</th>\n",
       "      <td>Compra nacional chip</td>\n",
       "      <td>TACYTP-180</td>\n",
       "      <td>519010</td>\n",
       "      <td>Historia</td>\n",
       "      <td>TERMINADO</td>\n",
       "      <td>TACYTP</td>\n",
       "      <td>Tribu API Canales y transaccional producto</td>\n",
       "      <td>software</td>\n",
       "      <td>Diego Arturo Bustos Aponte</td>\n",
       "      <td>5f58d767662e2d00766b5fba</td>\n",
       "      <td>...</td>\n",
       "      <td>NaN</td>\n",
       "      <td>NaN</td>\n",
       "      <td>NaN</td>\n",
       "      <td>NaN</td>\n",
       "      <td>NaN</td>\n",
       "      <td>NaN</td>\n",
       "      <td>Listo</td>\n",
       "      <td>05/jul/23 10:31 AM</td>\n",
       "      <td>519054.0</td>\n",
       "      <td>Compra Nacional Chip</td>\n",
       "    </tr>\n",
       "    <tr>\n",
       "      <th>3</th>\n",
       "      <td>iniciativa Q1 2024</td>\n",
       "      <td>TACYTP-4021</td>\n",
       "      <td>730296</td>\n",
       "      <td>Épica</td>\n",
       "      <td>TERMINADO</td>\n",
       "      <td>TACYTP</td>\n",
       "      <td>Tribu API Canales y transaccional producto</td>\n",
       "      <td>software</td>\n",
       "      <td>Diego Arturo Bustos Aponte</td>\n",
       "      <td>5f58d767662e2d00766b5fba</td>\n",
       "      <td>...</td>\n",
       "      <td>NaN</td>\n",
       "      <td>NaN</td>\n",
       "      <td>NaN</td>\n",
       "      <td>NaN</td>\n",
       "      <td>NaN</td>\n",
       "      <td>NaN</td>\n",
       "      <td>Listo</td>\n",
       "      <td>11/feb/25 3:16 PM</td>\n",
       "      <td>NaN</td>\n",
       "      <td>NaN</td>\n",
       "    </tr>\n",
       "    <tr>\n",
       "      <th>4</th>\n",
       "      <td>Toma de informacion para enviar a ACI con el f...</td>\n",
       "      <td>TACYTP-6974</td>\n",
       "      <td>903819</td>\n",
       "      <td>Tarea</td>\n",
       "      <td>TERMINADO</td>\n",
       "      <td>TACYTP</td>\n",
       "      <td>Tribu API Canales y transaccional producto</td>\n",
       "      <td>software</td>\n",
       "      <td>Diego Arturo Bustos Aponte</td>\n",
       "      <td>5f58d767662e2d00766b5fba</td>\n",
       "      <td>...</td>\n",
       "      <td>NaN</td>\n",
       "      <td>NaN</td>\n",
       "      <td>NaN</td>\n",
       "      <td>NaN</td>\n",
       "      <td>NaN</td>\n",
       "      <td>NaN</td>\n",
       "      <td>Listo</td>\n",
       "      <td>05/jul/24 11:42 AM</td>\n",
       "      <td>NaN</td>\n",
       "      <td>NaN</td>\n",
       "    </tr>\n",
       "  </tbody>\n",
       "</table>\n",
       "<p>5 rows × 858 columns</p>\n",
       "</div>"
      ],
      "text/plain": [
       "                                             Resumen Clave de incidencia  \\\n",
       "0                                 Compra no presente           TACYTP-21   \n",
       "1                  Compra Internacional Contact Less          TACYTP-134   \n",
       "2                               Compra nacional chip          TACYTP-180   \n",
       "3                                 iniciativa Q1 2024         TACYTP-4021   \n",
       "4  Toma de informacion para enviar a ACI con el f...         TACYTP-6974   \n",
       "\n",
       "   ID de la incidencia Tipo de Incidencia     Estado Clave del proyecto  \\\n",
       "0               513798              Épica  TERMINADO             TACYTP   \n",
       "1               514130              Épica  TERMINADO             TACYTP   \n",
       "2               519010           Historia  TERMINADO             TACYTP   \n",
       "3               730296              Épica  TERMINADO             TACYTP   \n",
       "4               903819              Tarea  TERMINADO             TACYTP   \n",
       "\n",
       "                          Nombre del proyecto Tipo de proyecto  \\\n",
       "0  Tribu API Canales y transaccional producto         software   \n",
       "1  Tribu API Canales y transaccional producto         software   \n",
       "2  Tribu API Canales y transaccional producto         software   \n",
       "3  Tribu API Canales y transaccional producto         software   \n",
       "4  Tribu API Canales y transaccional producto         software   \n",
       "\n",
       "     Responsable del proyecto ID del responsable del proyecto  ...  \\\n",
       "0  Diego Arturo Bustos Aponte        5f58d767662e2d00766b5fba  ...   \n",
       "1  Diego Arturo Bustos Aponte        5f58d767662e2d00766b5fba  ...   \n",
       "2  Diego Arturo Bustos Aponte        5f58d767662e2d00766b5fba  ...   \n",
       "3  Diego Arturo Bustos Aponte        5f58d767662e2d00766b5fba  ...   \n",
       "4  Diego Arturo Bustos Aponte        5f58d767662e2d00766b5fba  ...   \n",
       "\n",
       "   Comentario.2  Comentario.3 Comentario.4 Comentario.5 Comentario.6  \\\n",
       "0           NaN           NaN          NaN          NaN          NaN   \n",
       "1           NaN           NaN          NaN          NaN          NaN   \n",
       "2           NaN           NaN          NaN          NaN          NaN   \n",
       "3           NaN           NaN          NaN          NaN          NaN   \n",
       "4           NaN           NaN          NaN          NaN          NaN   \n",
       "\n",
       "  Comentario.7 Categoría de estado Categoría de estado cambiada Principal  \\\n",
       "0          NaN               Listo            04/feb/24 4:53 PM       NaN   \n",
       "1          NaN               Listo            04/feb/24 4:53 PM       NaN   \n",
       "2          NaN               Listo           05/jul/23 10:31 AM  519054.0   \n",
       "3          NaN               Listo            11/feb/25 3:16 PM       NaN   \n",
       "4          NaN               Listo           05/jul/24 11:42 AM       NaN   \n",
       "\n",
       "         Parent summary  \n",
       "0                   NaN  \n",
       "1                   NaN  \n",
       "2  Compra Nacional Chip  \n",
       "3                   NaN  \n",
       "4                   NaN  \n",
       "\n",
       "[5 rows x 858 columns]"
      ]
     },
     "execution_count": 6,
     "metadata": {},
     "output_type": "execute_result"
    }
   ],
   "source": [
    "import pandas as pd\n",
    "\n",
    "# Usando una ruta absoluta:\n",
    "migracion = pd.read_csv(r\"C:\\Users\\Diego\\Downloads\\Jira Exportar CSV (todos los campos) 20250303194742.csv\")\n",
    "\n",
    "migracion.head()"
   ]
  },
  {
   "cell_type": "code",
   "execution_count": 12,
   "metadata": {},
   "outputs": [
    {
     "name": "stdout",
     "output_type": "stream",
     "text": [
      "Columnas sin valor: []\n",
      "Columnas después de eliminar sin valor: ['Resumen', 'Clave de incidencia', 'ID de la incidencia', 'Tipo de Incidencia', 'Estado', 'Clave del proyecto', 'Nombre del proyecto', 'Tipo de proyecto', 'Responsable del proyecto', 'ID del responsable del proyecto', 'Prioridad', 'Resolución', 'Persona asignada', 'ID de la persona asignada', 'Informador', 'ID del informador', 'Creador', 'ID del creador', 'Creada', 'Actualizada', 'Vista por Última Vez', 'Resuelta', 'Versiones corregidas', 'Versiones corregidas.1', 'Componentes', 'Fecha de vencimiento', 'Etiquetas', 'Descripción', 'Interesados', 'Interesados.1', 'Interesados.2', 'ID de los interesados', 'ID de los interesados.1', 'ID de los interesados.2', 'Registrar Horas de Trabajo', 'Trabajo restante estimado', 'Tiempo Trabajado', 'Σ Trabajo restante estimado', 'Σ Tiempo empleado', 'Enlace a la incidencia interna (Blocks)', 'Enlace de incidencia saliente (Blocks)', 'Enlace de incidencia saliente (Blocks).1', 'Enlace a la incidencia interna (Bloqueo)', 'Enlace de incidencia saliente (Bloqueo)', 'Enlace a la incidencia interna (Defect)', 'Enlace de incidencia saliente (Defect)', 'Enlace de incidencia saliente (Defect).1', 'Enlace de incidencia saliente (Defect).2', 'Enlace de incidencia saliente (Defect).3', 'Enlace de incidencia saliente (Defect).4', 'Enlace de incidencia saliente (Defect).5', 'Enlace de incidencia saliente (Defect).6', 'Enlace a la incidencia interna (RTM Tree Relation)', 'Enlace de incidencia saliente (RTM Tree Relation)', 'Enlace a la incidencia interna (Requirement)', 'Enlace de incidencia saliente (Requirement)', 'Enlace a la incidencia interna (Riesgo)', 'Enlace a la incidencia interna (Riesgo).1', 'Enlace a la incidencia interna (Riesgo).2', 'Enlace de incidencia saliente (Riesgo)', 'Enlace de incidencia saliente (Riesgo).1', 'Enlace de incidencia saliente (Riesgo).2', 'Enlace de incidencia saliente (Riesgo).3', 'Enlace de incidencia saliente (Riesgo).4', 'Enlace a la incidencia interna (Test Case)', 'Enlace a la incidencia interna (Test Case).1', 'Enlace a la incidencia interna (Test Case).2', 'Enlace de incidencia saliente (Test Case)', 'Enlace de incidencia saliente (Test Case).1', 'Enlace a la incidencia interna (Test Execution)', 'Enlace a la incidencia interna (Test)', 'Enlace de incidencia saliente (Test)', 'Enlace a la incidencia interna (Xray Test)', 'Enlace a la incidencia interna (Xray Test).1', 'Enlace a la incidencia interna (Xray Test).2', 'Enlace a la incidencia interna (Xray Test).3', 'Enlace a la incidencia interna (Xray Test).4', 'Enlace a la incidencia interna (Xray Test).5', 'Enlace a la incidencia interna (Xray Test).6', 'Enlace a la incidencia interna (Xray Test).7', 'Enlace a la incidencia interna (Xray Test).8', 'Enlace a la incidencia interna (Xray Test).9', 'Enlace a la incidencia interna (Xray Test).10', 'Enlace a la incidencia interna (Xray Test).11', 'Enlace a la incidencia interna (Xray Test).12', 'Enlace a la incidencia interna (Xray Test).13', 'Enlace a la incidencia interna (Xray Test).14', 'Enlace a la incidencia interna (Xray Test).15', 'Enlace a la incidencia interna (Xray Test).16', 'Enlace a la incidencia interna (Xray Test).17', 'Enlace a la incidencia interna (Xray Test).18', 'Enlace a la incidencia interna (Xray Test).19', 'Enlace a la incidencia interna (Xray Test).20', 'Enlace a la incidencia interna (Xray Test).21', 'Enlace a la incidencia interna (Xray Test).22', 'Enlace a la incidencia interna (Xray Test).23', 'Enlace a la incidencia interna (Xray Test).24', 'Enlace a la incidencia interna (Xray Test).25', 'Enlace a la incidencia interna (Xray Test).26', 'Enlace a la incidencia interna (Xray Test).27', 'Enlace a la incidencia interna (Xray Test).28', 'Enlace a la incidencia interna (Xray Test).29', 'Enlace a la incidencia interna (Xray Test).30', 'Enlace a la incidencia interna (Xray Test).31', 'Enlace a la incidencia interna (Xray Test).32', 'Enlace de incidencia saliente (Xray Test)', 'Enlace de incidencia saliente (Xray Test).1', 'Adjunto', 'Adjunto.1', 'Adjunto.2', 'Adjunto.3', 'Adjunto.4', 'Adjunto.5', 'Adjunto.6', 'Adjunto.7', 'Adjunto.8', 'Adjunto.9', 'Adjunto.10', 'Adjunto.11', 'Adjunto.12', 'Adjunto.13', 'Adjunto.14', 'Adjunto.15', 'Adjunto.16', 'Adjunto.17', 'Adjunto.18', 'Adjunto.19', 'Adjunto.20', 'Adjunto.21', 'Adjunto.22', 'Adjunto.23', 'Adjunto.24', 'Adjunto.25', 'Adjunto.26', 'Adjunto.27', 'Adjunto.28', 'Adjunto.29', 'Adjunto.30', 'Adjunto.31', 'Adjunto.32', 'Adjunto.33', 'Adjunto.34', 'Adjunto.35', 'Adjunto.36', 'Adjunto.37', 'Adjunto.38', 'Adjunto.39', 'Adjunto.40', 'Adjunto.41', 'Campo personalizado (% Avance)', 'Campo personalizado (Aplicación Mantiz)', 'Campo personalizado (Aplicativo)', 'Campo personalizado (Approvals)', 'Campo personalizado (Asignado a)', 'Campo personalizado (Automation Status)', 'Campo personalizado (Capitulo)', 'Campo personalizado (Check Pos-Implementación Observaciones)', 'Campo personalizado (Checklist Completed)', 'Campo personalizado (Checklist Text)', 'Campo personalizado (Checklist Text (view-only))', 'Campo personalizado (Complejidad)', 'Campo personalizado (Control de Cambios)', 'Campo personalizado (DATA SQUAD)', 'Campo personalizado (Desarrollo)', 'Campo personalizado (Descripción de Plan de acción)', 'Campo personalizado (Descripción de la solución)', 'Campo personalizado (Detalle de la Solución)', 'Campo personalizado (Epic Color)', 'Campo personalizado (Epic Link)', 'Epic Link Resumen', 'Campo personalizado (Epic Name)', 'Campo personalizado (Epic Status)', 'Campo personalizado (Fecha de Inicio)', 'Campo personalizado (Fecha de inicio)', 'Campo personalizado (Fecha estimada de entrega)', 'Campo personalizado (Flagged)', 'Campo personalizado (Id Proyecto)', 'Campo personalizado (Id Solicitud)', 'Campo personalizado (Impacto).1', 'Campo personalizado (Inicio Desarrollo)', 'Campo personalizado (Inicio Epica)', 'Campo personalizado (Issue color)', 'Campo personalizado (Molécula)', 'Campo personalizado (Opciones de ejecución:)', 'Campo personalizado (Paso a Desarrollo)', 'Campo personalizado (Paso a Done)', 'Campo personalizado (Paso a Producción)', 'Campo personalizado (Paso a Pruebas)', 'Campo personalizado (Paso a Release)', 'Campo personalizado (Paso verificación PM/ARQ)', 'Campo personalizado (Progreso de la Lista de Verificación)', 'Campo personalizado (Progreso de la Lista de Verificación %)', 'Campo personalizado (Rank)', 'Campo personalizado (Responsable tester)', 'Campo personalizado (Responsable tester)ID', 'Campo personalizado (Rol)', 'Campo personalizado (Seleccionar Tipo Fallo)', 'Sprint', 'Sprint.1', 'Sprint.2', 'Sprint.3', 'Sprint.4', 'Sprint.5', 'Sprint.6', 'Sprint.7', 'Sprint.8', 'Sprint.9', 'Sprint.10', 'Sprint.11', 'Sprint.12', 'Sprint.13', 'Sprint.14', 'Sprint.15', 'Sprint.16', 'Campo personalizado (Start date)', 'Campo personalizado (Story Points)', 'Campo personalizado (TABLERO CANALES )', 'Campo personalizado (Tipos STOPPER)', 'Campo personalizado (Tribu - Squad)', 'Campo personalizado (UNIDAD AGIL)', 'Campo personalizado (Valor del impacto.)', 'Campo personalizado ([CHART] Date of First Response)', 'Campo personalizado ([CHART] Time in Status)', 'Comentario', 'Comentario.1', 'Comentario.2', 'Comentario.3', 'Comentario.4', 'Comentario.5', 'Comentario.6', 'Comentario.7', 'Categoría de estado', 'Categoría de estado cambiada', 'Principal', 'Parent summary']\n"
     ]
    }
   ],
   "source": [
    "empty_cols = migracion.columns[migracion.isnull().all()].tolist()\n",
    "print(\"Columnas sin valor:\", empty_cols)\n",
    "migracion.drop(columns=empty_cols, inplace=True)\n",
    "print(\"Columnas después de eliminar sin valor:\", migracion.columns.tolist())"
   ]
  },
  {
   "cell_type": "code",
   "execution_count": 7,
   "metadata": {},
   "outputs": [
    {
     "name": "stdout",
     "output_type": "stream",
     "text": [
      "Columnas sin valor: ['Descripción del proyecto', 'URL del proyecto', 'Entorno', 'Estimación original', 'Relación de trabajo', 'Σ Estimación original', 'Nivel de Seguridad', 'Campo personalizado (A Reporte)', 'Campo personalizado (APLICATIVOS)', 'Campo personalizado (ATENCIÓN EQUIPO IPA)', 'Campo personalizado (Account)', 'Campo personalizado (Acta de aprobación)', 'Campo personalizado (Actions)', 'Campo personalizado (Actividad)', 'Campo personalizado (Actividades Dominio)', 'Campo personalizado (Agilista Solicitante)', 'Campo personalizado (Ambiente)', 'Campo personalizado (Ambiente).1', 'Campo personalizado (Ambiente).2', 'Campo personalizado (Ambiente de operación)', 'Campo personalizado (Amount)', 'Campo personalizado (Aplica Oferta Mercantil)', 'Campo personalizado (Aplicaciones HOST: ¿Se Actualizó el archivo de Documentación de interfaces que se encuentra publicado en SharePoint)', 'Campo personalizado (Aplicación)', 'Campo personalizado (Aplicación).1', 'Campo personalizado (Aplicación/Actividad)', 'Campo personalizado (Aplicativo CDT Core)', 'Campo personalizado (Apuestas VPTO)', 'Campo personalizado (Area)', 'Campo personalizado (Artefactos)', 'Campo personalizado (Asignado A:)', 'Campo personalizado (Asignado A:).1', 'Campo personalizado (Asociación a Servicio TI)', 'Campo personalizado (Asunto)', 'Campo personalizado (Atención)', 'Campo personalizado (Avance %)', 'Campo personalizado (Base de Datos)', 'Campo personalizado (Begin Date)', 'Campo personalizado (Beneficio)', 'Campo personalizado (Bloqueado)', 'Campo personalizado (Building Block)', 'Campo personalizado (CANAL)', 'Campo personalizado (Canal de Reporte)', 'Campo personalizado (Cantidad de aplazamientos)', 'Campo personalizado (Cantidad de registros a resolver)', 'Campo personalizado (Caso)', 'Campo personalizado (Caso Reinicidente)', 'Campo personalizado (Caso Reportado a la SuperFinanciera)', 'Campo personalizado (Casos Fallidos)', 'Campo personalizado (Casos ejecutados)', 'Campo personalizado (Casos totales)', 'Campo personalizado (Catalogacion bug)', 'Campo personalizado (Categoria)', 'Campo personalizado (Categoria WR)', 'Campo personalizado (Categoría)', 'Campo personalizado (Categoría).1', 'Campo personalizado (Categoría).2', 'Campo personalizado (Categoría).3', 'Campo personalizado (Categoría C&V)', 'Campo personalizado (Categoría FyS)', 'Campo personalizado (Categoría impedimento)', 'Campo personalizado (Causa Raíz)', 'Campo personalizado (Causa del Incidente/Evento:)', 'Campo personalizado (Certificación)', 'Campo personalizado (Certificada)', 'Campo personalizado (Citizen Developer)', 'Campo personalizado (Clasificación Incidencia CVA)', 'Campo personalizado (Clasificación de los mandates)', 'Campo personalizado (Cliente)', 'Campo personalizado (Cod. ATH)', 'Campo personalizado (Comentarios)', 'Campo personalizado (Comentarios Analizado - En Progreso)', 'Campo personalizado (Comentarios Analizado - Stand By)', 'Campo personalizado (Comentarios Aproba - Cerrado)', 'Campo personalizado (Comentarios Aprobación - Entrega)', 'Campo personalizado (Comentarios CalRFx - POC)', 'Campo personalizado (Comentarios Comité Aprobación - Stand By)', 'Campo personalizado (Comentarios DefAlc - SelPrv)', 'Campo personalizado (Comentarios En Progreso - Cerrado)', 'Campo personalizado (Comentarios En Progreso - En Revisión)', 'Campo personalizado (Comentarios En Progreso - Revisión)', 'Campo personalizado (Comentarios En Progreso - Stand By)', 'Campo personalizado (Comentarios En Revisión - Cerrado)', 'Campo personalizado (Comentarios En Revisión - En Progreso)', 'Campo personalizado (Comentarios En Revisión - Stand By)', 'Campo personalizado (Comentarios Entrega - Gestión)', 'Campo personalizado (Comentarios GenRFx - CalRFx)', 'Campo personalizado (Comentarios Gestión - Cerrado)', 'Campo personalizado (Comentarios Negociación - Entrega)', 'Campo personalizado (Comentarios POC- NegPrv)', 'Campo personalizado (Comentarios Parking Lot - Analizado)', 'Campo personalizado (Comentarios Parking Lot - Stand By)', 'Campo personalizado (Comentarios Revisión Jefatura - Stand By)', 'Campo personalizado (Comentarios SelPrv - GenRFx)', 'Campo personalizado (Comentarios Stand By - Analizado)', 'Campo personalizado (Comentarios Stand By - Comité)', 'Campo personalizado (Comentarios Stand By - En Progreso)', 'Campo personalizado (Comentarios Stand By - En Revisión)', 'Campo personalizado (Comentarios Stand By - Revisión Jefatura)', 'Campo personalizado (Complejidad).1', 'Campo personalizado (Complejidad )', 'Campo personalizado (Complejidad PE)', 'Campo personalizado (Componentes Sherpa)', 'Campo personalizado (Compromiso de entrega)', 'Campo personalizado (Consecutivo de radicación)', 'Campo personalizado (ContadorFCR)', 'Campo personalizado (Copilot)', 'Campo personalizado (Corporate)', 'Campo personalizado (Correo Solicitante)', 'Campo personalizado (Correos en copia)', 'Campo personalizado (Costo)', 'Campo personalizado (Criterios De Aceptación)', 'Campo personalizado (Criterios de Aceptación)', 'Campo personalizado (Criterios de éxito)', 'Campo personalizado (Cuál es el request)', 'Campo personalizado (Cuál es el response)', 'Campo personalizado (Cuál es la Api del problema?)', 'Campo personalizado (Código de Informe)', 'Campo personalizado (Definición casos de prueba)', 'Campo personalizado (Dependencia)', 'Campo personalizado (Dependencia:)', 'Campo personalizado (Deploy)', 'Campo personalizado (Desarrollador)', 'Campo personalizado (Descripción breve (Logro))', 'Campo personalizado (Descripción breve de la idea)', 'Campo personalizado (Descripción de la Dependencia)', 'Campo personalizado (Descripción del Incidente/Evento Express:)', 'Campo personalizado (Descripción:)', 'Campo personalizado (Design System)', 'Campo personalizado (Detalle)', 'Campo personalizado (Detenida)', 'Campo personalizado (Dimensión)', 'Campo personalizado (Dirección de Arquitectura y Planeación %)', 'Campo personalizado (Dirección de Desarrollo de Software %)', 'Campo personalizado (Dirección de Infraestructura y Operaciones de TI %)', 'Campo personalizado (Dirección de Procesos %)', 'Campo personalizado (Dirección de Seguridad y Ciberseguridad %)', 'Campo personalizado (Diseñador)', 'Campo personalizado (Diseño en ejecución)', 'Campo personalizado (Diseños listos)', 'Campo personalizado (Documentos)', 'Campo personalizado (Dominio)', 'Campo personalizado (Duración instalación)', 'Campo personalizado (EQUIPO TRIBU ALIADOS)', 'Campo personalizado (Efectividad Esperada (%))', 'Campo personalizado (Ejecución asesoria)', 'Campo personalizado (Ejecución de pruebas)', 'Campo personalizado (Ejecutor)', 'Campo personalizado (En alineaciación con tribus y/o terceros)', 'Campo personalizado (En piloto)', 'Campo personalizado (En planeación y refinamiento)', 'Campo personalizado (En produción)', 'Campo personalizado (En pruebas Integrales)', 'Campo personalizado (EnCurso_TCA)', 'Campo personalizado (End Date)', 'Campo personalizado (Endpoint)', 'Campo personalizado (Enlace del diagrama (draw.io))', 'Campo personalizado (Ente de control)', 'Campo personalizado (Entregable Analizado - En Progreso)', 'Campo personalizado (Entregable Analizado - Stand By)', 'Campo personalizado (Entregable Aproba - Cerrado)', 'Campo personalizado (Entregable CalRFx - POC)', 'Campo personalizado (Entregable Comité - En Progreso)', 'Campo personalizado (Entregable Comité Aprobación - Stand By)', 'Campo personalizado (Entregable DefAlc - SelPrv)', 'Campo personalizado (Entregable En Progreso - Cerrado)', 'Campo personalizado (Entregable En Progreso - En Revisión)', 'Campo personalizado (Entregable En Progreso - Revisión)', 'Campo personalizado (Entregable En Progreso - Stand By)', 'Campo personalizado (Entregable En Revisión - Cancelado)', 'Campo personalizado (Entregable En Revisión - Cerrado)', 'Campo personalizado (Entregable En Revisión - En Progreso)', 'Campo personalizado (Entregable En Revisión - Stand By)', 'Campo personalizado (Entregable EntGciaImp - Gestión)', 'Campo personalizado (Entregable Gestión - Cerrado)', 'Campo personalizado (Entregable POC- NegPrv)', 'Campo personalizado (Entregable Parking Lot - Stand By)', 'Campo personalizado (Entregable Por Hacer - Stand By)', 'Campo personalizado (Entregable Revisión Jefatura - En Progreso)', 'Campo personalizado (Entregable Revisión Jefatura - Stand By)', 'Campo personalizado (Entregable SelPrv - GenRFx)', 'Campo personalizado (Entregable Stand By - Analizado)', 'Campo personalizado (Entregable Stand By - Comité)', 'Campo personalizado (Entregable Stand By - En Progreso)', 'Campo personalizado (Entregable Stand By - En Revisión)', 'Campo personalizado (Entregable Stand By - Por Hacer)', 'Campo personalizado (Entregable Stand By - Revisión Jefatura)', 'Campo personalizado (Entregado para Test)', 'Campo personalizado (Entrevista)', 'Campo personalizado (Equipo)', 'Campo personalizado (Equipo Escalado)', 'Campo personalizado (Equipo Impactado)', 'Campo personalizado (Equipo del CoE Arquitectura)', 'Campo personalizado (Equipos CoE Desarrollo)', 'Campo personalizado (Escalado A)', 'Campo personalizado (Esfuerzo)', 'Campo personalizado (Especialidad:)', 'Campo personalizado (Especificaciones listas)', 'Campo personalizado (Especificación Técnica)', 'Campo personalizado (Estado Informe)', 'Campo personalizado (Estado de la dependencia)', 'Campo personalizado (Estado de la entrega)', 'Campo personalizado (Estado de solución Causa Raiz)', 'Campo personalizado (Estado del proyecto de Atlas)', 'Campo personalizado (Estado según la administración)', 'Campo personalizado (Estimación de puntos de historia)', 'Campo personalizado (Estimated time)', 'Campo personalizado (Estrategia)', 'Campo personalizado (Estrategia VPT)', 'Campo personalizado (Estrategia de Tratamiento)', 'Campo personalizado (Evento)', 'Campo personalizado (Evento - Casuística (Aliados))', 'Campo personalizado (Evento Gif)', 'Campo personalizado (Evento Json)', 'Campo personalizado (Fecha Acordada)', 'Campo personalizado (Fecha Acordada de Entrega)', 'Campo personalizado (Fecha Bloqueo Desarrollo)', 'Campo personalizado (Fecha Bloqueo Funcional)', 'Campo personalizado (Fecha Bloqueo QA)', 'Campo personalizado (Fecha Certificación)', 'Campo personalizado (Fecha Dependencia Solicitada)', 'Campo personalizado (Fecha Desbloqueo QA)', 'Campo personalizado (Fecha Dojo-Capacitación)', 'Campo personalizado (Fecha Done)', 'Campo personalizado (Fecha Entrega QA)', 'Campo personalizado (Fecha Entrega Tester)', 'Campo personalizado (Fecha Entregada)', 'Campo personalizado (Fecha Nivel 1)', 'Campo personalizado (Fecha Nivel 2)', 'Campo personalizado (Fecha Nivel 3)', 'Campo personalizado (Fecha POC)', 'Campo personalizado (Fecha Paso Funcional  HU)', 'Campo personalizado (Fecha Planeada)', 'Campo personalizado (Fecha Primera Respuesta)', 'Campo personalizado (Fecha Real de ejecución)', 'Campo personalizado (Fecha Rechazado)', 'Campo personalizado (Fecha Stopper)', 'Campo personalizado (Fecha Validacion Solicitante)', 'Campo personalizado (Fecha capítulo)', 'Campo personalizado (Fecha de Aprobación)', 'Campo personalizado (Fecha de Calificación RFX)', 'Campo personalizado (Fecha de Cumplimiento)', 'Campo personalizado (Fecha de Cumplimiento Ratificada)', 'Campo personalizado (Fecha de Entendimiento/Refinamiento)', 'Campo personalizado (Fecha de Finalización)', 'Campo personalizado (Fecha de Generación RFX)', 'Campo personalizado (Fecha de Gestión)', 'Campo personalizado (Fecha de Implementación)', 'Campo personalizado (Fecha de Materialización)', 'Campo personalizado (Fecha de Negociación)', 'Campo personalizado (Fecha de Proceso)', 'Campo personalizado (Fecha de Radicación)', 'Campo personalizado (Fecha de Radicación).1', 'Campo personalizado (Fecha de Revisión)', 'Campo personalizado (Fecha de Selección Proveedores)', 'Campo personalizado (Fecha de Stand By)', 'Campo personalizado (Fecha de aplazamiento)', 'Campo personalizado (Fecha de cancelado)', 'Campo personalizado (Fecha de cierre)', 'Campo personalizado (Fecha de cierre:)', 'Campo personalizado (Fecha de compromiso)', 'Campo personalizado (Fecha de compromiso Desarrollo)', 'Campo personalizado (Fecha de compromiso certificación)', 'Campo personalizado (Fecha de compromiso funcional)', 'Campo personalizado (Fecha de desarrollo:)', 'Campo personalizado (Fecha de entrega (o))', 'Campo personalizado (Fecha de escalamiento)', 'Campo personalizado (Fecha de formalización)', 'Campo personalizado (Fecha de informe)', 'Campo personalizado (Fecha de inicio.)', 'Campo personalizado (Fecha de la satisfacción)', 'Campo personalizado (Fecha de reporte)', 'Campo personalizado (Fecha de solicitud)', 'Campo personalizado (Fecha en progreso)', 'Campo personalizado (Fecha entrega QA)', 'Campo personalizado (Fecha estimada necesidad)', 'Campo personalizado (Fecha estimada paso a producción de iniciativa)', 'Campo personalizado (Fecha límite de informe)', 'Campo personalizado (Fecha mesa de trabajo)', 'Campo personalizado (Fecha paso a Desarrollo)', 'Campo personalizado (Fecha paso a Desplegar)', 'Campo personalizado (Fecha paso a Done (Certificado))', 'Campo personalizado (Fecha paso a QA)', 'Campo personalizado (Fecha paso a finalizado)', 'Campo personalizado (Fecha paso por hacer)', 'Campo personalizado (Fecha paso por hacer.)', 'Campo personalizado (Fecha planeada de ejecución)', 'Campo personalizado (Fecha respuesta oficial)', 'Campo personalizado (Fecha solicitud)', 'Campo personalizado (Fecha y Hora Done)', 'Campo personalizado (Fecha y hora de instalación)', 'Campo personalizado (Fecha y hora planeada de ejecución:)', 'Campo personalizado (Fecha última actualización)', 'Campo personalizado (Fecha/Hora radicación incidente no SM)', 'Campo personalizado (Fecha/hora de creación)', 'Campo personalizado (Fechas de Reincidencia del Caso)', 'Campo personalizado (Fiabilidad)', 'Campo personalizado (Finalización Epica)', 'Campo personalizado (Finalizado)', 'Campo personalizado (Franquicia)', 'Campo personalizado (Frente)', 'Campo personalizado (Frente).1', 'Campo personalizado (Funcionalidades)', 'Campo personalizado (GCYC: Fecha Rechazada)', 'Campo personalizado (GCYC: Fecha de Detenido)', 'Campo personalizado (GCYC: Fecha de Finalización)', 'Campo personalizado (GCYC:Alistamiento)', 'Campo personalizado (GCYC:Análisis de datos)', 'Campo personalizado (GCYC:Frente)', 'Campo personalizado (GCYC:Gestión de datos)', 'Campo personalizado (GPIT Fecha Por Iniciar)', 'Campo personalizado (GPIT Fecha radicación)', 'Campo personalizado (GPIT: Descripción de Necesidad)', 'Campo personalizado (GPIT: Fecha Analisis de solicitud)', 'Campo personalizado (GPIT: Fecha Procesar información)', 'Campo personalizado (GPIT: Fecha Solicitud de propuesta)', 'Campo personalizado (GPIT: Fecha Stand by (Analisis y preparacion))', 'Campo personalizado (GPIT: Fecha Stand by (Ejecucion))', 'Campo personalizado (GPIT: Fecha Stand by (Elaboracion memorando))', 'Campo personalizado (GPIT: Fecha Stand by (Solicitud de informacion))', 'Campo personalizado (GPIT: Fecha Stand by (Viabilidad del proceso))', 'Campo personalizado (GPIT: Fecha analisis y preparacion)', 'Campo personalizado (GPIT: Fecha aprobacion y cierre)', 'Campo personalizado (GPIT: Fecha calificacion RFP)', 'Campo personalizado (GPIT: Fecha cierre)', 'Campo personalizado (GPIT: Fecha consolidación y presentación resultados)', 'Campo personalizado (GPIT: Fecha de vencimiento)', 'Campo personalizado (GPIT: Fecha definición de alcance y selección de proveedores)', 'Campo personalizado (GPIT: Fecha desarrollo PoC)', 'Campo personalizado (GPIT: Fecha ejecucion)', 'Campo personalizado (GPIT: Fecha elaboración RFP)', 'Campo personalizado (GPIT: Fecha elaborar memorando)', 'Campo personalizado (GPIT: Fecha investigacion)', 'Campo personalizado (GPIT: Fecha presentacion resultados)', 'Campo personalizado (GPIT: Fecha radicacion memo)', 'Campo personalizado (GPIT: Fecha seguimiento gestión contractual)', 'Campo personalizado (GPIT: Gestor/Sponsor/Líder (tribu, Squad, COE))', 'Campo personalizado (GPIT: Medición de metodología)', 'Campo personalizado (GPIT: Sub Categoría Asesorias)', 'Campo personalizado (GPIT: Sub Categoría Requerimientos)', 'Campo personalizado (GPIT: Tipo de Ptto TI)', 'Campo personalizado (GPIT: Tipo de Renovación)', 'Campo personalizado (GPIT: Tipo de aprobación)', 'Campo personalizado (GPIT: Tipo de proceso)', 'Campo personalizado (GPIT: Valor Total COP$ Aprobación)', 'Campo personalizado (GPIT: Valor Total COP$ Eficiencia)', 'Campo personalizado (GPIT: Vicepresidencia)', 'Campo personalizado (GPIT: ¿Renovado?)', 'Campo personalizado (Gerencia de Datos %)', 'Campo personalizado (Gerencia de Servicios de TI %)', 'Campo personalizado (Gerencia de TI para Internacional y Filiales %)', 'Campo personalizado (Gestor / Sponsor)', 'Campo personalizado (Gestor/Sponsor/Líder (tribu, Squad, COE))', 'Campo personalizado (Grupo de Asignacion1)', 'Campo personalizado (Grupo de Asignación)', 'Campo personalizado (Habilitador)', 'Campo personalizado (Hallazgo con Aplazamiento)', 'Campo personalizado (Hoja de ruta)', 'Campo personalizado (ICBS)', 'Campo personalizado (ID Radicación:)', 'Campo personalizado (ID Requerimiento)', 'Campo personalizado (ID Service Manager Incidente)', 'Campo personalizado (ID Solicitud)', 'Campo personalizado (ID dependencia)', 'Campo personalizado (ID radicación/wave)', 'Campo personalizado (Id Incidente/Evento)', 'Campo personalizado (Id Iniciativa/Id Proyecto)', 'Campo personalizado (Id Iniciativa:)', 'Campo personalizado (Id de Franquicia)', 'Campo personalizado (Idea archivada)', 'Campo personalizado (Idea archivada el)', 'Campo personalizado (Idioma de la solicitud)', 'Campo personalizado (Impacto)', 'Campo personalizado (Impacto Residual)', 'Campo personalizado (Impacto de Incidente)', 'Campo personalizado (Incidencias vinculadas)', 'Campo personalizado (Indicador asociado)', 'Campo personalizado (Información)', 'Campo personalizado (Iniciativa:)', 'Campo personalizado (Iniciativa_PYODV)', 'Campo personalizado (Inicio del proyecto)', 'Campo personalizado (Instrucciones Instalación)', 'Campo personalizado (Justificación)', 'Campo personalizado (Level Test)', 'Campo personalizado (Lider)', 'Campo personalizado (Link Wiki)', 'Campo personalizado (Lista de Proveedor)', 'Campo personalizado (Location)', 'Campo personalizado (Locked forms)', 'Campo personalizado (Logro)', 'Campo personalizado (MVP (Producto Minimo Viable))', 'Campo personalizado (Memoria capítulo arquitectura)', 'Campo personalizado (Mesa de Trabajo)', 'Campo personalizado (Metas de Atlas)', 'Campo personalizado (Molécula BM)', 'Campo personalizado (Molécula MPG)', 'Campo personalizado (Motivo Despliegue)', 'Campo personalizado (Motivo de cancelación)', 'Campo personalizado (Motivo de cancelación:)', 'Campo personalizado (Motivo de devolución)', 'Campo personalizado (Motivo de suspensión)', 'Campo personalizado (Necesidad)', 'Campo personalizado (Nivel)', 'Campo personalizado (Nivel de Exposición)', 'Campo personalizado (Nivel de soporte)', 'Campo personalizado (Nivel inicial)', 'Campo personalizado (No. Reprocesos)', 'Campo personalizado (Nombre a quien se escalo)', 'Campo personalizado (Nombre de tu equipo de trabajo)', 'Campo personalizado (Nombre de tu equipo de trabajo (producto))', 'Campo personalizado (Numero de Solicitud de Usuario, Xpress Lite, Evento Express o Incidente)', 'Campo personalizado (Número de Hallazgo)', 'Campo personalizado (Número plan de acción)', 'Campo personalizado (OKR Corporativo)', 'Campo personalizado (OKR Empresarial)', 'Campo personalizado (OKR Nuevos Negocios y Alianzas)', 'Campo personalizado (OKR Oficial)', 'Campo personalizado (OKR Pyme)', 'Campo personalizado (Objetivo del proyecto)', 'Campo personalizado (Objetivos)', 'Campo personalizado (Objetivos BdB)', 'Campo personalizado (Observación componente)', 'Campo personalizado (Opciones de ejecución)', 'Campo personalizado (Open forms)', 'Campo personalizado (Origen)', 'Campo personalizado (Origen dependencia)', 'Campo personalizado (PASO A DEV)', 'Campo personalizado (PM Solicitante)', 'Campo personalizado (Para la solucion se radico Incidente o solicitud)', 'Campo personalizado (Paso Backlog a Priorizado)', 'Campo personalizado (Paso Desarrollo a QA)', 'Campo personalizado (Paso Priorizado a Desarrollo)', 'Campo personalizado (Paso a Analisis)', 'Campo personalizado (Paso a Banco)', 'Campo personalizado (Paso a Bloqueado)', 'Campo personalizado (Paso a Desbloqueado)', 'Campo personalizado (Paso a Diagnostico)', 'Campo personalizado (Paso a Escalado)', 'Campo personalizado (Paso a Listo)', 'Campo personalizado (Paso a Select)', 'Campo personalizado (Paso a Validación)', 'Campo personalizado (Paso a diseño)', 'Campo personalizado (Paso a proveedor)', 'Campo personalizado (Paso deploy)', 'Campo personalizado (Paso ejecución)', 'Campo personalizado (Pasos Instalación Incidente CVA)', 'Campo personalizado (Pendiente Asesoria)', 'Campo personalizado (Pendiente Despliegue)', 'Campo personalizado (Percepción)', 'Campo personalizado (Petición de soporte)', 'Campo personalizado (Pilar AE:)', 'Campo personalizado (Pilar BDB)', 'Campo personalizado (Plan de contingencia)', 'Campo personalizado (Por priorizar)', 'Campo personalizado (PorHacer_TCA)', 'Campo personalizado (Portal)', 'Campo personalizado (Portal ICBS)', 'Campo personalizado (Prioridad)', 'Campo personalizado (Prioridad Incidente CVA)', 'Campo personalizado (Prioridad Soporte)', 'Campo personalizado (Priorización)', 'Campo personalizado (Priorización diseño)', 'Campo personalizado (Probabilidad Residual)', 'Campo personalizado (Probabilidad ocurrencia fallo)', 'Campo personalizado (Proceso Servicio BIA)', 'Campo personalizado (Producto)', 'Campo personalizado (Progreso de la entrega)', 'Campo personalizado (Project overview key)', 'Campo personalizado (Project overview status)', 'Campo personalizado (Proveedor)', 'Campo personalizado (Proveedor).1', 'Campo personalizado (Proveedor Desarrollo Externo)', 'Campo personalizado (Proyecto CC)', 'Campo personalizado (Proyecto GDAG)', 'Campo personalizado (Proyecto de Atlas)', 'Campo personalizado (Prueba Seguridad)', 'Campo personalizado (Pull Request Incidentes CVA)', 'Campo personalizado (Puntuación del impacto)', 'Campo personalizado (QA Asignado)', 'Campo personalizado (RLO)', 'Campo personalizado (Ready to test)', 'Campo personalizado (Rechazado)', 'Campo personalizado (Recibido de:)', 'Campo personalizado (Referencia)', 'Campo personalizado (Reincidencia Incidente CVA)', 'Campo personalizado (Release Proyecto:)', 'Campo personalizado (Release comprometido)', 'Campo personalizado (Reporte a Ejecución)', 'Campo personalizado (Repositorio Actualizado)', 'Campo personalizado (Repositorio Afectado)', 'Campo personalizado (Requerimiento ICBS)', 'Campo personalizado (Request Type)', 'Campo personalizado (Request participants)', 'Campo personalizado (Responsable  Desarrollo)', 'Campo personalizado (Responsable funcional)', 'Campo personalizado (Responsable.)', 'Campo personalizado (Respuesta)', 'Campo personalizado (Revision)', 'Campo personalizado (Rol).1', 'Campo personalizado (Ruta Evidencia BeeCoe)', 'Campo personalizado (SERVICIOS SOPORTE N1 N2)', 'Campo personalizado (SQUAD BDB)', 'Calificación de satisfacción', 'Campo personalizado (Se realizo la documentación ?)', 'Campo personalizado (Sección)', 'Campo personalizado (Segmento Mercado)', 'Campo personalizado (SelecParaDev_TCA)', 'Campo personalizado (Servicio)', 'Campo personalizado (Servicio / Plataforma)', 'Campo personalizado (Servicios afectados)', 'Campo personalizado (Severidad)', 'Campo personalizado (Solicitado por)', 'Campo personalizado (Solicitante)', 'Campo personalizado (Sprint Planeado)', 'Campo personalizado (Squad SMT)', 'Campo personalizado (Story Points Desarrollo)', 'Campo personalizado (Story Points Funcional)', 'Campo personalizado (Story Points QA)', 'Campo personalizado (Submitted forms)', 'Campo personalizado (Subtarea)', 'Campo personalizado (Subtipo BUG)', 'Campo personalizado (Summary)', 'Campo personalizado (TIPO SERVICIO)', 'Campo personalizado (Tablero Toy Story)', 'Campo personalizado (Tablero proyecto TCP)', 'Campo personalizado (Target end)', 'Campo personalizado (Target start)', 'Campo personalizado (Team)', 'Campo personalizado (Tema)', 'Campo personalizado (Tema padre)', 'Campo personalizado (Temas capítulo)', 'Campo personalizado (Terminado)', 'Campo personalizado (TestPlan)', 'Campo personalizado (Tiempo ejecucion)', 'Campo personalizado (Tiempo en Comité Aprobación)', 'Campo personalizado (Tiempo en Revisión Jefatura)', 'Campo personalizado (Tiempo espera test)', 'Campo personalizado (Tiene adjuntos en SMAX)', 'Campo personalizado (Tipificacion)', 'Campo personalizado (Tipificación de incidente)', 'Campo personalizado (Tipificación del Soporte)', 'Campo personalizado (Tipo Atención)', 'Campo personalizado (Tipo Dependencia/Iniciativa Estra)', 'Campo personalizado (Tipo Encuesta/Cuestionario/Solicitud)', 'Campo personalizado (Tipo Incidente/Evento)', 'Campo personalizado (Tipo Subtareas)', 'Campo personalizado (Tipo actividad Administrativa)', 'Campo personalizado (Tipo de Acción)', 'Campo personalizado (Tipo de Evaluación:)', 'Campo personalizado (Tipo de Evento)', 'Campo personalizado (Tipo de Incidencia reportada)', 'Campo personalizado (Tipo de Incidente)', 'Campo personalizado (Tipo de Indicador)', 'Campo personalizado (Tipo de Subtarea)', 'Campo personalizado (Tipo de actividad HU)', 'Campo personalizado (Tipo de afectación)', 'Campo personalizado (Tipo de bloqueo:)', 'Campo personalizado (Tipo de error)', 'Campo personalizado (Tipo de función fitness)', 'Campo personalizado (Tipo de impacto)', 'Campo personalizado (Tipo de proyecto)', 'Campo personalizado (Tipo de requerimiento)', 'Campo personalizado (Tipo de solicitud)', 'Campo personalizado (Tipo de solución incidente)', 'Campo personalizado (Tipo de tarea)', 'Campo personalizado (Tipo de tarea ST)', 'Campo personalizado (Tipología)', 'Campo personalizado (Tipología:)', 'Campo personalizado (Token Usuario)', 'Campo personalizado (Total forms)', 'Campo personalizado (Transversal VPT %)', 'Campo personalizado (URL Pipeline)', 'Campo personalizado (URL Pull request STG)', 'Campo personalizado (Unidad Agil/Equipo Solicitante)', 'Campo personalizado (Unidad Ágil Receptora)', 'Campo personalizado (Unidad Ágil/Equipo Receptor)', 'Campo personalizado (Usuario Desarrollador)', 'Campo personalizado (Usuario Funcional)', 'Campo personalizado (Usuario QA)', 'Campo personalizado (Usuario origen que reporta el caso)', 'Campo personalizado (Usuario remitente mail)', 'Campo personalizado (VIicepresidencia)', 'Campo personalizado (Validación Lider SOLTI)', 'Campo personalizado (Validación de logs)', 'Campo personalizado (Validation Team)', 'Campo personalizado (Valor)', 'Campo personalizado (Valor del Impacto)', 'Campo personalizado (Vendor)', 'Campo personalizado (Versión)', 'Campo personalizado (Versión Beta)', 'Campo personalizado (Versión Release)', 'Campo personalizado (Versión artefacto ATH)', 'Campo personalizado (Vicepresidencia)', 'Campo personalizado (Vicepresidencia:)', 'Campo personalizado (Vista-punto de vista)', 'Campo personalizado (Vulnerabilidad)', 'Campo personalizado (campo aplicativo (QA-STG))', 'Campo personalizado (en desarrollo tribu y/o terceros)', 'Campo personalizado (prueba)', 'Campo personalizado (uuid)', 'Campo personalizado (¿ El resultado de la verificación de los Logs de instalación fue exitoso?)', 'Campo personalizado (¿ La Gerencia de Tecnología entregó los Logs de instalación?)', 'Campo personalizado (¿ Los archivos instalados en el ambiente de producción corresponden con el requerimiento instalado?)', 'Campo personalizado (¿ Los servicios claves se encuentran operativos después de la instalación?)', 'Campo personalizado (¿ Mallas de procesamiento?)', 'Campo personalizado (¿ Se presentaron errores en los listings?)', 'Campo personalizado (¿ Se presentaron errores o alertas en los Logs de instalación?)', 'Campo personalizado (¿ Se realizó el enmascaramiento de los datos sensibles identificados?)', 'Campo personalizado (¿Al crear o actualizar tablas existentes  se documentó o actualizó el diccionario de datos en el formato definido?)', 'Campo personalizado (¿Cómo se logro la eficiencia obtenida?)', 'Campo personalizado (¿Dependencia Negociada?)', 'Campo personalizado (¿En los procesos de captura de datos se validaron las reglas de calidad definidas para cada tipo de dato?)', 'Campo personalizado (¿En que escuadrón deseas hacer la solicitud?)', 'Campo personalizado (¿Incidente/Evento?)', 'Campo personalizado (¿Necesita Validación de Data?)', 'Campo personalizado (¿Necesita pruebas de afectación?)', 'Campo personalizado (¿Planeada?)', 'Campo personalizado (¿Retrabajo?)', 'Campo personalizado (¿Se diligencio el archivo de Despliegues?)', 'Campo personalizado (¿Se usan las  listas de referencia oficiales del Banco para los datos que lo requieran (RDM, MDS)?)', 'Campo personalizado (Área  / Gerencia Solicitante)', 'Campo personalizado (Área Solicitante)', 'Campo personalizado (Área solicitante)']\n"
     ]
    }
   ],
   "source": [
    "empty_cols = migracion.columns[migracion.isnull().all()].tolist()\n",
    "print(\"Columnas sin valor:\", empty_cols)"
   ]
  }
 ],
 "metadata": {
  "kernelspec": {
   "display_name": "Python 3",
   "language": "python",
   "name": "python3"
  },
  "language_info": {
   "codemirror_mode": {
    "name": "ipython",
    "version": 3
   },
   "file_extension": ".py",
   "mimetype": "text/x-python",
   "name": "python",
   "nbconvert_exporter": "python",
   "pygments_lexer": "ipython3",
   "version": "3.11.9"
  }
 },
 "nbformat": 4,
 "nbformat_minor": 2
}
