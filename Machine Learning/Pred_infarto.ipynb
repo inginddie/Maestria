{
 "cells": [
  {
   "cell_type": "code",
   "execution_count": 2,
   "metadata": {},
   "outputs": [],
   "source": [
    "import pandas as pd\n",
    "import numpy as np\n",
    "from sklearn.model_selection import train_test_split, cross_validate\n",
    "from sklearn.pipeline import Pipeline\n",
    "from sklearn.compose import ColumnTransformer\n",
    "from sklearn.preprocessing import MinMaxScaler, OneHotEncoder, StandardScaler\n",
    "from sklearn.impute import SimpleImputer\n",
    "from sklearn.ensemble import RandomForestClassifier\n",
    "from imblearn.over_sampling import SMOTE\n",
    "from imblearn.pipeline import Pipeline as ImbPipeline\n",
    "from sklearn.dummy import DummyClassifier\n",
    "from sklearn.metrics import classification_report, confusion_matrix"
   ]
  },
  {
   "cell_type": "code",
   "execution_count": 3,
   "metadata": {},
   "outputs": [],
   "source": [
    "# Load the dataset\n",
    "url = \"https://raw.githubusercontent.com/camilousa/datasets/refs/heads/master/healthcare-dataset-stroke-data.csv\"\n",
    "df = pd.read_csv(url)"
   ]
  },
  {
   "cell_type": "code",
   "execution_count": 4,
   "metadata": {},
   "outputs": [
    {
     "name": "stdout",
     "output_type": "stream",
     "text": [
      "Forma del conjunto de datos: (5110, 12)\n",
      "\n",
      "Información del conjunto de datos:\n",
      "<class 'pandas.core.frame.DataFrame'>\n",
      "RangeIndex: 5110 entries, 0 to 5109\n",
      "Data columns (total 12 columns):\n",
      " #   Column             Non-Null Count  Dtype  \n",
      "---  ------             --------------  -----  \n",
      " 0   id                 5110 non-null   int64  \n",
      " 1   gender             5110 non-null   object \n",
      " 2   age                5110 non-null   float64\n",
      " 3   hypertension       5110 non-null   int64  \n",
      " 4   heart_disease      5110 non-null   int64  \n",
      " 5   ever_married       5110 non-null   object \n",
      " 6   work_type          5110 non-null   object \n",
      " 7   Residence_type     5110 non-null   object \n",
      " 8   avg_glucose_level  5110 non-null   float64\n",
      " 9   bmi                4909 non-null   float64\n",
      " 10  smoking_status     5110 non-null   object \n",
      " 11  stroke             5110 non-null   int64  \n",
      "dtypes: float64(3), int64(4), object(5)\n",
      "memory usage: 479.2+ KB\n"
     ]
    }
   ],
   "source": [
    "# Exploración de datos\n",
    "print(\"Forma del conjunto de datos:\", df.shape)\n",
    "print(\"\\nInformación del conjunto de datos:\")\n",
    "df.info()"
   ]
  },
  {
   "cell_type": "code",
   "execution_count": 5,
   "metadata": {},
   "outputs": [
    {
     "name": "stdout",
     "output_type": "stream",
     "text": [
      "\n",
      "Estadísticas descriptivas:\n",
      "                 id          age  hypertension  heart_disease  \\\n",
      "count   5110.000000  5110.000000   5110.000000    5110.000000   \n",
      "mean   36517.829354    43.226614      0.097456       0.054012   \n",
      "std    21161.721625    22.612647      0.296607       0.226063   \n",
      "min       67.000000     0.080000      0.000000       0.000000   \n",
      "25%    17741.250000    25.000000      0.000000       0.000000   \n",
      "50%    36932.000000    45.000000      0.000000       0.000000   \n",
      "75%    54682.000000    61.000000      0.000000       0.000000   \n",
      "max    72940.000000    82.000000      1.000000       1.000000   \n",
      "\n",
      "       avg_glucose_level          bmi       stroke  \n",
      "count        5110.000000  4909.000000  5110.000000  \n",
      "mean          106.147677    28.893237     0.048728  \n",
      "std            45.283560     7.854067     0.215320  \n",
      "min            55.120000    10.300000     0.000000  \n",
      "25%            77.245000    23.500000     0.000000  \n",
      "50%            91.885000    28.100000     0.000000  \n",
      "75%           114.090000    33.100000     0.000000  \n",
      "max           271.740000    97.600000     1.000000  \n",
      "\n",
      "Valores faltantes:\n",
      "id                     0\n",
      "gender                 0\n",
      "age                    0\n",
      "hypertension           0\n",
      "heart_disease          0\n",
      "ever_married           0\n",
      "work_type              0\n",
      "Residence_type         0\n",
      "avg_glucose_level      0\n",
      "bmi                  201\n",
      "smoking_status         0\n",
      "stroke                 0\n",
      "dtype: int64\n",
      "\n",
      "Distribución de la variable objetivo:\n",
      "stroke\n",
      "0    4861\n",
      "1     249\n",
      "Name: count, dtype: int64\n",
      "stroke\n",
      "0    0.951272\n",
      "1    0.048728\n",
      "Name: proportion, dtype: float64\n"
     ]
    }
   ],
   "source": [
    "print(\"\\nEstadísticas descriptivas:\")\n",
    "print(df.describe())\n",
    "\n",
    "print(\"\\nValores faltantes:\")\n",
    "print(df.isnull().sum())\n",
    "\n",
    "print(\"\\nDistribución de la variable objetivo:\")\n",
    "print(df['stroke'].value_counts())\n",
    "print(df['stroke'].value_counts(normalize=True))"
   ]
  },
  {
   "cell_type": "code",
   "execution_count": 6,
   "metadata": {},
   "outputs": [],
   "source": [
    "# Preprocesamiento de datos\n",
    "# Eliminar columna ID ya que no es útil para la predicción\n",
    "df = df.drop('id', axis=1)"
   ]
  },
  {
   "cell_type": "code",
   "execution_count": 7,
   "metadata": {},
   "outputs": [],
   "source": [
    "# Manejar valores faltantes en IMC\n",
    "df['bmi'] = pd.to_numeric(df['bmi'], errors='coerce')  # Convertir a numérico, establecer errores en NaN\n"
   ]
  },
  {
   "cell_type": "code",
   "execution_count": 10,
   "metadata": {},
   "outputs": [],
   "source": [
    "# Dividir en características y objetivo\n",
    "X = df.drop('stroke', axis=1)\n",
    "y = df['stroke']\n",
    "\n",
    "# Dividir datos en conjuntos de entrenamiento y prueba\n",
    "X_train, X_test, y_train, y_test = train_test_split(X, y, test_size=0.2, random_state=42)"
   ]
  },
  {
   "cell_type": "code",
   "execution_count": 11,
   "metadata": {},
   "outputs": [],
   "source": [
    "# Definir pipelines de preprocesamiento\n",
    "# Identificar tipos de columnas\n",
    "categorical_cols = X.select_dtypes(include=['object']).columns.tolist()\n",
    "numerical_cols = X.select_dtypes(include=['number']).columns.tolist()"
   ]
  },
  {
   "cell_type": "code",
   "execution_count": 12,
   "metadata": {},
   "outputs": [],
   "source": [
    "# Crear pipelines de preprocesamiento\n",
    "categorical_pipeline = Pipeline([\n",
    "    ('imputer', SimpleImputer(strategy='most_frequent')),\n",
    "    ('onehot', OneHotEncoder(handle_unknown='ignore', drop='first'))\n",
    "])\n",
    "\n",
    "numerical_pipeline = Pipeline([\n",
    "    ('imputer', SimpleImputer(strategy='mean')),\n",
    "    ('scaler', StandardScaler())\n",
    "])"
   ]
  },
  {
   "cell_type": "code",
   "execution_count": 13,
   "metadata": {},
   "outputs": [],
   "source": [
    "# Combinar todos los pasos de preprocesamiento\n",
    "preprocessor = ColumnTransformer([\n",
    "    ('categorical', categorical_pipeline, categorical_cols),\n",
    "    ('numerical', numerical_pipeline, numerical_cols)\n",
    "])"
   ]
  },
  {
   "cell_type": "code",
   "execution_count": 15,
   "metadata": {},
   "outputs": [
    {
     "name": "stderr",
     "output_type": "stream",
     "text": [
      "C:\\Users\\Diego\\AppData\\Roaming\\Python\\Python313\\site-packages\\sklearn\\metrics\\_classification.py:1565: UndefinedMetricWarning: Precision is ill-defined and being set to 0.0 due to no predicted samples. Use `zero_division` parameter to control this behavior.\n",
      "  _warn_prf(average, modifier, f\"{metric.capitalize()} is\", len(result))\n",
      "C:\\Users\\Diego\\AppData\\Roaming\\Python\\Python313\\site-packages\\sklearn\\metrics\\_classification.py:1565: UndefinedMetricWarning: Precision is ill-defined and being set to 0.0 due to no predicted samples. Use `zero_division` parameter to control this behavior.\n",
      "  _warn_prf(average, modifier, f\"{metric.capitalize()} is\", len(result))\n",
      "C:\\Users\\Diego\\AppData\\Roaming\\Python\\Python313\\site-packages\\sklearn\\metrics\\_classification.py:1565: UndefinedMetricWarning: Precision is ill-defined and being set to 0.0 due to no predicted samples. Use `zero_division` parameter to control this behavior.\n",
      "  _warn_prf(average, modifier, f\"{metric.capitalize()} is\", len(result))\n",
      "C:\\Users\\Diego\\AppData\\Roaming\\Python\\Python313\\site-packages\\sklearn\\metrics\\_classification.py:1565: UndefinedMetricWarning: Precision is ill-defined and being set to 0.0 due to no predicted samples. Use `zero_division` parameter to control this behavior.\n",
      "  _warn_prf(average, modifier, f\"{metric.capitalize()} is\", len(result))\n",
      "C:\\Users\\Diego\\AppData\\Roaming\\Python\\Python313\\site-packages\\sklearn\\metrics\\_classification.py:1565: UndefinedMetricWarning: Precision is ill-defined and being set to 0.0 due to no predicted samples. Use `zero_division` parameter to control this behavior.\n",
      "  _warn_prf(average, modifier, f\"{metric.capitalize()} is\", len(result))\n",
      "C:\\Users\\Diego\\AppData\\Roaming\\Python\\Python313\\site-packages\\sklearn\\metrics\\_classification.py:1565: UndefinedMetricWarning: Precision is ill-defined and being set to 0.0 due to no predicted samples. Use `zero_division` parameter to control this behavior.\n",
      "  _warn_prf(average, modifier, f\"{metric.capitalize()} is\", len(result))\n",
      "C:\\Users\\Diego\\AppData\\Roaming\\Python\\Python313\\site-packages\\sklearn\\metrics\\_classification.py:1565: UndefinedMetricWarning: Precision is ill-defined and being set to 0.0 due to no predicted samples. Use `zero_division` parameter to control this behavior.\n",
      "  _warn_prf(average, modifier, f\"{metric.capitalize()} is\", len(result))\n",
      "C:\\Users\\Diego\\AppData\\Roaming\\Python\\Python313\\site-packages\\sklearn\\metrics\\_classification.py:1565: UndefinedMetricWarning: Precision is ill-defined and being set to 0.0 due to no predicted samples. Use `zero_division` parameter to control this behavior.\n",
      "  _warn_prf(average, modifier, f\"{metric.capitalize()} is\", len(result))\n"
     ]
    },
    {
     "name": "stdout",
     "output_type": "stream",
     "text": [
      "\n",
      "Resultados del Modelo de Referencia:\n",
      "accuracy:\n",
      "  Entrenamiento - Media: 0.9543, Desv. Estándar: 0.0001\n",
      "  Validación - Media: 0.9543, Desv. Estándar: 0.0006\n",
      "precision:\n",
      "  Entrenamiento - Media: 0.0000, Desv. Estándar: 0.0000\n",
      "  Validación - Media: 0.0000, Desv. Estándar: 0.0000\n",
      "recall:\n",
      "  Entrenamiento - Media: 0.0000, Desv. Estándar: 0.0000\n",
      "  Validación - Media: 0.0000, Desv. Estándar: 0.0000\n",
      "f1:\n",
      "  Entrenamiento - Media: 0.0000, Desv. Estándar: 0.0000\n",
      "  Validación - Media: 0.0000, Desv. Estándar: 0.0000\n"
     ]
    },
    {
     "name": "stderr",
     "output_type": "stream",
     "text": [
      "C:\\Users\\Diego\\AppData\\Roaming\\Python\\Python313\\site-packages\\sklearn\\metrics\\_classification.py:1565: UndefinedMetricWarning: Precision is ill-defined and being set to 0.0 due to no predicted samples. Use `zero_division` parameter to control this behavior.\n",
      "  _warn_prf(average, modifier, f\"{metric.capitalize()} is\", len(result))\n",
      "C:\\Users\\Diego\\AppData\\Roaming\\Python\\Python313\\site-packages\\sklearn\\metrics\\_classification.py:1565: UndefinedMetricWarning: Precision is ill-defined and being set to 0.0 due to no predicted samples. Use `zero_division` parameter to control this behavior.\n",
      "  _warn_prf(average, modifier, f\"{metric.capitalize()} is\", len(result))\n"
     ]
    }
   ],
   "source": [
    "# Crear y evaluar modelo de referencia\n",
    "baseline_model = Pipeline([\n",
    "    ('preprocessor', preprocessor),\n",
    "    ('classifier', DummyClassifier(strategy='most_frequent'))\n",
    "])\n",
    "baseline_results = cross_validate(\n",
    "    baseline_model, \n",
    "    X_train, \n",
    "    y_train, \n",
    "    cv=5, \n",
    "    return_train_score=True,\n",
    "    scoring=['accuracy', 'precision', 'recall', 'f1']\n",
    ")\n",
    "\n",
    "print(\"\\nResultados del Modelo de Referencia:\")\n",
    "for metric in ['accuracy', 'precision', 'recall', 'f1']:\n",
    "    train_scores = baseline_results[f'train_{metric}']\n",
    "    test_scores = baseline_results[f'test_{metric}']\n",
    "    print(f\"{metric}:\")\n",
    "    print(f\"  Entrenamiento - Media: {np.mean(train_scores):.4f}, Desv. Estándar: {np.std(train_scores):.4f}\")\n",
    "    print(f\"  Validación - Media: {np.mean(test_scores):.4f}, Desv. Estándar: {np.std(test_scores):.4f}\")\n"
   ]
  },
  {
   "cell_type": "code",
   "execution_count": 16,
   "metadata": {},
   "outputs": [
    {
     "name": "stderr",
     "output_type": "stream",
     "text": [
      "C:\\Users\\Diego\\AppData\\Roaming\\Python\\Python313\\site-packages\\sklearn\\metrics\\_classification.py:1565: UndefinedMetricWarning: Precision is ill-defined and being set to 0.0 due to no predicted samples. Use `zero_division` parameter to control this behavior.\n",
      "  _warn_prf(average, modifier, f\"{metric.capitalize()} is\", len(result))\n",
      "C:\\Users\\Diego\\AppData\\Roaming\\Python\\Python313\\site-packages\\sklearn\\metrics\\_classification.py:1565: UndefinedMetricWarning: Precision is ill-defined and being set to 0.0 due to no predicted samples. Use `zero_division` parameter to control this behavior.\n",
      "  _warn_prf(average, modifier, f\"{metric.capitalize()} is\", len(result))\n",
      "C:\\Users\\Diego\\AppData\\Roaming\\Python\\Python313\\site-packages\\sklearn\\metrics\\_classification.py:1565: UndefinedMetricWarning: Precision is ill-defined and being set to 0.0 due to no predicted samples. Use `zero_division` parameter to control this behavior.\n",
      "  _warn_prf(average, modifier, f\"{metric.capitalize()} is\", len(result))\n",
      "C:\\Users\\Diego\\AppData\\Roaming\\Python\\Python313\\site-packages\\sklearn\\metrics\\_classification.py:1565: UndefinedMetricWarning: Precision is ill-defined and being set to 0.0 due to no predicted samples. Use `zero_division` parameter to control this behavior.\n",
      "  _warn_prf(average, modifier, f\"{metric.capitalize()} is\", len(result))\n",
      "C:\\Users\\Diego\\AppData\\Roaming\\Python\\Python313\\site-packages\\sklearn\\metrics\\_classification.py:1565: UndefinedMetricWarning: Precision is ill-defined and being set to 0.0 due to no predicted samples. Use `zero_division` parameter to control this behavior.\n",
      "  _warn_prf(average, modifier, f\"{metric.capitalize()} is\", len(result))\n",
      "C:\\Users\\Diego\\AppData\\Roaming\\Python\\Python313\\site-packages\\sklearn\\metrics\\_classification.py:1565: UndefinedMetricWarning: Precision is ill-defined and being set to 0.0 due to no predicted samples. Use `zero_division` parameter to control this behavior.\n",
      "  _warn_prf(average, modifier, f\"{metric.capitalize()} is\", len(result))\n",
      "C:\\Users\\Diego\\AppData\\Roaming\\Python\\Python313\\site-packages\\sklearn\\metrics\\_classification.py:1565: UndefinedMetricWarning: Precision is ill-defined and being set to 0.0 due to no predicted samples. Use `zero_division` parameter to control this behavior.\n",
      "  _warn_prf(average, modifier, f\"{metric.capitalize()} is\", len(result))\n",
      "C:\\Users\\Diego\\AppData\\Roaming\\Python\\Python313\\site-packages\\sklearn\\metrics\\_classification.py:1565: UndefinedMetricWarning: Precision is ill-defined and being set to 0.0 due to no predicted samples. Use `zero_division` parameter to control this behavior.\n",
      "  _warn_prf(average, modifier, f\"{metric.capitalize()} is\", len(result))\n"
     ]
    },
    {
     "name": "stdout",
     "output_type": "stream",
     "text": [
      "\n",
      "Resultados del Modelo Random Forest:\n",
      "accuracy:\n",
      "  Entrenamiento - Media: 0.9543, Desv. Estándar: 0.0001\n",
      "  Validación - Media: 0.9543, Desv. Estándar: 0.0006\n",
      "precision:\n",
      "  Entrenamiento - Media: 0.0000, Desv. Estándar: 0.0000\n",
      "  Validación - Media: 0.0000, Desv. Estándar: 0.0000\n",
      "recall:\n",
      "  Entrenamiento - Media: 0.0000, Desv. Estándar: 0.0000\n",
      "  Validación - Media: 0.0000, Desv. Estándar: 0.0000\n",
      "f1:\n",
      "  Entrenamiento - Media: 0.0000, Desv. Estándar: 0.0000\n",
      "  Validación - Media: 0.0000, Desv. Estándar: 0.0000\n"
     ]
    },
    {
     "name": "stderr",
     "output_type": "stream",
     "text": [
      "C:\\Users\\Diego\\AppData\\Roaming\\Python\\Python313\\site-packages\\sklearn\\metrics\\_classification.py:1565: UndefinedMetricWarning: Precision is ill-defined and being set to 0.0 due to no predicted samples. Use `zero_division` parameter to control this behavior.\n",
      "  _warn_prf(average, modifier, f\"{metric.capitalize()} is\", len(result))\n",
      "C:\\Users\\Diego\\AppData\\Roaming\\Python\\Python313\\site-packages\\sklearn\\metrics\\_classification.py:1565: UndefinedMetricWarning: Precision is ill-defined and being set to 0.0 due to no predicted samples. Use `zero_division` parameter to control this behavior.\n",
      "  _warn_prf(average, modifier, f\"{metric.capitalize()} is\", len(result))\n"
     ]
    }
   ],
   "source": [
    "# Crear y evaluar modelo principal\n",
    "model = Pipeline([\n",
    "    ('preprocessor', preprocessor),\n",
    "    ('classifier', RandomForestClassifier(random_state=42, max_depth=5))\n",
    "])\n",
    "\n",
    "model_results = cross_validate(\n",
    "    model, \n",
    "    X_train, \n",
    "    y_train, \n",
    "    cv=5, \n",
    "    return_train_score=True,\n",
    "    scoring=['accuracy', 'precision', 'recall', 'f1']\n",
    ")\n",
    "\n",
    "print(\"\\nResultados del Modelo Random Forest:\")\n",
    "for metric in ['accuracy', 'precision', 'recall', 'f1']:\n",
    "    train_scores = model_results[f'train_{metric}']\n",
    "    test_scores = model_results[f'test_{metric}']\n",
    "    print(f\"{metric}:\")\n",
    "    print(f\"  Entrenamiento - Media: {np.mean(train_scores):.4f}, Desv. Estándar: {np.std(train_scores):.4f}\")\n",
    "    print(f\"  Validación - Media: {np.mean(test_scores):.4f}, Desv. Estándar: {np.std(test_scores):.4f}\")\n"
   ]
  },
  {
   "cell_type": "code",
   "execution_count": 17,
   "metadata": {},
   "outputs": [
    {
     "name": "stdout",
     "output_type": "stream",
     "text": [
      "\n",
      "Resultados del Modelo Random Forest con SMOTE:\n",
      "accuracy:\n",
      "  Entrenamiento - Media: 0.7683, Desv. Estándar: 0.0048\n",
      "  Validación - Media: 0.7537, Desv. Estándar: 0.0185\n",
      "precision:\n",
      "  Entrenamiento - Media: 0.1433, Desv. Estándar: 0.0027\n",
      "  Validación - Media: 0.1215, Desv. Estándar: 0.0073\n",
      "recall:\n",
      "  Entrenamiento - Media: 0.8168, Desv. Estándar: 0.0222\n",
      "  Validación - Media: 0.7006, Desv. Estándar: 0.0388\n",
      "f1:\n",
      "  Entrenamiento - Media: 0.2439, Desv. Estándar: 0.0046\n",
      "  Validación - Media: 0.2069, Desv. Estándar: 0.0113\n"
     ]
    }
   ],
   "source": [
    "# Crear y evaluar modelo con SMOTE (para desequilibrio de clases)\n",
    "imb_model = ImbPipeline([\n",
    "    ('preprocessor', preprocessor),\n",
    "    ('smote', SMOTE(random_state=42)),\n",
    "    ('classifier', RandomForestClassifier(random_state=42, max_depth=5))\n",
    "])\n",
    "\n",
    "imb_model_results = cross_validate(\n",
    "    imb_model, \n",
    "    X_train, \n",
    "    y_train, \n",
    "    cv=5, \n",
    "    return_train_score=True,\n",
    "    scoring=['accuracy', 'precision', 'recall', 'f1']\n",
    ")\n",
    "\n",
    "print(\"\\nResultados del Modelo Random Forest con SMOTE:\")\n",
    "for metric in ['accuracy', 'precision', 'recall', 'f1']:\n",
    "    train_scores = imb_model_results[f'train_{metric}']\n",
    "    test_scores = imb_model_results[f'test_{metric}']\n",
    "    print(f\"{metric}:\")\n",
    "    print(f\"  Entrenamiento - Media: {np.mean(train_scores):.4f}, Desv. Estándar: {np.std(train_scores):.4f}\")\n",
    "    print(f\"  Validación - Media: {np.mean(test_scores):.4f}, Desv. Estándar: {np.std(test_scores):.4f}\")\n"
   ]
  },
  {
   "cell_type": "code",
   "execution_count": 18,
   "metadata": {},
   "outputs": [
    {
     "name": "stdout",
     "output_type": "stream",
     "text": [
      "\n",
      "Evaluación del Modelo Final en Conjunto de Prueba:\n",
      "\n",
      "Matriz de Confusión:\n",
      "[[719 241]\n",
      " [ 12  50]]\n",
      "\n",
      "Informe de Clasificación:\n",
      "              precision    recall  f1-score   support\n",
      "\n",
      "           0       0.98      0.75      0.85       960\n",
      "           1       0.17      0.81      0.28        62\n",
      "\n",
      "    accuracy                           0.75      1022\n",
      "   macro avg       0.58      0.78      0.57      1022\n",
      "weighted avg       0.93      0.75      0.82      1022\n",
      "\n"
     ]
    },
    {
     "name": "stderr",
     "output_type": "stream",
     "text": [
      "C:\\Users\\Diego\\AppData\\Roaming\\Python\\Python313\\site-packages\\sklearn\\preprocessing\\_encoders.py:246: UserWarning: Found unknown categories in columns [0] during transform. These unknown categories will be encoded as all zeros\n",
      "  warnings.warn(\n"
     ]
    }
   ],
   "source": [
    "# Entrenamiento y evaluación del modelo final\n",
    "final_model = imb_model.fit(X_train, y_train)\n",
    "y_pred = final_model.predict(X_test)\n",
    "\n",
    "print(\"\\nEvaluación del Modelo Final en Conjunto de Prueba:\")\n",
    "print(\"\\nMatriz de Confusión:\")\n",
    "print(confusion_matrix(y_test, y_pred))\n",
    "\n",
    "print(\"\\nInforme de Clasificación:\")\n",
    "print(classification_report(y_test, y_pred))\n"
   ]
  },
  {
   "cell_type": "code",
   "execution_count": 19,
   "metadata": {},
   "outputs": [
    {
     "name": "stdout",
     "output_type": "stream",
     "text": [
      "\n",
      "Importancia de Características:\n",
      "                    Característica  Importancia\n",
      "10                             age     0.421451\n",
      "1                 ever_married_Yes     0.152472\n",
      "14                             bmi     0.071436\n",
      "13               avg_glucose_level     0.071223\n",
      "6             Residence_type_Urban     0.044061\n",
      "7   smoking_status_formerly smoked     0.036668\n",
      "5               work_type_children     0.032028\n",
      "3                work_type_Private     0.029821\n",
      "12                   heart_disease     0.028982\n",
      "0                      gender_Male     0.027042\n"
     ]
    }
   ],
   "source": [
    "# Importancia de características\n",
    "if hasattr(final_model['classifier'], 'feature_importances_'):\n",
    "    # Obtener nombres de características después del preprocesamiento\n",
    "    ohe = final_model['preprocessor'].named_transformers_['categorical']['onehot']\n",
    "    cat_features = ohe.get_feature_names_out(categorical_cols).tolist()\n",
    "    all_features = cat_features + numerical_cols\n",
    "    \n",
    "    # Obtener importancias de características\n",
    "    importances = final_model['classifier'].feature_importances_\n",
    "    \n",
    "    # Crear un DataFrame para mejor visualización\n",
    "    feature_importance = pd.DataFrame({\n",
    "        'Característica': all_features,\n",
    "        'Importancia': importances\n",
    "    }).sort_values(by='Importancia', ascending=False)\n",
    "    \n",
    "    print(\"\\nImportancia de Características:\")\n",
    "    print(feature_importance.head(10))  # Mostrar las 10 características principales"
   ]
  }
 ],
 "metadata": {
  "kernelspec": {
   "display_name": "Python 3",
   "language": "python",
   "name": "python3"
  },
  "language_info": {
   "codemirror_mode": {
    "name": "ipython",
    "version": 3
   },
   "file_extension": ".py",
   "mimetype": "text/x-python",
   "name": "python",
   "nbconvert_exporter": "python",
   "pygments_lexer": "ipython3",
   "version": "3.13.2"
  }
 },
 "nbformat": 4,
 "nbformat_minor": 2
}
