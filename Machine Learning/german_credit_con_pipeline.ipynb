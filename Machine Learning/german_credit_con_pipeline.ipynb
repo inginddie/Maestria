{
  "nbformat": 4,
  "nbformat_minor": 0,
  "metadata": {
    "colab": {
      "provenance": [],
      "include_colab_link": true
    },
    "kernelspec": {
      "name": "python3",
      "display_name": "Python 3"
    },
    "language_info": {
      "name": "python"
    }
  },
  "cells": [
    {
      "cell_type": "markdown",
      "metadata": {
        "id": "view-in-github",
        "colab_type": "text"
      },
      "source": [
        "<a href=\"https://colab.research.google.com/github/inginddie/Maestria/blob/main/german_credit_con_pipeline.ipynb\" target=\"_parent\"><img src=\"https://colab.research.google.com/assets/colab-badge.svg\" alt=\"Open In Colab\"/></a>"
      ]
    },
    {
      "cell_type": "code",
      "execution_count": null,
      "metadata": {
        "id": "c1f0EvTMD0oc"
      },
      "outputs": [],
      "source": [
        "import pandas as pd\n",
        "from sklearn.model_selection import train_test_split\n",
        "from sklearn.pipeline import Pipeline\n",
        "from sklearn.compose import ColumnTransformer\n",
        "from sklearn.preprocessing import MinMaxScaler, OneHotEncoder\n",
        "from sklearn.impute import SimpleImputer\n",
        "from sklearn.ensemble import RandomForestClassifier\n",
        "from sklearn.model_selection import cross_validate\n",
        "from imblearn.over_sampling import SMOTE\n",
        "from imblearn.pipeline import Pipeline as ImbPipeline\n",
        "from sklearn.dummy import DummyClassifier\n"
      ]
    },
    {
      "cell_type": "code",
      "source": [
        "df = pd.read_csv(\"https://raw.githubusercontent.com/camilousa/datasets/refs/heads/master/german_credit_data(2)(1).csv\")"
      ],
      "metadata": {
        "id": "t2v1Ebx4D5hP"
      },
      "execution_count": null,
      "outputs": []
    },
    {
      "cell_type": "code",
      "source": [
        "train, test = train_test_split(df, test_size=0.2, random_state=42)"
      ],
      "metadata": {
        "id": "qw_cMkHpExmA"
      },
      "execution_count": null,
      "outputs": []
    },
    {
      "cell_type": "code",
      "source": [
        "pipeline_cat = Pipeline([\n",
        "    (\"imputador\", SimpleImputer(strategy=\"most_frequent\")),\n",
        "    (\"onehot\", OneHotEncoder(handle_unknown=\"ignore\", drop=\"first\"))\n",
        "])"
      ],
      "metadata": {
        "id": "ZK-XwmiEE4J-"
      },
      "execution_count": null,
      "outputs": []
    },
    {
      "cell_type": "code",
      "source": [
        "\n",
        "pipeline_num = Pipeline([\n",
        "    (\"imputador\", SimpleImputer(strategy=\"mean\")),\n",
        "    (\"normalizador\", MinMaxScaler())\n",
        "])"
      ],
      "metadata": {
        "id": "mQF0Nd-dI0g_"
      },
      "execution_count": null,
      "outputs": []
    },
    {
      "cell_type": "code",
      "source": [
        "column_transformer = ColumnTransformer([\n",
        "    (\"pipeline_cat\", pipeline_cat, [\"Sex\", \"Job\", \"Housing\", \"Saving_accounts\", \"Checking_account\", \"Purpose\"]),\n",
        "    (\"pipeline_num\", pipeline_num, [\"Age\", \"Credit_amount\", \"Duration\"])\n",
        "])"
      ],
      "metadata": {
        "id": "2wjCWlvPJ82B"
      },
      "execution_count": null,
      "outputs": []
    },
    {
      "cell_type": "code",
      "source": [
        "pipeline = Pipeline([\n",
        "    (\"column_transformer\", column_transformer),\n",
        "    (\"modelo\", RandomForestClassifier(max_depth=3))\n",
        "])"
      ],
      "metadata": {
        "id": "n5y7L-1-KBo_"
      },
      "execution_count": null,
      "outputs": []
    },
    {
      "cell_type": "code",
      "source": [
        "results = cross_validate(pipeline, train.drop(columns=\"Risk\"),\n",
        "                         train[\"Risk\"]=='good', cv=5,  return_train_score=True,\n",
        "                         scoring=[\"accuracy\", \"precision\", \"recall\"])"
      ],
      "metadata": {
        "id": "g1zp3DIGKV2v"
      },
      "execution_count": null,
      "outputs": []
    },
    {
      "cell_type": "code",
      "source": [
        "\n",
        "for metric in [\"accuracy\", \"precision\", \"recall\"]:\n",
        "  train_scores = results[f\"train_{metric}\"]\n",
        "  test_scores = results[f\"test_{metric}\"]\n",
        "  print(f\"{metric}:\")\n",
        "  print(f\"  Train - Mean: {np.mean(train_scores):.4f}, Std: {np.std(train_scores):.4f}\")\n",
        "  print(f\"  Validation - Mean: {np.mean(test_scores):.4f}, Std: {np.std(test_scores):.4f}\")\n"
      ],
      "metadata": {
        "colab": {
          "base_uri": "https://localhost:8080/"
        },
        "id": "oPvBzKo_XIBC",
        "outputId": "e748f925-7e78-46eb-c382-fa6768589166"
      },
      "execution_count": null,
      "outputs": [
        {
          "output_type": "stream",
          "name": "stdout",
          "text": [
            "accuracy:\n",
            "  Train - Mean: 0.7200, Std: 0.0069\n",
            "  Validation - Mean: 0.7050, Std: 0.0047\n",
            "precision:\n",
            "  Train - Mean: 0.7144, Std: 0.0054\n",
            "  Validation - Mean: 0.7058, Std: 0.0045\n",
            "recall:\n",
            "  Train - Mean: 0.9987, Std: 0.0011\n",
            "  Validation - Mean: 0.9911, Std: 0.0138\n"
          ]
        }
      ]
    },
    {
      "cell_type": "markdown",
      "source": [
        "### Pipeline con balanceo"
      ],
      "metadata": {
        "id": "nmSx7wKjZ2ua"
      }
    },
    {
      "cell_type": "code",
      "source": [
        "pipeline = ImbPipeline([\n",
        "    (\"column_transformer\", column_transformer),\n",
        "    (\"balanceo\", SMOTE()),\n",
        "    (\"modelo\", RandomForestClassifier(max_depth=3))\n",
        "])"
      ],
      "metadata": {
        "id": "lJ8Lz3LcZ6sS"
      },
      "execution_count": null,
      "outputs": []
    },
    {
      "cell_type": "code",
      "source": [
        "results = cross_validate(pipeline, train.drop(columns=\"Risk\"),\n",
        "                         train[\"Risk\"]=='good', cv=5,  return_train_score=True,\n",
        "                         scoring=[\"accuracy\", \"precision\", \"recall\"])"
      ],
      "metadata": {
        "id": "5TIMxkj3XDDh"
      },
      "execution_count": null,
      "outputs": []
    },
    {
      "cell_type": "code",
      "source": [],
      "metadata": {
        "id": "tfgKgbuycEhV"
      },
      "execution_count": null,
      "outputs": []
    },
    {
      "cell_type": "code",
      "source": [
        "for metric in [\"accuracy\", \"precision\", \"recall\"]:\n",
        "  train_scores = results[f\"train_{metric}\"]\n",
        "  test_scores = results[f\"test_{metric}\"]\n",
        "  print(f\"{metric}:\")\n",
        "  print(f\"  Train - Mean: {np.mean(train_scores):.4f}, Std: {np.std(train_scores):.4f}\")\n",
        "  print(f\"  Validation - Mean: {np.mean(test_scores):.4f}, Std: {np.std(test_scores):.4f}\")\n"
      ],
      "metadata": {
        "colab": {
          "base_uri": "https://localhost:8080/"
        },
        "id": "uB5B2yAJaV0D",
        "outputId": "06b40cda-7e5e-4e77-f269-76981f299812"
      },
      "execution_count": null,
      "outputs": [
        {
          "output_type": "stream",
          "name": "stdout",
          "text": [
            "accuracy:\n",
            "  Train - Mean: 0.6978, Std: 0.0328\n",
            "  Validation - Mean: 0.6562, Std: 0.0471\n",
            "precision:\n",
            "  Train - Mean: 0.8274, Std: 0.0129\n",
            "  Validation - Mean: 0.7992, Std: 0.0268\n",
            "recall:\n",
            "  Train - Mean: 0.7164, Std: 0.0446\n",
            "  Validation - Mean: 0.6781, Std: 0.0611\n"
          ]
        }
      ]
    },
    {
      "cell_type": "code",
      "source": [
        "results = cross_validate(DummyClassifier(strategy=\"most_frequent\"), train.drop(columns=\"Risk\"),\n",
        "                         train[\"Risk\"]=='good', cv=5,  return_train_score=True,\n",
        "                         scoring=[\"accuracy\", \"precision\", \"recall\"])"
      ],
      "metadata": {
        "id": "dqG_Ad6QcFdC"
      },
      "execution_count": null,
      "outputs": []
    },
    {
      "cell_type": "code",
      "source": [
        "for metric in [\"accuracy\", \"precision\", \"recall\"]:\n",
        "  train_scores = results[f\"train_{metric}\"]\n",
        "  test_scores = results[f\"test_{metric}\"]\n",
        "  print(f\"{metric}:\")\n",
        "  print(f\"  Train - Mean: {np.mean(train_scores):.4f}, Std: {np.std(train_scores):.4f}\")\n",
        "  print(f\"  Validation - Mean: {np.mean(test_scores):.4f}, Std: {np.std(test_scores):.4f}\")\n"
      ],
      "metadata": {
        "id": "JVkp-htzcRYT",
        "outputId": "a17d4641-b2bc-4abb-e275-3f4624b036d1",
        "colab": {
          "base_uri": "https://localhost:8080/"
        }
      },
      "execution_count": null,
      "outputs": [
        {
          "output_type": "stream",
          "name": "stdout",
          "text": [
            "accuracy:\n",
            "  Train - Mean: 0.6987, Std: 0.0006\n",
            "  Validation - Mean: 0.6988, Std: 0.0025\n",
            "precision:\n",
            "  Train - Mean: 0.6987, Std: 0.0006\n",
            "  Validation - Mean: 0.6988, Std: 0.0025\n",
            "recall:\n",
            "  Train - Mean: 1.0000, Std: 0.0000\n",
            "  Validation - Mean: 1.0000, Std: 0.0000\n"
          ]
        }
      ]
    }
  ]
}