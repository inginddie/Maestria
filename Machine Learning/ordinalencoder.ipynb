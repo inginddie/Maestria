{
 "cells": [
  {
   "cell_type": "code",
   "execution_count": 1,
   "metadata": {},
   "outputs": [],
   "source": [
    "from sklearn.preprocessing import OrdinalEncoder\n",
    "\n"
   ]
  },
  {
   "cell_type": "code",
   "execution_count": 5,
   "metadata": {},
   "outputs": [
    {
     "name": "stdout",
     "output_type": "stream",
     "text": [
      "[[0.]\n",
      " [1.]\n",
      " [2.]\n",
      " [3.]\n",
      " [4.]]\n",
      "[[0.]\n",
      " [1.]\n",
      " [2.]\n",
      " [3.]\n",
      " [4.]]\n",
      "[['malo']\n",
      " ['regular']\n",
      " ['bueno']\n",
      " ['muy bueno']\n",
      " ['excelente']]\n"
     ]
    }
   ],
   "source": [
    "data = [['malo'], ['regular'], ['bueno'],['muy bueno'], ['excelente']]\n",
    "# define ordinal encoding\n",
    "encoder = OrdinalEncoder(categories=[['malo', 'regular', 'bueno', 'muy bueno', 'excelente']])\n",
    "# transform data\n",
    "result = encoder.fit_transform(data)\n",
    "print(result)\n",
    "\n",
    "# define ordinal encoding\n",
    "encoder = OrdinalEncoder(categories=[['malo', 'regular', 'bueno', 'muy bueno', 'excelente']])\n",
    "# transform data\n",
    "result = encoder.fit_transform(data)\n",
    "print(result)\n",
    "# invert the transform\n",
    "inverted = encoder.inverse_transform(result)\n",
    "print(inverted)\n"
   ]
  },
  {
   "cell_type": "code",
   "execution_count": null,
   "metadata": {},
   "outputs": [
    {
     "name": "stdout",
     "output_type": "stream",
     "text": [
      "[[0. 0. 1. 0. 0.]\n",
      " [0. 0. 0. 0. 1.]\n",
      " [1. 0. 0. 0. 0.]\n",
      " [0. 0. 0. 1. 0.]\n",
      " [0. 1. 0. 0. 0.]]\n",
      "[[0. 0. 1. 0. 0.]\n",
      " [0. 0. 0. 0. 1.]\n",
      " [1. 0. 0. 0. 0.]\n",
      " [0. 0. 0. 1. 0.]\n",
      " [0. 1. 0. 0. 0.]]\n"
     ]
    }
   ],
   "source": [
    "from sklearn.preprocessing import OneHotEncoder\n",
    "\n",
    "data = [['malo'], ['regular'], ['bueno'], ['muy bueno'], ['excelente']]\n",
    "# define one hot encoding\n",
    "enc = OneHotEncoder()\n",
    "# transform data\n",
    "one_hot = enc.fit_transform(data).toarray()\n",
    "print(one_hot)\n"
   ]
  },
  {
   "cell_type": "code",
   "execution_count": 13,
   "metadata": {},
   "outputs": [
    {
     "name": "stdout",
     "output_type": "stream",
     "text": [
      "<Compressed Sparse Row sparse matrix of dtype 'float64'\n",
      "\twith 5 stored elements and shape (5, 5)>\n",
      "  Coords\tValues\n",
      "  (0, 0)\t1.0\n",
      "  (1, 1)\t1.0\n",
      "  (2, 2)\t1.0\n",
      "  (3, 3)\t1.0\n",
      "  (4, 4)\t1.0\n"
     ]
    }
   ],
   "source": [
    "from sklearn.pipeline import Pipeline\n",
    "\n",
    "pipeline_encoder = Pipeline([\n",
    "    ('ordinal', encoder),\n",
    "    ('onehot', enc)\n",
    "])\n",
    "\n",
    "encoded_data = pipeline_encoder.fit_transform(data)\n",
    "print(encoded_data)"
   ]
  },
  {
   "cell_type": "code",
   "execution_count": null,
   "metadata": {},
   "outputs": [],
   "source": []
  }
 ],
 "metadata": {
  "kernelspec": {
   "display_name": "Python 3",
   "language": "python",
   "name": "python3"
  },
  "language_info": {
   "codemirror_mode": {
    "name": "ipython",
    "version": 3
   },
   "file_extension": ".py",
   "mimetype": "text/x-python",
   "name": "python",
   "nbconvert_exporter": "python",
   "pygments_lexer": "ipython3",
   "version": "3.13.2"
  }
 },
 "nbformat": 4,
 "nbformat_minor": 2
}
